{
 "cells": [
  {
   "cell_type": "markdown",
   "metadata": {},
   "source": [
    "# 2.18 Programming for Geoscientists class test - 12th December 2013"
   ]
  },
  {
   "cell_type": "markdown",
   "metadata": {},
   "source": [
    "## Sample solution"
   ]
  },
  {
   "cell_type": "markdown",
   "metadata": {},
   "source": [
    "# Test instructions\n",
    "\n",
    "<span style=\"color:red\">I have added some additional comments in red</span>\n",
    "\n",
    "* This test contains **5** questions each of which should be answered. <span style=\"color:red\">The way I structure the exam is to give 5 questions that are worth 20% each. They increase in difficulty as you move from 1 through to 5 - it only makes sense that the last 20% is harder to obtain then the first 20%. Because of the clear cut nature of the questions it is possible to get 100%, and every year a few students manage just that.</span>\n",
    "* Write your program in a Python cell just under each question.\n",
    "* You can write an explanation of your solution as comments in your code. <span style=\"color:red\">There can never be too many comments. Make sure you explain everything. Do not leave me guessing. Even if you make an error in the code I may give you the benefit of the doubt if you have expained what you were trying to do in your comments.</span>\n",
    "* In each case your solution program must fulfil all of the instructions - please check the instructions carefully and double check that your program fulfils all of the given instructions.<span style=\"color:red\">Read this line again. And go back and read it again! So that an exam is marked objectively I have to partition a portion of the marks for each item asked for in the question. If you skip something then I cannot give you marks for the bit your missing - period. So read the question carefully and make sure you do everything that is asked. </span>\n",
    "* Save your work regularly. <span style=\"color:red\">The autosave is good - but you should make sure that your work is saved regularly. Lots of unusual things can happen and you do not want to be caught out.</span>\n",
    "* At the end of the test you should email your IPython notebook document (i.e. this document) to [Gerard J. Gorman](http://www.imperial.ac.uk/people/g.gorman) at g.gorman@imperial.ac.uk <span style=\"color:red\">Only some of you tested this.In 2013 2 people sent me blank documents...you have been warned.</span>"
   ]
  },
  {
   "cell_type": "markdown",
   "metadata": {},
   "source": [
    "**1.** Correct the 5 errors in the following program."
   ]
  },
  {
   "cell_type": "code",
   "execution_count": 1,
   "metadata": {
    "collapsed": true
   },
   "outputs": [
    {
     "name": "stdout",
     "output_type": "stream",
     "text": [
      "sin(1)=0.841471\n",
      "45.5555555556\n",
      "Growth = 4.2\n",
      "The year the data was collected was 1977\n",
      "[1.56, 1.67, 1.97, 1.43, 1.81]\n"
     ]
    }
   ],
   "source": [
    "# Part a\n",
    "\n",
    "# Fix: Using sin without having importing math.\n",
    "from math import *\n",
    "x=1\n",
    "print \"sin(%g)=%g\" % (x, sin(x))\n",
    "\n",
    "# Part b\n",
    "\n",
    "# Fix: Avoided integer division.\n",
    "F = 114\n",
    "print 5./9*(F-32)\n",
    "\n",
    "# Part c\n",
    "\n",
    "# Fix:\n",
    "# 1. \"%\" cannot be converted to a float because it is an invalid literal. Remove it.\n",
    "# 2. The multiplication needs to be within its own brackets. \n",
    "interest = \"0.1%\"\n",
    "print \"Growth = %g\" % (42.0*float(interest[:-1]))\n",
    "\n",
    "# Part d\n",
    "\n",
    "# Fix:\n",
    "# 1. Clearly the programmer intended to extract column 4 rather than the 4th letter. We use split to fix this.\n",
    "# 2. However, this was also a weak solution because the Survey Name may have one or more words in its name.\n",
    "#    To get around this we can count from the end.\n",
    "# 3. Finally the programmer clearly intended to use a formatted print statement so we need to add the slot\n",
    "#    and convert to an integer (could also have changed %d to %s).\n",
    "# Table header:\n",
    "#       Survey Name     USGS ID       Contributor    Year    Number of Tracklines   KMS Shot\n",
    "line = \"Beaufort Sea    W-62-77-AR    WesternGeco    1977    69                     4,987\"\n",
    "print \"The year the data was collected was %d\"% int(line.split()[-3])\n",
    "\n",
    "# Part e\n",
    "\n",
    "# Fix: You cannot append to a tuple. Change this to a list - i.e. change () to [].\n",
    "heights = [1.56, 1.67, 1.97, 1.43]\n",
    "heights.append(1.81)\n",
    "print heights"
   ]
  },
  {
   "cell_type": "markdown",
   "metadata": {},
   "source": [
    "**2.** The equation $s=ut-\\frac{1}{2}gt^2$ can be used to describe the height of a ball thrown vertically, where $s$ is the height, $u$ is the initial velocity, $t$ is the time and $g$ is acceleration (assumed here to be $9.81ms^{-2}$). \n",
    "\n",
    "* Assuming that the initial velocity is $2ms^{-1}$, plot a graph showing how the height varies from $t=0$ to the time it hits the ground, $t=\\frac{2u}{g}$.\n",
    "* Use 100 data points to generate your plot.\n",
    "* Label both the $x$ and $y$ axis appropriately."
   ]
  },
  {
   "cell_type": "code",
   "execution_count": 2,
   "metadata": {
    "collapsed": false
   },
   "outputs": [
    {
     "name": "stdout",
     "output_type": "stream",
     "text": [
      "Populating the interactive namespace from numpy and matplotlib\n"
     ]
    },
    {
     "name": "stderr",
     "output_type": "stream",
     "text": [
      "WARNING: pylab import has clobbered these variables: ['cosh', 'ldexp', 'hypot', 'tan', 'isnan', 'log', 'fabs', 'floor', 'sqrt', 'frexp', 'degrees', 'pi', 'log10', 'sin', 'modf', 'copysign', 'expm1', 'ceil', 'isinf', 'sinh', 'trunc', 'cos', 'e', 'tanh', 'radians', 'fmod', 'exp', 'log1p', 'gamma']\n",
      "`%matplotlib` prevents importing * from pylab and numpy\n"
     ]
    },
    {
     "data": {
      "image/png": "[encoded data removed]",
      "text/plain": [
       "<matplotlib.figure.Figure at 0x1045ed2d0>"
      ]
     },
     "metadata": {},
     "output_type": "display_data"
    }
   ],
   "source": [
    "# Remember to inline pylab so that the graphs are part of the notebook and not a seperate window.\n",
    "%pylab inline\n",
    "\n",
    "from pylab import *\n",
    "\n",
    "# Define a function that calculates the height.\n",
    "def calc_height(u, t, g=9.81):\n",
    "    return u*t-0.5*g*t**2\n",
    "\n",
    "# Define a function to calculate the landing time.\n",
    "def landing_time(u, g=9.81):\n",
    "    return 2*u/g\n",
    "\n",
    "# Initialise variables.\n",
    "u_initial = 2.0 \n",
    "t_start = 0\n",
    "t_end = landing_time(u_initial)\n",
    "\n",
    "# Create 100 data points for time.\n",
    "time = linspace(0, t_end, 100)\n",
    "\n",
    "# Calculate 100 corresponding data points for height.\n",
    "height = calc_height(u_initial, time)\n",
    "\n",
    "# Basic plot with axes labeled.\n",
    "plot(time, height)\n",
    "xlabel(\"Time/seconds\")\n",
    "ylabel(\"Height/meters\")\n",
    "show()"
   ]
  },
  {
   "cell_type": "markdown",
   "metadata": {},
   "source": [
    "**3.** The Gaussian function can be defined as:\n",
    "$$g(x) = ae^{\\frac{(x-b)^2}{2c^2}}-d.$$\n",
    "\n",
    "* Implement a Python function that evaluates this expression for a given input for x.\n",
    "* The parameters $a$, $b$, $c$ and $d$ should be optional arguments to the function with default values 1.0, 0, 1.0 and 0.0 respectively.\n",
    "* Use NumPy to create an array of 101 $x$ values uniformly spaced in the range [−1, 1].\n",
    "* Use the function you created in the first part to create an array of Gaussian values.\n",
    "* Plot the result."
   ]
  },
  {
   "cell_type": "code",
   "execution_count": 3,
   "metadata": {
    "collapsed": false
   },
   "outputs": [
    {
     "data": {
      "image/png": "[encoded data removed]",
      "text/plain": [
       "<matplotlib.figure.Figure at 0x1039eaed0>"
      ]
     },
     "metadata": {},
     "output_type": "display_data"
    }
   ],
   "source": [
    "from numpy import *\n",
    "\n",
    "# Define the Gaussian function\n",
    "def gaussian(x, a=1.0, b=0.0, c=1.0, d=0.0):\n",
    "    return a*exp((x-b)**2/(2*c**2)) - d\n",
    "\n",
    "# Use numpy's linspace to create 101 points in the range [-1, 1]. It is an odd\n",
    "# number so we can have a point centred on 0.\n",
    "x = linspace(-1.0, 1.0, 101)\n",
    "\n",
    "# Calculate the corresponding values for the Gaussian function.\n",
    "g_x = gaussian(x)\n",
    "\n",
    "# Plot graph\n",
    "plot(x, g_x)\n",
    "\n",
    "# We were not asked but out if habit I cannot resist adding labels\n",
    "# on the axis - no matter how trivial. MathJax is thrown in just \n",
    "# for fun so you can see that it is possible to have beautyful\n",
    "# looking equations.\n",
    "xlabel(r\"$x$\")\n",
    "ylabel(r\"$a e^{\\frac{(x-b)^2}{2 c^2}} - d$\")\n",
    "\n",
    "show()"
   ]
  },
  {
   "cell_type": "markdown",
   "metadata": {},
   "source": [
    "**4.** The file *hpip\\_yakutsk\\_borehole\\_data.txt* (provided with this IPython notebook file) contains permafrost borehole temperature data (in degrees Celsius) for January between the years 1915 and 2000. By looking at the header of the text file you can see that the 2$^{nd}$ column contains the temperatures at a depth of 0.80m, the 3$^{rd}$ column contains the temperatures at a depth of 3.20m and the 4$^{th}$ column gives the surface temperatures taken from the *World Monthly Surface Climatology dataset (ds570.0)*. A temperature value of \"-999\" indicates that the data value is missing.\n",
    "\n",
    "* Write a program that reads in this data and plots each of the temperature profiles against the year.\n",
    "* Any year that contains missing temperature data (*i.e.* has a value of -999) should be skipped.\n",
    "* Label the *x* and *y* axis clearly.\n",
    "* Provide a legend and locate it in the best position for the plot."
   ]
  },
  {
   "cell_type": "code",
   "execution_count": 4,
   "metadata": {
    "collapsed": true
   },
   "outputs": [
    {
     "data": {
      "image/png": "[encoded data removed]",
      "text/plain": [
       "<matplotlib.figure.Figure at 0x106693410>"
      ]
     },
     "metadata": {},
     "output_type": "display_data"
    }
   ],
   "source": [
    "# Open the file in read mode.\n",
    "infile = open(\"hpip_yakutsk_borehole_data.txt\", \"r\")\n",
    "\n",
    "year = []\n",
    "temperature = {\"Surface temperature\":[], \"0.80m\":[], \"3.20m\":[]}\n",
    "\n",
    "for line in infile:\n",
    "    # Instructions are to skip any data that has a value of -999. So lets\n",
    "    # check this condition first.\n",
    "    if \"-999.0\" in line:\n",
    "        continue\n",
    "\n",
    "    # Start to splitting into columns\n",
    "    words = line.split()\n",
    "    \n",
    "    # Use a try/except block to do the reading concisely. We will raise an \n",
    "    # exception any time something something unexpected occures.\n",
    "    try:\n",
    "        lyear = int(words[0])\n",
    "        ldepth1 = float(words[1])\n",
    "        ldepth2 = float(words[2])\n",
    "        ldepth0 = float(words[3])\n",
    "        \n",
    "        year.append(lyear)\n",
    "        temperature[\"Surface temperature\"].append(ldepth0)\n",
    "        temperature[\"0.80m\"].append(ldepth1)\n",
    "        temperature[\"3.20m\"].append(ldepth2)\n",
    "        \n",
    "    except:\n",
    "        continue\n",
    "\n",
    "# Add the three plots\n",
    "plot(year, temperature[\"Surface temperature\"])\n",
    "plot(year, temperature[\"0.80m\"])\n",
    "plot(year, temperature[\"3.20m\"])\n",
    "\n",
    "# Label the axis\n",
    "xlabel(\"Year\")\n",
    "ylabel(\"Temperature/Celsius\")\n",
    "\n",
    "# Add a legend to explain the three plots - notice the use of loc to specify the\n",
    "# location of the legend box\n",
    "legend((\"Surface temperature\", \"0.80m\", \"3.20m\"), loc=\"best\")\n",
    "show()"
   ]
  },
  {
   "cell_type": "markdown",
   "metadata": {},
   "source": [
    "**5.** Create a Python class for *Igneous Rocks*.\n",
    "\n",
    "* The class should have the following attributes: *Rock Type*, *Grain Size*, *Usual Colour*, *Composition*, and *Notes*.\n",
    "* Add a class method to initialise the class.\n",
    "* Add a class method to print out a description of an object of this class.\n",
    "* Demonstrate the functionality of the class using the rock *Obsidian* where the grain size is *fine*, the usual colour is *dark*, the composition is *lava glass* and we note that it has a *glassy appearance*.\n",
    "* Use the class member function to print out the rock description."
   ]
  },
  {
   "cell_type": "code",
   "execution_count": 5,
   "metadata": {
    "collapsed": false
   },
   "outputs": [
    {
     "name": "stdout",
     "output_type": "stream",
     "text": [
      "Rock type: Obsidian\n",
      "Grain size: fine\n",
      "Usual colour: dark\n",
      "Composition: Lava glass\n",
      "Notes: It has a glassy appearance\n"
     ]
    }
   ],
   "source": [
    "class IgneousRocks:\n",
    "    # Initialise the attributes. Using the convention that a name starting with \"_\"\n",
    "    # should be treated as a private.\n",
    "    def __init__(self, rock_type=None, grain_size=None, usual_colour=None, composition=None, notes=None):\n",
    "        self._rock_type=rock_type\n",
    "        self._grain_size=grain_size\n",
    "        self._usual_colour=usual_colour\n",
    "        self._composition=composition\n",
    "        self._notes=notes\n",
    "    \n",
    "    # Define the string that should be printed if we try to print an instance of the class.\n",
    "    def __str__(self):\n",
    "        return \"\"\"Rock type: %s\n",
    "Grain size: %s\n",
    "Usual colour: %s\n",
    "Composition: %s\n",
    "Notes: %s\"\"\"%(self._rock_type, self._grain_size, self._usual_colour, self._composition, self._notes)\n",
    "\n",
    "# Demonstrate the class on some old rock.\n",
    "some_old_rock = IgneousRocks(rock_type=\"Obsidian\", grain_size=\"fine\", \\\n",
    "                             usual_colour=\"dark\", composition=\"Lava glass\", \\\n",
    "                             notes=\"It has a glassy appearance\")\n",
    "\n",
    "# Show the __str__ in action.\n",
    "print some_old_rock"
   ]
  },
  {
   "cell_type": "code",
   "execution_count": 5,
   "metadata": {
    "collapsed": false
   },
   "outputs": [],
   "source": []
  }
 ],
 "metadata": {
  "kernelspec": {
   "display_name": "Python 2",
   "language": "python",
   "name": "python2"
  },
  "language_info": {
   "codemirror_mode": {
    "name": "ipython",
    "version": 2
   },
   "file_extension": ".py",
   "mimetype": "text/x-python",
   "name": "python",
   "nbconvert_exporter": "python",
   "pygments_lexer": "ipython2",
   "version": "2.7.11"
  }
 },
 "nbformat": 4,
 "nbformat_minor": 0
}
