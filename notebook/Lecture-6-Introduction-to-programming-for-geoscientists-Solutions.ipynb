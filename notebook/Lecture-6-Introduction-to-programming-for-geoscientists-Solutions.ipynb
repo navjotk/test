{
 "cells": [
  {
   "cell_type": "markdown",
   "metadata": {},
   "source": [
    "# Introduction to programming for Geoscientists through Python\n",
    "\n",
    "# Lecture 6 solutions\n",
    "\n",
    "## [Gerard J. Gorman (g.gorman@imperial.ac.uk)](http://www.imperial.ac.uk/people/g.gorman), [Nicolas Barral (n.barral@imperial.ac.uk)](http://www.imperial.ac.uk/people/n.barral)"
   ]
  },
  {
   "cell_type": "markdown",
   "metadata": {},
   "source": [
    "* **Read a two-column data file**</br>\n",
    "The file *data/xy.dat* contains two columns of numbers, corresponding to *x* and *y* coordinates on a curve. The start of the file looks like this:\n",
    "\n",
    "-1.0000   -0.0000</br>\n",
    "-0.9933   -0.0087</br>\n",
    "-0.9867   -0.0179</br>\n",
    "-0.9800   -0.0274</br>\n",
    "-0.9733   -0.0374</br>\n",
    "\n",
    "Make a program that reads the first column into a list *x* and the second column into a list *y*. Then convert the lists to arrays, and plot the curve. Print out the maximum and minimum y coordinates. (Hint: Read the file line by line, split each line into words, convert to float, and append to *x* and *y*.)</br>"
   ]
  },
  {
   "cell_type": "code",
   "execution_count": 12,
   "metadata": {
    "collapsed": true
   },
   "outputs": [],
   "source": [
    "## STAGE 1: input\n",
    "\n",
    "# Open data file\n",
    "infile = open(\"data/xy.dat\", \"r\") # \"r\" is for read\n",
    "\n",
    "# Initialise empty lists\n",
    "xlist = []\n",
    "ylist = []\n",
    "\n",
    "# Loop through infile and write to x and y lists\n",
    "for line in infile:\n",
    "    line = line.split() # convert to list by dropping spaces\n",
    "    xlist.append(float(line[0])) # take 0th element and covert to float\n",
    "    ylist.append(float(line[1])) # take 1st element and covert to float\n",
    "\n",
    "\n",
    "# Close the filehandle\n",
    "infile.close()"
   ]
  },
  {
   "cell_type": "code",
   "execution_count": 13,
   "metadata": {},
   "outputs": [
    {
     "name": "stdout",
     "output_type": "stream",
     "text": [
      "First ten elements in x and y lists:\n",
      "\n",
      "X = -1.00, Y = -0.00\n",
      "X = -0.99, Y = -0.01\n",
      "X = -0.99, Y = -0.02\n",
      "X = -0.98, Y = -0.03\n",
      "X = -0.97, Y = -0.04\n",
      "X = -0.97, Y = -0.05\n",
      "X = -0.96, Y = -0.06\n",
      "X = -0.95, Y = -0.07\n",
      "X = -0.95, Y = -0.08\n",
      "X = -0.94, Y = -0.09\n",
      "\n",
      "The min and max y are: -0.95 and 0.95\n"
     ]
    }
   ],
   "source": [
    "## STAGE 2: view file\n",
    "\n",
    "# Sanity check -- Let's see what our lists look like for the first 10\n",
    "print(\"First ten elements in x and y lists:\\n\") # N.B. \"\\n\" adds a newline\n",
    "for i in range(10):\n",
    "    print(\"X = %.2f, Y = %.2f\" % (xlist[i], ylist[i]))\n",
    "\n",
    "# Max and min y coords\n",
    "print(\"\\nThe min and max y are: %.2f and %.2f\" % (min(ylist), max(ylist)))"
   ]
  },
  {
   "cell_type": "code",
   "execution_count": 14,
   "metadata": {},
   "outputs": [
    {
     "data": {
      "image/png": "[encoded data removed]",
      "text/plain": [
       "<matplotlib.figure.Figure at 0x1116a8da0>"
      ]
     },
     "metadata": {},
     "output_type": "display_data"
    }
   ],
   "source": [
    "## STAGE 3: plotting\n",
    "\n",
    "# Convert to array\n",
    "from numpy import *\n",
    "xarray = array(xlist)\n",
    "yarray = array(ylist)\n",
    "\n",
    "# plot\n",
    "from pylab import *\n",
    "plot(xlist, ylist)\n",
    "xlabel(\"X\")\n",
    "ylabel(\"Y\")\n",
    "show()"
   ]
  },
  {
   "cell_type": "markdown",
   "metadata": {},
   "source": [
    "* **Read a data file**</br>\n",
    "The files data/density_water.dat and data/density_air.dat contain data about the density of water and air (respectively) for different temperatures. The data files have some comment lines starting with # and some lines are blank. The rest of the lines contain density data: the temperature in the first column and the corresponding density in the second column. The goal of this exercise is to read the data in such a file and plot the density versus the temperature as distinct (small) circles for each data point. Apply the program to both files."
   ]
  },
  {
   "cell_type": "code",
   "execution_count": 15,
   "metadata": {},
   "outputs": [
    {
     "name": "stdout",
     "output_type": "stream",
     "text": [
      "[-10.0, -5.0, 0.0, 5.0, 10.0, 15.0, 20.0, 25.0, 30.0]\n"
     ]
    }
   ],
   "source": [
    "## STAGE 1: work with one file\n",
    "# precede exactly as before but with modified for loop:\n",
    "#  line[0] -- refers to the first character in a string\n",
    "#  != -- boolean operator for 'not equal to'\n",
    "#  and -- boolean operator, both T/F statements must be met\n",
    "#  commented lines will start with a #, blank lines will consist of just a newline character '\\n'\n",
    "infile = open(\"data/density_air.dat\", \"r\")\n",
    "temp = []\n",
    "dens = []\n",
    "for line in infile:\n",
    "    try:\n",
    "        t, d = line.split()\n",
    "        t = float(t)\n",
    "        d = float(d)\n",
    "    except:\n",
    "        continue\n",
    "    temp.append(t) # N.B. we're now filling out temp and dens lists\n",
    "    dens.append(d)\n",
    "infile.close()\n",
    "\n",
    "\n",
    "# Sanity check:\n",
    "print(temp)\n",
    "\n",
    "# ... double check the original file to make sure this is right."
   ]
  },
  {
   "cell_type": "code",
   "execution_count": 16,
   "metadata": {},
   "outputs": [
    {
     "name": "stdout",
     "output_type": "stream",
     "text": [
      "[-10.0, -5.0, 0.0, 5.0, 10.0, 15.0, 20.0, 25.0, 30.0]\n"
     ]
    }
   ],
   "source": [
    "## STAGE 2: \n",
    "# Let's write it up as a function\n",
    "# We'll use exactly the same code as before\n",
    "\n",
    "\n",
    "def readTempDenFile(filename = \"data/density_air.dat\"):\n",
    "    infile = open(filename, \"r\")\n",
    "    temp = []\n",
    "    dens = []\n",
    "    for line in infile:\n",
    "        try:\n",
    "            t, d = line.split()\n",
    "            t = float(t)\n",
    "            d = float(d)\n",
    "        except:\n",
    "            continue\n",
    "        temp.append(t) # N.B. we're now filling out temp and dens lists\n",
    "        dens.append(d)\n",
    "    infile.close()\n",
    "    return temp,dens\n",
    "            \n",
    "# function defined, let's run it\n",
    "temp,dens = readTempDenFile() # unpack into two objects temp and dens\n",
    "print(temp)"
   ]
  },
  {
   "cell_type": "code",
   "execution_count": 17,
   "metadata": {},
   "outputs": [
    {
     "data": {
      "image/png": "[encoded data removed]",
      "text/plain": [
       "<matplotlib.figure.Figure at 0x1115d7470>"
      ]
     },
     "metadata": {},
     "output_type": "display_data"
    },
    {
     "data": {
      "image/png": "[encoded data removed]",
      "text/plain": [
       "<matplotlib.figure.Figure at 0x1115dd828>"
      ]
     },
     "metadata": {},
     "output_type": "display_data"
    },
    {
     "data": {
      "text/plain": [
       "([0.0, 4.0, 15.0, 20.0, 25.0, 37.0, 50.0, 100.0],\n",
       " [999.8425, 999.975, 999.1026, 998.2071, 997.0479, 993.3316, 988.04, 958.3665])"
      ]
     },
     "execution_count": 17,
     "metadata": {},
     "output_type": "execute_result"
    }
   ],
   "source": [
    "## STAGE 3: plotting\n",
    "# same as before but with the plotting lines of code in our function\n",
    "\n",
    "# remember to have %pylab inline for ipython\n",
    "# ... and to import pylab and numpy if not already imported\n",
    "from pylab import *\n",
    "from numpy import *\n",
    "\n",
    "def readTempDenFile(filename = \"data/density_air.dat\"):\n",
    "    infile = open(filename, \"r\")\n",
    "    temp = []\n",
    "    dens = []\n",
    "    for line in infile:\n",
    "        try:\n",
    "            t, d = line.split()\n",
    "            t = float(t)\n",
    "            d = float(d)\n",
    "        except:\n",
    "            continue\n",
    "        temp.append(t) # N.B. we're now filling out temp and dens lists\n",
    "        dens.append(d)\n",
    "    infile.close()\n",
    "    plot(array(temp), array(dens))\n",
    "    xlabel(\"Temperature (C)\")\n",
    "    ylabel(\"Density (kg/m^3)\")\n",
    "    show()\n",
    "    return temp,dens\n",
    "\n",
    "# run function\n",
    "readTempDenFile()\n",
    "readTempDenFile(\"data/density_water.dat\")"
   ]
  },
  {
   "cell_type": "markdown",
   "metadata": {},
   "source": [
    "* **Read acceleration data and find velocities**</br>\n",
    "A file data/acc.dat contains measurements $a_0, a_1, \\ldots, a_{n-1}$ of the acceleration of an object moving along a straight line. The measurement $a_k$ is taken at time point $t_k = k\\Delta t$, where $\\Delta t$ is the time spacing between the measurements. The purpose of the exercise is to load the acceleration data into a program and compute the velocity $v(t)$ of the object at some time $t$.\n",
    "\n",
    "In general, the acceleration $a(t)$ is related to the velocity $v(t)$ through $v^\\prime(t) = a(t)$. This means that\n",
    "\n",
    "$$\n",
    "v(t) = v(0) + \\int_0^t{a(\\tau)d\\tau}\n",
    "$$\n",
    "\n",
    "If $a(t)$ is only known at some discrete, equally spaced points in time, $a_0, \\ldots, a_{n-1}$ (which is the case in this exercise), we must compute the integral above numerically, for example by the Trapezoidal rule:\n",
    "\n",
    "$$\n",
    "v(t_k) \\approx v(0) + \\Delta t \\left(\\frac{1}{2}a_0 + \\frac{1}{2}a_k + \\sum_{i=1}^{k-1}a_i \\right), \\ \\ 1 \\leq k \\leq n-1. \n",
    "$$\n",
    "\n",
    "We assume $v(0) = 0$ so that also $v_0 = 0$.\n",
    "Read the values $a_0, \\ldots, a_{n-1}$ from file into an array, plot the acceleration versus time, and use the Trapezoidal rule to compute one $v(t_k)$ value. Experiment with different values of $\\Delta t$ and $k$."
   ]
  },
  {
   "cell_type": "code",
   "execution_count": 18,
   "metadata": {},
   "outputs": [
    {
     "name": "stdout",
     "output_type": "stream",
     "text": [
      "Populating the interactive namespace from numpy and matplotlib\n"
     ]
    },
    {
     "data": {
      "image/png": "[encoded data removed]",
      "text/plain": [
       "<matplotlib.figure.Figure at 0x111511eb8>"
      ]
     },
     "metadata": {},
     "output_type": "display_data"
    }
   ],
   "source": [
    "## PART 1: read and plot\n",
    "# specify libraries\n",
    "%pylab inline\n",
    "from pylab import *\n",
    "from numpy import *\n",
    "\n",
    "dt = 0.5\n",
    "\n",
    "# read in acceleration\n",
    "infile = open(\"data/acc.dat\", \"r\")\n",
    "alist = []\n",
    "for line in infile:\n",
    "    alist.append(float(line))\n",
    "infile.close()\n",
    "aarray = array(alist)\n",
    "time = array([e*dt for e in range(len(alist))]) # time is specified by dt and the number of elements in acc.dat\n",
    "\n",
    "# plot\n",
    "plot(time, aarray)\n",
    "xlabel(\"Time\")\n",
    "ylabel(\"Acceleration\")\n",
    "show()"
   ]
  },
  {
   "cell_type": "code",
   "execution_count": 19,
   "metadata": {},
   "outputs": [
    {
     "name": "stdout",
     "output_type": "stream",
     "text": [
      "0.0820085591101\n"
     ]
    }
   ],
   "source": [
    "## PART 2: trapezoidal function\n",
    "\n",
    "def trap(dt, k, alist):\n",
    "    if not (1 <= k <= (len(alist) - 1)):\n",
    "        raise ValueError\n",
    "    return dt*(.5*alist[0] + .5*alist[k] + sum(alist[:k]))\n",
    "\n",
    "dt = 2\n",
    "k = 4\n",
    "print(trap(dt, k, alist))"
   ]
  },
  {
   "cell_type": "markdown",
   "metadata": {},
   "source": [
    "* **Make a dictionary from a table**</br>\n",
    "The file *data/constants.txt* contains a table of the values and the dimensions of some fundamental constants from physics. We want to load this table into a dictionary *constants*, where the keys are the names of the constants. For example, *constants['gravitational constant']* holds the value of the gravitational constant (6.67259 $\\times$ 10$^{-11}$) in Newton's law of gravitation. Make a function that reads and interprets the text in the file, and thereafter returns the dictionary."
   ]
  },
  {
   "cell_type": "code",
   "execution_count": 20,
   "metadata": {},
   "outputs": [
    {
     "name": "stdout",
     "output_type": "stream",
     "text": [
      "{'speed of light': 299792458.0, 'gravitational constant': 6.67259e-11, 'Planck constant': 6.6260755e-34, 'elementary charge': 1.60217733e-19, 'Avogadro number': 6.0221367e+23, 'Boltzmann constant': 1.380658e-23, 'electron mass': 9.1093897e-31, 'proton mass': 1.6726231e-27}\n"
     ]
    }
   ],
   "source": [
    "def read_constants(file_path):\n",
    "    infile = open(file_path, \"r\")\n",
    "    constants = {} # An empty dictionary to store the constants that are read in from the file\n",
    "    infile.readline(); infile.readline() # Skip the first two lines of the file, since these just contain the column names and the separator.\n",
    "    for line in infile:\n",
    "        words = line.split() # Split each line up into individual words\n",
    "        dimension = words.pop() # pop is a list operation that removes the last element from a list and returns it\n",
    "        value = float(words.pop()) # Again, use pop to obtain the constant itself.\n",
    "        name = \" \".join(words) # After the two 'pop' operations above, the words remaining in the 'words' list must be the name of the constant. Join the individual words together, with spaces inbetween, using .join.\n",
    "        constants[name] = value # Create a new key-value pair in the dictionary\n",
    "    return constants\n",
    "\n",
    "print(read_constants('data/constants.txt'))"
   ]
  },
  {
   "cell_type": "markdown",
   "metadata": {},
   "source": [
    "* **Explore syntax differences: lists vs. dictionaries**</br>\n",
    "Consider this code:"
   ]
  },
  {
   "cell_type": "code",
   "execution_count": 21,
   "metadata": {},
   "outputs": [
    {
     "name": "stdout",
     "output_type": "stream",
     "text": [
      "{0: -5, 1: 10.5}\n"
     ]
    }
   ],
   "source": [
    "t1 = {} # this specifies a dictionary\n",
    "t1[0] = -5 # create a new key called 0, give it the value -5\n",
    "t1[1] = 10.5 # create a new key called 1, give it the value 10.5\n",
    "\n",
    "print(t1) # shows the contents of 0 and 1"
   ]
  },
  {
   "cell_type": "markdown",
   "metadata": {},
   "source": [
    "Explain why the lines above work fine while the ones below do not:"
   ]
  },
  {
   "cell_type": "code",
   "execution_count": 22,
   "metadata": {},
   "outputs": [
    {
     "ename": "IndexError",
     "evalue": "list assignment index out of range",
     "output_type": "error",
     "traceback": [
      "\u001b[0;31m---------------------------------------------------------------------------\u001b[0m",
      "\u001b[0;31mIndexError\u001b[0m                                Traceback (most recent call last)",
      "\u001b[0;32m<ipython-input-22-f5b601b7e131>\u001b[0m in \u001b[0;36m<module>\u001b[0;34m()\u001b[0m\n\u001b[1;32m      1\u001b[0m \u001b[0mt2\u001b[0m \u001b[0;34m=\u001b[0m \u001b[0;34m[\u001b[0m\u001b[0;34m]\u001b[0m \u001b[0;31m# this specifies a list\u001b[0m\u001b[0;34m\u001b[0m\u001b[0m\n\u001b[0;32m----> 2\u001b[0;31m \u001b[0mt2\u001b[0m\u001b[0;34m[\u001b[0m\u001b[0;36m0\u001b[0m\u001b[0;34m]\u001b[0m \u001b[0;34m=\u001b[0m \u001b[0;34m-\u001b[0m\u001b[0;36m5\u001b[0m\u001b[0;34m\u001b[0m\u001b[0m\n\u001b[0m\u001b[1;32m      3\u001b[0m \u001b[0mt2\u001b[0m\u001b[0;34m[\u001b[0m\u001b[0;36m1\u001b[0m\u001b[0;34m]\u001b[0m \u001b[0;34m=\u001b[0m \u001b[0;36m10.5\u001b[0m\u001b[0;34m\u001b[0m\u001b[0m\n\u001b[1;32m      4\u001b[0m \u001b[0;31m# cannot work, raises and IndexError\u001b[0m\u001b[0;34m\u001b[0m\u001b[0;34m\u001b[0m\u001b[0m\n\u001b[1;32m      5\u001b[0m \u001b[0;31m# [] notation is for indexing in lists\u001b[0m\u001b[0;34m\u001b[0m\u001b[0;34m\u001b[0m\u001b[0m\n",
      "\u001b[0;31mIndexError\u001b[0m: list assignment index out of range"
     ]
    }
   ],
   "source": [
    "t2 = [] # this specifies a list\n",
    "t2[0] = -5\n",
    "t2[1] = 10.5\n",
    "# cannot work, raises and IndexError\n",
    "# [] notation is for indexing in lists\n",
    "# this is trying to specify the 0th element is -5\n",
    "# IndexError is raised because the intial list has no dimensions, and therefore [0] is out of index\n",
    "# Dictionaries behave differently, the [] notation will create a new key and add the specified element to the dictionary"
   ]
  },
  {
   "cell_type": "markdown",
   "metadata": {},
   "source": [
    "What must be done in the last code snippet to make it work properly?"
   ]
  },
  {
   "cell_type": "code",
   "execution_count": 23,
   "metadata": {},
   "outputs": [
    {
     "name": "stdout",
     "output_type": "stream",
     "text": [
      "[-5, 10.5]\n",
      "[-5, 10.5]\n"
     ]
    }
   ],
   "source": [
    "## To make it work properly we have two options\n",
    "\n",
    "# 1. specify the list's dimension before asignment\n",
    "t2 = [0]*2 # a list containing two 0s\n",
    "t2[0] = -5\n",
    "t2[1] = 10.5\n",
    "print(t2)\n",
    "del t2\n",
    "\n",
    "# 2. start with a dimensionless list, but append new elements\n",
    "t2 = []\n",
    "t2.append(-5)\n",
    "t2.append(10.5)\n",
    "print(t2)"
   ]
  },
  {
   "cell_type": "markdown",
   "metadata": {},
   "source": [
    "* **Compute the area of a triangle**</br>\n",
    "An arbitrary triangle can be described by the coordinates of its three vertices: $(x_1, y_1), (x_2, y_2), (x_3, y_3)$, numbered in a counterclockwise direction. The area of the triangle is given by the formula:\n",
    "\n",
    "$A = \\frac{1}{2}|x_2y_3 - x_3y_2 - x_1y_3 + x_3y_1 + x_1y_2 - x_2y_1|.$\n",
    "\n",
    "Write a function *area(vertices)* that returns the area of a triangle whose vertices are specified by the argument vertices, which is a nested list of the vertex coordinates. For example, vertices can be [[0,0], [1,0], [0,2]] if the three corners of the triangle have coordinates (0, 0), (1, 0), and (0, 2).\n",
    "\n",
    "Then, assume that the vertices of the triangle are stored in a dictionary and not a list. The keys in the dictionary correspond to the vertex number (1, 2, or 3) while the values are 2-tuples with the x and y coordinates of the vertex. For example, in a triangle with vertices (0, 0), (1, 0), and (0, 2) the vertices argument becomes:"
   ]
  },
  {
   "cell_type": "code",
   "execution_count": 24,
   "metadata": {},
   "outputs": [
    {
     "name": "stdout",
     "output_type": "stream",
     "text": [
      "1.0\n"
     ]
    }
   ],
   "source": [
    "## STAGE 1: area function on list\n",
    "\n",
    "def area(vertices):\n",
    "    # nb. vertices = [[x1,y1],[x2,y2],[x3,y3]]\n",
    "    x2y3 = vertices[1][0] * vertices[2][1]\n",
    "    x3y2 = vertices[2][0] * vertices[1][1]\n",
    "    x1y3 = vertices[0][0] * vertices[2][1]\n",
    "    x3y1 = vertices[2][0] * vertices[0][1]\n",
    "    x1y2 = vertices[0][0] * vertices[1][1]\n",
    "    x2y1 = vertices[1][0] * vertices[0][1]\n",
    "    return .5*(x2y3 - x3y2 - x1y3 + x3y1 + x1y2 - x2y1)\n",
    "\n",
    "print(area([[0.0,0.0],[1.0,0.0],[0.0,2.0]]))"
   ]
  },
  {
   "cell_type": "code",
   "execution_count": 25,
   "metadata": {},
   "outputs": [
    {
     "name": "stdout",
     "output_type": "stream",
     "text": [
      "1.0\n"
     ]
    }
   ],
   "source": [
    "## STAGE 2: area function on dict\n",
    "\n",
    "def area(vertices):\n",
    "    # nb. vertices = {v1: (x,y)}\n",
    "    x2y3 = vertices[2][0] * vertices[3][1]\n",
    "    x3y2 = vertices[3][0] * vertices[2][1]\n",
    "    x1y3 = vertices[1][0] * vertices[3][1]\n",
    "    x3y1 = vertices[3][0] * vertices[1][1]\n",
    "    x1y2 = vertices[1][0] * vertices[2][1]\n",
    "    x2y1 = vertices[2][0] * vertices[1][1]\n",
    "    return .5*(x2y3 - x3y2 - x1y3 + x3y1 + x1y2 - x2y1)\n",
    "\n",
    "print(area({1: (0,0), 2: (1,0), 3: (0,2)}))"
   ]
  },
  {
   "cell_type": "markdown",
   "metadata": {},
   "source": [
    "* **Improve a program**</br>\n",
    "The file *data/densities.dat* contains a table of densities of various substances measured in g/cm$^3$. The following program reads the data in this file and produces a dictionary whose keys are the names of substances, and the values are the corresponding densities."
   ]
  },
  {
   "cell_type": "code",
   "execution_count": 26,
   "metadata": {
    "collapsed": true
   },
   "outputs": [],
   "source": [
    "def read_densities(filename):\n",
    "    infile = open(filename, 'r')\n",
    "    densities = {}\n",
    "    for line in infile:\n",
    "        words = line.split()\n",
    "        density = float(words[-1])\n",
    "    \n",
    "        if len(words[:-1]) == 2:\n",
    "            substance = words[0] + ' ' + words[1]\n",
    "        else:\n",
    "            substance = words[0]\n",
    "        \n",
    "        densities[substance] = density\n",
    "    \n",
    "    infile.close()\n",
    "    return densities\n",
    "\n",
    "densities = read_densities('data/densities.dat')"
   ]
  },
  {
   "cell_type": "markdown",
   "metadata": {},
   "source": [
    "One problem we face when implementing the program above is that the name of the substance can contain one or two words, and maybe more words in a more comprehensive table. The purpose of this exercise is to use string operations to shorten the code and make it more general. Implement the following two methods in separate functions in the same program, and control that they give the same result.\n",
    "\n",
    "1. Let *substance* consist of all the words but the last, using the join method in string objects to combine the words.\n",
    "2. Observe that all the densities start in the same column file and use substrings to divide line into two parts. (Hint: Remember to strip the first part such that, e.g., the density of ice is obtained as *densities['ice']* and not *densities['ice     ']*.)"
   ]
  },
  {
   "cell_type": "code",
   "execution_count": 27,
   "metadata": {},
   "outputs": [
    {
     "name": "stdout",
     "output_type": "stream",
     "text": [
      "{'air': 0.0012, 'gasoline': 0.67, 'ice': 0.9, 'pure_water': 1.0, 'seawater': 1.025, 'human_body': 1.03, 'limestone': 2.6, 'granite': 2.7, 'iron': 7.8, 'silver': 10.5, 'mercury': 13.6, 'gold': 18.9, 'platinium': 21.4, 'Earth_mean': 5.52, 'Earth_core': 13.0, 'Moon': 3.3, 'Sun_mean': 1.4, 'Sun_core': 160.0, 'proton': 280000000000000.0}\n"
     ]
    }
   ],
   "source": [
    "## STAGE 1: using string function join\n",
    "\n",
    "def read_densities(filename):\n",
    "    infile = open(filename, 'r')\n",
    "    densities = {}\n",
    "    for line in infile:\n",
    "        words = line.split()\n",
    "        density = float(words.pop()) # pop is a list operation that removes the last element from a list and returns it\n",
    "        substance = \"_\".join(words) # join the remaining words with _\n",
    "        densities[substance] = density\n",
    "    infile.close()\n",
    "    return densities\n",
    "\n",
    "densities = read_densities('data/densities.dat')\n",
    "print(densities)"
   ]
  },
  {
   "cell_type": "code",
   "execution_count": 28,
   "metadata": {
    "collapsed": true
   },
   "outputs": [],
   "source": [
    "## STAGE 2: Using string slicing and operations\n",
    "\n",
    "def read_densities(filename):\n",
    "    infile = open(filename, 'r')\n",
    "    densities = {}\n",
    "    for line in infile:\n",
    "        density = float(line[12:]) # column 13 onwards\n",
    "        substance = line[:12] # upto coumn 12\n",
    "        substance = substance.strip() # remove trailing spaces\n",
    "        substance = substance.replace(\" \", \"_\") # replace spaces with _\n",
    "        densities[substance] = density\n",
    "    infile.close()\n",
    "    return densities\n",
    "\n",
    "densities = read_densities('data/densities.dat')"
   ]
  },
  {
   "cell_type": "markdown",
   "metadata": {},
   "source": [
    "* **Write function data to a file**</br>\n",
    "We want to dump $x$ and $f(x)$ values to a file named function_data.dat, where the $x$ values appear in the first column and the $f(x)$ values appear in the second. Choose $n$ equally spaced $x$ values in the interval [-4, 4]. Here, the function $f(x)$ is given by:\n",
    "\n",
    "$f(x) = \\frac{1}{\\sqrt{2\\pi}}\\exp(-0.5x^2)$</br></br>"
   ]
  },
  {
   "cell_type": "code",
   "execution_count": 29,
   "metadata": {
    "collapsed": true
   },
   "outputs": [],
   "source": [
    "# libs\n",
    "from numpy import *\n",
    "from math import pi\n",
    "\n",
    "# define our function\n",
    "def f(x):\n",
    "    return (1.0/sqrt(2.0*pi))*exp(-.5*x**2.0)\n",
    "\n",
    "# let's make our x\n",
    "xarray = linspace(-4.0, 4.0, 100)\n",
    "fxs = f(xarray)\n",
    "\n",
    "# let's zip them up for a simple for loop when writing out\n",
    "data = zip(xarray, fxs) # this combines each element into a tuple e.g. [(xarray1, fxs1), (xarray2, fxs2) ...]\n",
    "\n",
    "# write out\n",
    "outfile = open(\"ex5_out.dat\", \"w\") # w is for writing!\n",
    "for x,y in data:\n",
    "    outfile.write(\"X = %.2f Y = %.2f\" % (x, y))\n",
    "    outfile.write(\"\\n\")   # ensure newline\n",
    "outfile.close()"
   ]
  }
 ],
 "metadata": {
  "kernelspec": {
   "display_name": "Python 3",
   "language": "python",
   "name": "python3"
  },
  "language_info": {
   "codemirror_mode": {
    "name": "ipython",
    "version": 3
   },
   "file_extension": ".py",
   "mimetype": "text/x-python",
   "name": "python",
   "nbconvert_exporter": "python",
   "pygments_lexer": "ipython3",
   "version": "3.5.2"
  }
 },
 "nbformat": 4,
 "nbformat_minor": 1
}
