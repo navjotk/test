{
 "cells": [
  {
   "cell_type": "markdown",
   "metadata": {
    "slideshow": {
     "slide_type": "slide"
    }
   },
   "source": [
    "# Introduction to programming for Geoscientists\n",
    "### [Gerard Gorman](http://www.imperial.ac.uk/people/g.gorman)\n",
    "\n",
    "# Lecture 4: Input data and error handling"
   ]
  },
  {
   "cell_type": "markdown",
   "metadata": {
    "slideshow": {
     "slide_type": "slide"
    }
   },
   "source": [
    "Learning objectives:\n",
    "\n",
    "* You will know how to implement basic interactive programs that take user input.\n",
    "* Be able to catch run-time errors and handle them gracefully rather than the program simply failing."
   ]
  },
  {
   "cell_type": "markdown",
   "metadata": {
    "slideshow": {
     "slide_type": "slide"
    }
   },
   "source": [
    "## Hardcoded input\n",
    "\n",
    "Up to now you have only **hardcoded** input for your programs, i.e."
   ]
  },
  {
   "cell_type": "code",
   "execution_count": 1,
   "metadata": {
    "slideshow": {
     "slide_type": "fragment"
    }
   },
   "outputs": [
    {
     "name": "stdout",
     "output_type": "stream",
     "text": [
      "1.2342\n"
     ]
    }
   ],
   "source": [
    "v0 = 5    # Hardcoded value\n",
    "g = 9.81  # Hardcoded value\n",
    "t = 0.6   # Hardcoded value\n",
    "y = v0*t - 0.5*g*t**2\n",
    "print(y)"
   ]
  },
  {
   "cell_type": "markdown",
   "metadata": {
    "slideshow": {
     "slide_type": "fragment"
    }
   },
   "source": [
    "While hardcoding values for variables such as $g$ might be fine if you are not planning to throw the ball on another planet, the initial velocity and time are values that a user would like to specify without having to edit the code (which would be both tedious and error-prone)."
   ]
  },
  {
   "cell_type": "markdown",
   "metadata": {
    "slideshow": {
     "slide_type": "slide"
    }
   },
   "source": [
    "## Interactive user input\n",
    "\n",
    "There are a wide variety of ways of getting input from the user. In this case we are going to we are going to focus using the package ipywidgets to get user input via a simple text box. Let's recycle our temperature conversion example to illustrate how we use it; this time taking the Celsius value from the user input:"
   ]
  },
  {
   "cell_type": "code",
   "execution_count": 2,
   "metadata": {
    "slideshow": {
     "slide_type": "fragment"
    }
   },
   "outputs": [
    {
     "data": {
      "application/vnd.jupyter.widget-view+json": {
       "model_id": "3b091bbd02bf49c5a536bf494ae61e1f",
       "version_major": 2,
       "version_minor": 0
      },
      "text/plain": [
       "A Jupyter Widget"
      ]
     },
     "metadata": {},
     "output_type": "display_data"
    }
   ],
   "source": [
    "from ipywidgets import widgets\n",
    "from IPython.display import display\n",
    "\n",
    "def c2f(sender):\n",
    "    C = sender.value # Read the text value; note this is a string\n",
    "    C = float(C)     # Convert this string into a float\n",
    "    print(C, \"degrees Celsius is \", (9/5)*C + 32, \"degrees Fahrenheit\")\n",
    "\n",
    "widget_c2f = widgets.Text()\n",
    "widget_c2f.on_submit(c2f)\n",
    "display(widget_c2f)"
   ]
  },
  {
   "cell_type": "markdown",
   "metadata": {
    "slideshow": {
     "slide_type": "subslide"
    }
   },
   "source": [
    "Another simple example: Print the n first even numbers."
   ]
  },
  {
   "cell_type": "code",
   "execution_count": 3,
   "metadata": {
    "slideshow": {
     "slide_type": "fragment"
    }
   },
   "outputs": [
    {
     "data": {
      "application/vnd.jupyter.widget-view+json": {
       "model_id": "c799b869de3544e0a2c263c174ef34b5",
       "version_major": 2,
       "version_minor": 0
      },
      "text/plain": [
       "A Jupyter Widget"
      ]
     },
     "metadata": {},
     "output_type": "display_data"
    }
   ],
   "source": [
    "def firstn(sender):\n",
    "    n = sender.value # Read the text value; note this is a string.\n",
    "    n = int(n)       # Convert this string into an integer.\n",
    "    for i in range(2, 2*n+1, 2):\n",
    "        print(i)\n",
    "\n",
    "widget_firstn = widgets.Text()\n",
    "widget_firstn.on_submit(firstn)\n",
    "display(widget_firstn)"
   ]
  },
  {
   "cell_type": "markdown",
   "metadata": {
    "slideshow": {
     "slide_type": "slide"
    }
   },
   "source": [
    "# <span style=\"color:blue\">Exercise 4.1: Make an interactive program</span>\n",
    "Make a program that:\n",
    "\n",
    " * asks the user for a temperature in Fahrenheit degrees and reads the number;\n",
    " * computes the corresponding temperature in Celsius degrees;\n",
    " * prints out the temperature in the Celsius scale."
   ]
  },
  {
   "cell_type": "code",
   "execution_count": null,
   "metadata": {
    "collapsed": true,
    "slideshow": {
     "slide_type": "subslide"
    }
   },
   "outputs": [],
   "source": []
  },
  {
   "cell_type": "markdown",
   "metadata": {
    "slideshow": {
     "slide_type": "slide"
    }
   },
   "source": [
    "## <span style=\"color:blue\">Exercise 4.2: Prompt the user for input to a formula</span>\n",
    "Consider the simplest program for evaluting the formula $y(t) = v_0 t − 0.5gt^2$:"
   ]
  },
  {
   "cell_type": "code",
   "execution_count": 4,
   "metadata": {
    "slideshow": {
     "slide_type": "fragment"
    }
   },
   "outputs": [
    {
     "name": "stdout",
     "output_type": "stream",
     "text": [
      "0.034199999999999786\n"
     ]
    }
   ],
   "source": [
    "v0 = 3; g = 9.81; t = 0.6\n",
    "y = v0*t - 0.5*g*t**2\n",
    "print(y)"
   ]
  },
  {
   "cell_type": "markdown",
   "metadata": {
    "slideshow": {
     "slide_type": "fragment"
    }
   },
   "source": [
    "Modify this code so that the program takes as user input *t* and *v0*, and then computes the corresponding distance traveled, $y$. Note, you can put multiple values into the same text box and then use the string method *split* to break the string value into a list.\n",
    "```python\n",
    "t, v0 = value.split(\",\") # assuming ',' as the delimiter\n",
    "```"
   ]
  },
  {
   "cell_type": "code",
   "execution_count": null,
   "metadata": {
    "collapsed": true
   },
   "outputs": [],
   "source": []
  },
  {
   "cell_type": "markdown",
   "metadata": {
    "slideshow": {
     "slide_type": "slide"
    }
   },
   "source": [
    "## <span style=\"color:blue\">Exercise 4.3</span>\n",
    "\n",
    "At this point (other than some plotting details that you will meet later) you know enough to write the classic game [Battleship](https://en.wikipedia.org/wiki/Battleship_%28game%29). Rather than start from scratch I have put an example below. Organise yourselves into pairs and:\n",
    "\n",
    "* Play a couple of games.\n",
    "* Write a cheat into the code to reveal where the ship is hiding.\n",
    "* Change the code so that it is on a 13x13 grid.\n",
    "* Rather than having just one ship that is one square in size, make it some random length between 1-6."
   ]
  },
  {
   "cell_type": "code",
   "execution_count": 5,
   "metadata": {
    "slideshow": {
     "slide_type": "slide"
    }
   },
   "outputs": [
    {
     "data": {
      "application/javascript": [
       "/* Put everything inside the global mpl namespace */\n",
       "window.mpl = {};\n",
       "\n",
       "\n",
       "mpl.get_websocket_type = function() {\n",
       "    if (typeof(WebSocket) !== 'undefined') {\n",
       "        return WebSocket;\n",
       "    } else if (typeof(MozWebSocket) !== 'undefined') {\n",
       "        return MozWebSocket;\n",
       "    } else {\n",
       "        alert('Your browser does not have WebSocket support.' +\n",
       "              'Please try Chrome, Safari or Firefox ≥ 6. ' +\n",
       "              'Firefox 4 and 5 are also supported but you ' +\n",
       "              'have to enable WebSockets in about:config.');\n",
       "    };\n",
       "}\n",
       "\n",
       "mpl.figure = function(figure_id, websocket, ondownload, parent_element) {\n",
       "    this.id = figure_id;\n",
       "\n",
       "    this.ws = websocket;\n",
       "\n",
       "    this.supports_binary = (this.ws.binaryType != undefined);\n",
       "\n",
       "    if (!this.supports_binary) {\n",
       "        var warnings = document.getElementById(\"mpl-warnings\");\n",
       "        if (warnings) {\n",
       "            warnings.style.display = 'block';\n",
       "            warnings.textContent = (\n",
       "                \"This browser does not support binary websocket messages. \" +\n",
       "                    \"Performance may be slow.\");\n",
       "        }\n",
       "    }\n",
       "\n",
       "    this.imageObj = new Image();\n",
       "\n",
       "    this.context = undefined;\n",
       "    this.message = undefined;\n",
       "    this.canvas = undefined;\n",
       "    this.rubberband_canvas = undefined;\n",
       "    this.rubberband_context = undefined;\n",
       "    this.format_dropdown = undefined;\n",
       "\n",
       "    this.image_mode = 'full';\n",
       "\n",
       "    this.root = $('<div/>');\n",
       "    this._root_extra_style(this.root)\n",
       "    this.root.attr('style', 'display: inline-block');\n",
       "\n",
       "    $(parent_element).append(this.root);\n",
       "\n",
       "    this._init_header(this);\n",
       "    this._init_canvas(this);\n",
       "    this._init_toolbar(this);\n",
       "\n",
       "    var fig = this;\n",
       "\n",
       "    this.waiting = false;\n",
       "\n",
       "    this.ws.onopen =  function () {\n",
       "            fig.send_message(\"supports_binary\", {value: fig.supports_binary});\n",
       "            fig.send_message(\"send_image_mode\", {});\n",
       "            if (mpl.ratio != 1) {\n",
       "                fig.send_message(\"set_dpi_ratio\", {'dpi_ratio': mpl.ratio});\n",
       "            }\n",
       "            fig.send_message(\"refresh\", {});\n",
       "        }\n",
       "\n",
       "    this.imageObj.onload = function() {\n",
       "            if (fig.image_mode == 'full') {\n",
       "                // Full images could contain transparency (where diff images\n",
       "                // almost always do), so we need to clear the canvas so that\n",
       "                // there is no ghosting.\n",
       "                fig.context.clearRect(0, 0, fig.canvas.width, fig.canvas.height);\n",
       "            }\n",
       "            fig.context.drawImage(fig.imageObj, 0, 0);\n",
       "        };\n",
       "\n",
       "    this.imageObj.onunload = function() {\n",
       "        this.ws.close();\n",
       "    }\n",
       "\n",
       "    this.ws.onmessage = this._make_on_message_function(this);\n",
       "\n",
       "    this.ondownload = ondownload;\n",
       "}\n",
       "\n",
       "mpl.figure.prototype._init_header = function() {\n",
       "    var titlebar = $(\n",
       "        '<div class=\"ui-dialog-titlebar ui-widget-header ui-corner-all ' +\n",
       "        'ui-helper-clearfix\"/>');\n",
       "    var titletext = $(\n",
       "        '<div class=\"ui-dialog-title\" style=\"width: 100%; ' +\n",
       "        'text-align: center; padding: 3px;\"/>');\n",
       "    titlebar.append(titletext)\n",
       "    this.root.append(titlebar);\n",
       "    this.header = titletext[0];\n",
       "}\n",
       "\n",
       "\n",
       "\n",
       "mpl.figure.prototype._canvas_extra_style = function(canvas_div) {\n",
       "\n",
       "}\n",
       "\n",
       "\n",
       "mpl.figure.prototype._root_extra_style = function(canvas_div) {\n",
       "\n",
       "}\n",
       "\n",
       "mpl.figure.prototype._init_canvas = function() {\n",
       "    var fig = this;\n",
       "\n",
       "    var canvas_div = $('<div/>');\n",
       "\n",
       "    canvas_div.attr('style', 'position: relative; clear: both; outline: 0');\n",
       "\n",
       "    function canvas_keyboard_event(event) {\n",
       "        return fig.key_event(event, event['data']);\n",
       "    }\n",
       "\n",
       "    canvas_div.keydown('key_press', canvas_keyboard_event);\n",
       "    canvas_div.keyup('key_release', canvas_keyboard_event);\n",
       "    this.canvas_div = canvas_div\n",
       "    this._canvas_extra_style(canvas_div)\n",
       "    this.root.append(canvas_div);\n",
       "\n",
       "    var canvas = $('<canvas/>');\n",
       "    canvas.addClass('mpl-canvas');\n",
       "    canvas.attr('style', \"left: 0; top: 0; z-index: 0; outline: 0\")\n",
       "\n",
       "    this.canvas = canvas[0];\n",
       "    this.context = canvas[0].getContext(\"2d\");\n",
       "\n",
       "    var backingStore = this.context.backingStorePixelRatio ||\n",
       "\tthis.context.webkitBackingStorePixelRatio ||\n",
       "\tthis.context.mozBackingStorePixelRatio ||\n",
       "\tthis.context.msBackingStorePixelRatio ||\n",
       "\tthis.context.oBackingStorePixelRatio ||\n",
       "\tthis.context.backingStorePixelRatio || 1;\n",
       "\n",
       "    mpl.ratio = (window.devicePixelRatio || 1) / backingStore;\n",
       "\n",
       "    var rubberband = $('<canvas/>');\n",
       "    rubberband.attr('style', \"position: absolute; left: 0; top: 0; z-index: 1;\")\n",
       "\n",
       "    var pass_mouse_events = true;\n",
       "\n",
       "    canvas_div.resizable({\n",
       "        start: function(event, ui) {\n",
       "            pass_mouse_events = false;\n",
       "        },\n",
       "        resize: function(event, ui) {\n",
       "            fig.request_resize(ui.size.width, ui.size.height);\n",
       "        },\n",
       "        stop: function(event, ui) {\n",
       "            pass_mouse_events = true;\n",
       "            fig.request_resize(ui.size.width, ui.size.height);\n",
       "        },\n",
       "    });\n",
       "\n",
       "    function mouse_event_fn(event) {\n",
       "        if (pass_mouse_events)\n",
       "            return fig.mouse_event(event, event['data']);\n",
       "    }\n",
       "\n",
       "    rubberband.mousedown('button_press', mouse_event_fn);\n",
       "    rubberband.mouseup('button_release', mouse_event_fn);\n",
       "    // Throttle sequential mouse events to 1 every 20ms.\n",
       "    rubberband.mousemove('motion_notify', mouse_event_fn);\n",
       "\n",
       "    rubberband.mouseenter('figure_enter', mouse_event_fn);\n",
       "    rubberband.mouseleave('figure_leave', mouse_event_fn);\n",
       "\n",
       "    canvas_div.on(\"wheel\", function (event) {\n",
       "        event = event.originalEvent;\n",
       "        event['data'] = 'scroll'\n",
       "        if (event.deltaY < 0) {\n",
       "            event.step = 1;\n",
       "        } else {\n",
       "            event.step = -1;\n",
       "        }\n",
       "        mouse_event_fn(event);\n",
       "    });\n",
       "\n",
       "    canvas_div.append(canvas);\n",
       "    canvas_div.append(rubberband);\n",
       "\n",
       "    this.rubberband = rubberband;\n",
       "    this.rubberband_canvas = rubberband[0];\n",
       "    this.rubberband_context = rubberband[0].getContext(\"2d\");\n",
       "    this.rubberband_context.strokeStyle = \"#000000\";\n",
       "\n",
       "    this._resize_canvas = function(width, height) {\n",
       "        // Keep the size of the canvas, canvas container, and rubber band\n",
       "        // canvas in synch.\n",
       "        canvas_div.css('width', width)\n",
       "        canvas_div.css('height', height)\n",
       "\n",
       "        canvas.attr('width', width * mpl.ratio);\n",
       "        canvas.attr('height', height * mpl.ratio);\n",
       "        canvas.attr('style', 'width: ' + width + 'px; height: ' + height + 'px;');\n",
       "\n",
       "        rubberband.attr('width', width);\n",
       "        rubberband.attr('height', height);\n",
       "    }\n",
       "\n",
       "    // Set the figure to an initial 600x600px, this will subsequently be updated\n",
       "    // upon first draw.\n",
       "    this._resize_canvas(600, 600);\n",
       "\n",
       "    // Disable right mouse context menu.\n",
       "    $(this.rubberband_canvas).bind(\"contextmenu\",function(e){\n",
       "        return false;\n",
       "    });\n",
       "\n",
       "    function set_focus () {\n",
       "        canvas.focus();\n",
       "        canvas_div.focus();\n",
       "    }\n",
       "\n",
       "    window.setTimeout(set_focus, 100);\n",
       "}\n",
       "\n",
       "mpl.figure.prototype._init_toolbar = function() {\n",
       "    var fig = this;\n",
       "\n",
       "    var nav_element = $('<div/>')\n",
       "    nav_element.attr('style', 'width: 100%');\n",
       "    this.root.append(nav_element);\n",
       "\n",
       "    // Define a callback function for later on.\n",
       "    function toolbar_event(event) {\n",
       "        return fig.toolbar_button_onclick(event['data']);\n",
       "    }\n",
       "    function toolbar_mouse_event(event) {\n",
       "        return fig.toolbar_button_onmouseover(event['data']);\n",
       "    }\n",
       "\n",
       "    for(var toolbar_ind in mpl.toolbar_items) {\n",
       "        var name = mpl.toolbar_items[toolbar_ind][0];\n",
       "        var tooltip = mpl.toolbar_items[toolbar_ind][1];\n",
       "        var image = mpl.toolbar_items[toolbar_ind][2];\n",
       "        var method_name = mpl.toolbar_items[toolbar_ind][3];\n",
       "\n",
       "        if (!name) {\n",
       "            // put a spacer in here.\n",
       "            continue;\n",
       "        }\n",
       "        var button = $('<button/>');\n",
       "        button.addClass('ui-button ui-widget ui-state-default ui-corner-all ' +\n",
       "                        'ui-button-icon-only');\n",
       "        button.attr('role', 'button');\n",
       "        button.attr('aria-disabled', 'false');\n",
       "        button.click(method_name, toolbar_event);\n",
       "        button.mouseover(tooltip, toolbar_mouse_event);\n",
       "\n",
       "        var icon_img = $('<span/>');\n",
       "        icon_img.addClass('ui-button-icon-primary ui-icon');\n",
       "        icon_img.addClass(image);\n",
       "        icon_img.addClass('ui-corner-all');\n",
       "\n",
       "        var tooltip_span = $('<span/>');\n",
       "        tooltip_span.addClass('ui-button-text');\n",
       "        tooltip_span.html(tooltip);\n",
       "\n",
       "        button.append(icon_img);\n",
       "        button.append(tooltip_span);\n",
       "\n",
       "        nav_element.append(button);\n",
       "    }\n",
       "\n",
       "    var fmt_picker_span = $('<span/>');\n",
       "\n",
       "    var fmt_picker = $('<select/>');\n",
       "    fmt_picker.addClass('mpl-toolbar-option ui-widget ui-widget-content');\n",
       "    fmt_picker_span.append(fmt_picker);\n",
       "    nav_element.append(fmt_picker_span);\n",
       "    this.format_dropdown = fmt_picker[0];\n",
       "\n",
       "    for (var ind in mpl.extensions) {\n",
       "        var fmt = mpl.extensions[ind];\n",
       "        var option = $(\n",
       "            '<option/>', {selected: fmt === mpl.default_extension}).html(fmt);\n",
       "        fmt_picker.append(option)\n",
       "    }\n",
       "\n",
       "    // Add hover states to the ui-buttons\n",
       "    $( \".ui-button\" ).hover(\n",
       "        function() { $(this).addClass(\"ui-state-hover\");},\n",
       "        function() { $(this).removeClass(\"ui-state-hover\");}\n",
       "    );\n",
       "\n",
       "    var status_bar = $('<span class=\"mpl-message\"/>');\n",
       "    nav_element.append(status_bar);\n",
       "    this.message = status_bar[0];\n",
       "}\n",
       "\n",
       "mpl.figure.prototype.request_resize = function(x_pixels, y_pixels) {\n",
       "    // Request matplotlib to resize the figure. Matplotlib will then trigger a resize in the client,\n",
       "    // which will in turn request a refresh of the image.\n",
       "    this.send_message('resize', {'width': x_pixels, 'height': y_pixels});\n",
       "}\n",
       "\n",
       "mpl.figure.prototype.send_message = function(type, properties) {\n",
       "    properties['type'] = type;\n",
       "    properties['figure_id'] = this.id;\n",
       "    this.ws.send(JSON.stringify(properties));\n",
       "}\n",
       "\n",
       "mpl.figure.prototype.send_draw_message = function() {\n",
       "    if (!this.waiting) {\n",
       "        this.waiting = true;\n",
       "        this.ws.send(JSON.stringify({type: \"draw\", figure_id: this.id}));\n",
       "    }\n",
       "}\n",
       "\n",
       "\n",
       "mpl.figure.prototype.handle_save = function(fig, msg) {\n",
       "    var format_dropdown = fig.format_dropdown;\n",
       "    var format = format_dropdown.options[format_dropdown.selectedIndex].value;\n",
       "    fig.ondownload(fig, format);\n",
       "}\n",
       "\n",
       "\n",
       "mpl.figure.prototype.handle_resize = function(fig, msg) {\n",
       "    var size = msg['size'];\n",
       "    if (size[0] != fig.canvas.width || size[1] != fig.canvas.height) {\n",
       "        fig._resize_canvas(size[0], size[1]);\n",
       "        fig.send_message(\"refresh\", {});\n",
       "    };\n",
       "}\n",
       "\n",
       "mpl.figure.prototype.handle_rubberband = function(fig, msg) {\n",
       "    var x0 = msg['x0'] / mpl.ratio;\n",
       "    var y0 = (fig.canvas.height - msg['y0']) / mpl.ratio;\n",
       "    var x1 = msg['x1'] / mpl.ratio;\n",
       "    var y1 = (fig.canvas.height - msg['y1']) / mpl.ratio;\n",
       "    x0 = Math.floor(x0) + 0.5;\n",
       "    y0 = Math.floor(y0) + 0.5;\n",
       "    x1 = Math.floor(x1) + 0.5;\n",
       "    y1 = Math.floor(y1) + 0.5;\n",
       "    var min_x = Math.min(x0, x1);\n",
       "    var min_y = Math.min(y0, y1);\n",
       "    var width = Math.abs(x1 - x0);\n",
       "    var height = Math.abs(y1 - y0);\n",
       "\n",
       "    fig.rubberband_context.clearRect(\n",
       "        0, 0, fig.canvas.width, fig.canvas.height);\n",
       "\n",
       "    fig.rubberband_context.strokeRect(min_x, min_y, width, height);\n",
       "}\n",
       "\n",
       "mpl.figure.prototype.handle_figure_label = function(fig, msg) {\n",
       "    // Updates the figure title.\n",
       "    fig.header.textContent = msg['label'];\n",
       "}\n",
       "\n",
       "mpl.figure.prototype.handle_cursor = function(fig, msg) {\n",
       "    var cursor = msg['cursor'];\n",
       "    switch(cursor)\n",
       "    {\n",
       "    case 0:\n",
       "        cursor = 'pointer';\n",
       "        break;\n",
       "    case 1:\n",
       "        cursor = 'default';\n",
       "        break;\n",
       "    case 2:\n",
       "        cursor = 'crosshair';\n",
       "        break;\n",
       "    case 3:\n",
       "        cursor = 'move';\n",
       "        break;\n",
       "    }\n",
       "    fig.rubberband_canvas.style.cursor = cursor;\n",
       "}\n",
       "\n",
       "mpl.figure.prototype.handle_message = function(fig, msg) {\n",
       "    fig.message.textContent = msg['message'];\n",
       "}\n",
       "\n",
       "mpl.figure.prototype.handle_draw = function(fig, msg) {\n",
       "    // Request the server to send over a new figure.\n",
       "    fig.send_draw_message();\n",
       "}\n",
       "\n",
       "mpl.figure.prototype.handle_image_mode = function(fig, msg) {\n",
       "    fig.image_mode = msg['mode'];\n",
       "}\n",
       "\n",
       "mpl.figure.prototype.updated_canvas_event = function() {\n",
       "    // Called whenever the canvas gets updated.\n",
       "    this.send_message(\"ack\", {});\n",
       "}\n",
       "\n",
       "// A function to construct a web socket function for onmessage handling.\n",
       "// Called in the figure constructor.\n",
       "mpl.figure.prototype._make_on_message_function = function(fig) {\n",
       "    return function socket_on_message(evt) {\n",
       "        if (evt.data instanceof Blob) {\n",
       "            /* FIXME: We get \"Resource interpreted as Image but\n",
       "             * transferred with MIME type text/plain:\" errors on\n",
       "             * Chrome.  But how to set the MIME type?  It doesn't seem\n",
       "             * to be part of the websocket stream */\n",
       "            evt.data.type = \"image/png\";\n",
       "\n",
       "            /* Free the memory for the previous frames */\n",
       "            if (fig.imageObj.src) {\n",
       "                (window.URL || window.webkitURL).revokeObjectURL(\n",
       "                    fig.imageObj.src);\n",
       "            }\n",
       "\n",
       "            fig.imageObj.src = (window.URL || window.webkitURL).createObjectURL(\n",
       "                evt.data);\n",
       "            fig.updated_canvas_event();\n",
       "            fig.waiting = false;\n",
       "            return;\n",
       "        }\n",
       "        else if (typeof evt.data === 'string' && evt.data.slice(0, 21) == \"data:image/png;base64\") {\n",
       "            fig.imageObj.src = evt.data;\n",
       "            fig.updated_canvas_event();\n",
       "            fig.waiting = false;\n",
       "            return;\n",
       "        }\n",
       "\n",
       "        var msg = JSON.parse(evt.data);\n",
       "        var msg_type = msg['type'];\n",
       "\n",
       "        // Call the  \"handle_{type}\" callback, which takes\n",
       "        // the figure and JSON message as its only arguments.\n",
       "        try {\n",
       "            var callback = fig[\"handle_\" + msg_type];\n",
       "        } catch (e) {\n",
       "            console.log(\"No handler for the '\" + msg_type + \"' message type: \", msg);\n",
       "            return;\n",
       "        }\n",
       "\n",
       "        if (callback) {\n",
       "            try {\n",
       "                // console.log(\"Handling '\" + msg_type + \"' message: \", msg);\n",
       "                callback(fig, msg);\n",
       "            } catch (e) {\n",
       "                console.log(\"Exception inside the 'handler_\" + msg_type + \"' callback:\", e, e.stack, msg);\n",
       "            }\n",
       "        }\n",
       "    };\n",
       "}\n",
       "\n",
       "// from http://stackoverflow.com/questions/1114465/getting-mouse-location-in-canvas\n",
       "mpl.findpos = function(e) {\n",
       "    //this section is from http://www.quirksmode.org/js/events_properties.html\n",
       "    var targ;\n",
       "    if (!e)\n",
       "        e = window.event;\n",
       "    if (e.target)\n",
       "        targ = e.target;\n",
       "    else if (e.srcElement)\n",
       "        targ = e.srcElement;\n",
       "    if (targ.nodeType == 3) // defeat Safari bug\n",
       "        targ = targ.parentNode;\n",
       "\n",
       "    // jQuery normalizes the pageX and pageY\n",
       "    // pageX,Y are the mouse positions relative to the document\n",
       "    // offset() returns the position of the element relative to the document\n",
       "    var x = e.pageX - $(targ).offset().left;\n",
       "    var y = e.pageY - $(targ).offset().top;\n",
       "\n",
       "    return {\"x\": x, \"y\": y};\n",
       "};\n",
       "\n",
       "/*\n",
       " * return a copy of an object with only non-object keys\n",
       " * we need this to avoid circular references\n",
       " * http://stackoverflow.com/a/24161582/3208463\n",
       " */\n",
       "function simpleKeys (original) {\n",
       "  return Object.keys(original).reduce(function (obj, key) {\n",
       "    if (typeof original[key] !== 'object')\n",
       "        obj[key] = original[key]\n",
       "    return obj;\n",
       "  }, {});\n",
       "}\n",
       "\n",
       "mpl.figure.prototype.mouse_event = function(event, name) {\n",
       "    var canvas_pos = mpl.findpos(event)\n",
       "\n",
       "    if (name === 'button_press')\n",
       "    {\n",
       "        this.canvas.focus();\n",
       "        this.canvas_div.focus();\n",
       "    }\n",
       "\n",
       "    var x = canvas_pos.x * mpl.ratio;\n",
       "    var y = canvas_pos.y * mpl.ratio;\n",
       "\n",
       "    this.send_message(name, {x: x, y: y, button: event.button,\n",
       "                             step: event.step,\n",
       "                             guiEvent: simpleKeys(event)});\n",
       "\n",
       "    /* This prevents the web browser from automatically changing to\n",
       "     * the text insertion cursor when the button is pressed.  We want\n",
       "     * to control all of the cursor setting manually through the\n",
       "     * 'cursor' event from matplotlib */\n",
       "    event.preventDefault();\n",
       "    return false;\n",
       "}\n",
       "\n",
       "mpl.figure.prototype._key_event_extra = function(event, name) {\n",
       "    // Handle any extra behaviour associated with a key event\n",
       "}\n",
       "\n",
       "mpl.figure.prototype.key_event = function(event, name) {\n",
       "\n",
       "    // Prevent repeat events\n",
       "    if (name == 'key_press')\n",
       "    {\n",
       "        if (event.which === this._key)\n",
       "            return;\n",
       "        else\n",
       "            this._key = event.which;\n",
       "    }\n",
       "    if (name == 'key_release')\n",
       "        this._key = null;\n",
       "\n",
       "    var value = '';\n",
       "    if (event.ctrlKey && event.which != 17)\n",
       "        value += \"ctrl+\";\n",
       "    if (event.altKey && event.which != 18)\n",
       "        value += \"alt+\";\n",
       "    if (event.shiftKey && event.which != 16)\n",
       "        value += \"shift+\";\n",
       "\n",
       "    value += 'k';\n",
       "    value += event.which.toString();\n",
       "\n",
       "    this._key_event_extra(event, name);\n",
       "\n",
       "    this.send_message(name, {key: value,\n",
       "                             guiEvent: simpleKeys(event)});\n",
       "    return false;\n",
       "}\n",
       "\n",
       "mpl.figure.prototype.toolbar_button_onclick = function(name) {\n",
       "    if (name == 'download') {\n",
       "        this.handle_save(this, null);\n",
       "    } else {\n",
       "        this.send_message(\"toolbar_button\", {name: name});\n",
       "    }\n",
       "};\n",
       "\n",
       "mpl.figure.prototype.toolbar_button_onmouseover = function(tooltip) {\n",
       "    this.message.textContent = tooltip;\n",
       "};\n",
       "mpl.toolbar_items = [[\"Home\", \"Reset original view\", \"fa fa-home icon-home\", \"home\"], [\"Back\", \"Back to  previous view\", \"fa fa-arrow-left icon-arrow-left\", \"back\"], [\"Forward\", \"Forward to next view\", \"fa fa-arrow-right icon-arrow-right\", \"forward\"], [\"\", \"\", \"\", \"\"], [\"Pan\", \"Pan axes with left mouse, zoom with right\", \"fa fa-arrows icon-move\", \"pan\"], [\"Zoom\", \"Zoom to rectangle\", \"fa fa-square-o icon-check-empty\", \"zoom\"], [\"\", \"\", \"\", \"\"], [\"Download\", \"Download plot\", \"fa fa-floppy-o icon-save\", \"download\"]];\n",
       "\n",
       "mpl.extensions = [\"eps\", \"jpeg\", \"pdf\", \"png\", \"ps\", \"raw\", \"svg\", \"tif\"];\n",
       "\n",
       "mpl.default_extension = \"png\";var comm_websocket_adapter = function(comm) {\n",
       "    // Create a \"websocket\"-like object which calls the given IPython comm\n",
       "    // object with the appropriate methods. Currently this is a non binary\n",
       "    // socket, so there is still some room for performance tuning.\n",
       "    var ws = {};\n",
       "\n",
       "    ws.close = function() {\n",
       "        comm.close()\n",
       "    };\n",
       "    ws.send = function(m) {\n",
       "        //console.log('sending', m);\n",
       "        comm.send(m);\n",
       "    };\n",
       "    // Register the callback with on_msg.\n",
       "    comm.on_msg(function(msg) {\n",
       "        //console.log('receiving', msg['content']['data'], msg);\n",
       "        // Pass the mpl event to the overriden (by mpl) onmessage function.\n",
       "        ws.onmessage(msg['content']['data'])\n",
       "    });\n",
       "    return ws;\n",
       "}\n",
       "\n",
       "mpl.mpl_figure_comm = function(comm, msg) {\n",
       "    // This is the function which gets called when the mpl process\n",
       "    // starts-up an IPython Comm through the \"matplotlib\" channel.\n",
       "\n",
       "    var id = msg.content.data.id;\n",
       "    // Get hold of the div created by the display call when the Comm\n",
       "    // socket was opened in Python.\n",
       "    var element = $(\"#\" + id);\n",
       "    var ws_proxy = comm_websocket_adapter(comm)\n",
       "\n",
       "    function ondownload(figure, format) {\n",
       "        window.open(figure.imageObj.src);\n",
       "    }\n",
       "\n",
       "    var fig = new mpl.figure(id, ws_proxy,\n",
       "                           ondownload,\n",
       "                           element.get(0));\n",
       "\n",
       "    // Call onopen now - mpl needs it, as it is assuming we've passed it a real\n",
       "    // web socket which is closed, not our websocket->open comm proxy.\n",
       "    ws_proxy.onopen();\n",
       "\n",
       "    fig.parent_element = element.get(0);\n",
       "    fig.cell_info = mpl.find_output_cell(\"<div id='\" + id + \"'></div>\");\n",
       "    if (!fig.cell_info) {\n",
       "        console.error(\"Failed to find cell for figure\", id, fig);\n",
       "        return;\n",
       "    }\n",
       "\n",
       "    var output_index = fig.cell_info[2]\n",
       "    var cell = fig.cell_info[0];\n",
       "\n",
       "};\n",
       "\n",
       "mpl.figure.prototype.handle_close = function(fig, msg) {\n",
       "    var width = fig.canvas.width/mpl.ratio\n",
       "    fig.root.unbind('remove')\n",
       "\n",
       "    // Update the output cell to use the data from the current canvas.\n",
       "    fig.push_to_output();\n",
       "    var dataURL = fig.canvas.toDataURL();\n",
       "    // Re-enable the keyboard manager in IPython - without this line, in FF,\n",
       "    // the notebook keyboard shortcuts fail.\n",
       "    IPython.keyboard_manager.enable()\n",
       "    $(fig.parent_element).html('<img src=\"' + dataURL + '\" width=\"' + width + '\">');\n",
       "    fig.close_ws(fig, msg);\n",
       "}\n",
       "\n",
       "mpl.figure.prototype.close_ws = function(fig, msg){\n",
       "    fig.send_message('closing', msg);\n",
       "    // fig.ws.close()\n",
       "}\n",
       "\n",
       "mpl.figure.prototype.push_to_output = function(remove_interactive) {\n",
       "    // Turn the data on the canvas into data in the output cell.\n",
       "    var width = this.canvas.width/mpl.ratio\n",
       "    var dataURL = this.canvas.toDataURL();\n",
       "    this.cell_info[1]['text/html'] = '<img src=\"' + dataURL + '\" width=\"' + width + '\">';\n",
       "}\n",
       "\n",
       "mpl.figure.prototype.updated_canvas_event = function() {\n",
       "    // Tell IPython that the notebook contents must change.\n",
       "    IPython.notebook.set_dirty(true);\n",
       "    this.send_message(\"ack\", {});\n",
       "    var fig = this;\n",
       "    // Wait a second, then push the new image to the DOM so\n",
       "    // that it is saved nicely (might be nice to debounce this).\n",
       "    setTimeout(function () { fig.push_to_output() }, 1000);\n",
       "}\n",
       "\n",
       "mpl.figure.prototype._init_toolbar = function() {\n",
       "    var fig = this;\n",
       "\n",
       "    var nav_element = $('<div/>')\n",
       "    nav_element.attr('style', 'width: 100%');\n",
       "    this.root.append(nav_element);\n",
       "\n",
       "    // Define a callback function for later on.\n",
       "    function toolbar_event(event) {\n",
       "        return fig.toolbar_button_onclick(event['data']);\n",
       "    }\n",
       "    function toolbar_mouse_event(event) {\n",
       "        return fig.toolbar_button_onmouseover(event['data']);\n",
       "    }\n",
       "\n",
       "    for(var toolbar_ind in mpl.toolbar_items){\n",
       "        var name = mpl.toolbar_items[toolbar_ind][0];\n",
       "        var tooltip = mpl.toolbar_items[toolbar_ind][1];\n",
       "        var image = mpl.toolbar_items[toolbar_ind][2];\n",
       "        var method_name = mpl.toolbar_items[toolbar_ind][3];\n",
       "\n",
       "        if (!name) { continue; };\n",
       "\n",
       "        var button = $('<button class=\"btn btn-default\" href=\"#\" title=\"' + name + '\"><i class=\"fa ' + image + ' fa-lg\"></i></button>');\n",
       "        button.click(method_name, toolbar_event);\n",
       "        button.mouseover(tooltip, toolbar_mouse_event);\n",
       "        nav_element.append(button);\n",
       "    }\n",
       "\n",
       "    // Add the status bar.\n",
       "    var status_bar = $('<span class=\"mpl-message\" style=\"text-align:right; float: right;\"/>');\n",
       "    nav_element.append(status_bar);\n",
       "    this.message = status_bar[0];\n",
       "\n",
       "    // Add the close button to the window.\n",
       "    var buttongrp = $('<div class=\"btn-group inline pull-right\"></div>');\n",
       "    var button = $('<button class=\"btn btn-mini btn-primary\" href=\"#\" title=\"Stop Interaction\"><i class=\"fa fa-power-off icon-remove icon-large\"></i></button>');\n",
       "    button.click(function (evt) { fig.handle_close(fig, {}); } );\n",
       "    button.mouseover('Stop Interaction', toolbar_mouse_event);\n",
       "    buttongrp.append(button);\n",
       "    var titlebar = this.root.find($('.ui-dialog-titlebar'));\n",
       "    titlebar.prepend(buttongrp);\n",
       "}\n",
       "\n",
       "mpl.figure.prototype._root_extra_style = function(el){\n",
       "    var fig = this\n",
       "    el.on(\"remove\", function(){\n",
       "\tfig.close_ws(fig, {});\n",
       "    });\n",
       "}\n",
       "\n",
       "mpl.figure.prototype._canvas_extra_style = function(el){\n",
       "    // this is important to make the div 'focusable\n",
       "    el.attr('tabindex', 0)\n",
       "    // reach out to IPython and tell the keyboard manager to turn it's self\n",
       "    // off when our div gets focus\n",
       "\n",
       "    // location in version 3\n",
       "    if (IPython.notebook.keyboard_manager) {\n",
       "        IPython.notebook.keyboard_manager.register_events(el);\n",
       "    }\n",
       "    else {\n",
       "        // location in version 2\n",
       "        IPython.keyboard_manager.register_events(el);\n",
       "    }\n",
       "\n",
       "}\n",
       "\n",
       "mpl.figure.prototype._key_event_extra = function(event, name) {\n",
       "    var manager = IPython.notebook.keyboard_manager;\n",
       "    if (!manager)\n",
       "        manager = IPython.keyboard_manager;\n",
       "\n",
       "    // Check for shift+enter\n",
       "    if (event.shiftKey && event.which == 13) {\n",
       "        this.canvas_div.blur();\n",
       "        // select the cell after this one\n",
       "        var index = IPython.notebook.find_cell_index(this.cell_info[0]);\n",
       "        IPython.notebook.select(index + 1);\n",
       "    }\n",
       "}\n",
       "\n",
       "mpl.figure.prototype.handle_save = function(fig, msg) {\n",
       "    fig.ondownload(fig, null);\n",
       "}\n",
       "\n",
       "\n",
       "mpl.find_output_cell = function(html_output) {\n",
       "    // Return the cell and output element which can be found *uniquely* in the notebook.\n",
       "    // Note - this is a bit hacky, but it is done because the \"notebook_saving.Notebook\"\n",
       "    // IPython event is triggered only after the cells have been serialised, which for\n",
       "    // our purposes (turning an active figure into a static one), is too late.\n",
       "    var cells = IPython.notebook.get_cells();\n",
       "    var ncells = cells.length;\n",
       "    for (var i=0; i<ncells; i++) {\n",
       "        var cell = cells[i];\n",
       "        if (cell.cell_type === 'code'){\n",
       "            for (var j=0; j<cell.output_area.outputs.length; j++) {\n",
       "                var data = cell.output_area.outputs[j];\n",
       "                if (data.data) {\n",
       "                    // IPython >= 3 moved mimebundle to data attribute of output\n",
       "                    data = data.data;\n",
       "                }\n",
       "                if (data['text/html'] == html_output) {\n",
       "                    return [cell, data, j];\n",
       "                }\n",
       "            }\n",
       "        }\n",
       "    }\n",
       "}\n",
       "\n",
       "// Register the function which deals with the matplotlib target/channel.\n",
       "// The kernel may be null if the page has been refreshed.\n",
       "if (IPython.notebook.kernel != null) {\n",
       "    IPython.notebook.kernel.comm_manager.register_target('matplotlib', mpl.mpl_figure_comm);\n",
       "}\n"
      ],
      "text/plain": [
       "<IPython.core.display.Javascript object>"
      ]
     },
     "metadata": {},
     "output_type": "display_data"
    },
    {
     "data": {
      "text/html": [
       "<img src=\"data:image/png;base64,iVBORw0KGgoAAAANSUhEUgAAAoAAAAHgCAYAAAA10dzkAAAgAElEQVR4Xu3da6i2aVk38P/YTAPRvNmHItzQlzYSRQVZVJbzoQIjmIx2RBBSpG2pwMwUHCrcFFRuUihIDawwot6IaPNBiTBKKQuLtkQ5BhoFGqW5aV4u5354H5+Zcd3rPq/nOq7jOn8Lni/OfV7Hef7+5zj/ude619wRXwQIECBAgAABAlMJ3DHVaR2WAAECBAgQIEAgCqBLQIAAAQIECBCYTEABnCxwxyVAgAABAgQIKIDuAAECBAgQIEBgMgEFcLLAHZcAAQIECBAgoAC6AwQIECBAgACByQQUwMkCd1wCBAgQIECAgALoDhAgQIAAAQIEJhNQACcL3HEJECBAgAABAgqgO0CAAAECBAgQmExAAZwscMclQIAAAQIECCiA7gABAgQIECBAYDIBBXCywB2XAAECBAgQIKAAugMECBAgQIAAgckEFMDJAndcAgQIECBAgIAC6A4QIECAAAECBCYTUAAnC9xxCRAgQIAAAQIKoDtAgAABAgQIEJhMQAGcLHDHJUCAAAECBAgogO4AAQIECBAgQGAyAQVwssAdlwABAgQIECCgALoDBAgQIECAAIHJBBTAyQJ3XAIECBAgQICAAugOECBAgAABAgQmE1AAJwvccQkQIECAAAECCqA7QIAAAQIECBCYTEABnCxwxyVAgAABAgQIKIDuAAECBAgQIEBgMgEFcLLAHZcAAQIECBAgoAC6AwQIECBAgACByQQUwMkCd1wCBAgQIECAgALoDhAgQIAAAQIEJhNQACcL3HEJECBAgAABAgqgO0CAAAECBAgQmExAAZwscMclQIAAAQIECCiA7gABAgQIECBAYDIBBXCywB2XAAECBAgQIKAAugMECBAgQIAAgckEFMDJAndcAgQIECBAgIAC6A4QIECAAAECBCYTUAAnC9xxCRAgQIAAAQIKoDtAgAABAgQIEJhMQAGcLHDHJUCAAAECBAgogO4AAQIECBAgQGAyAQVwssAdlwABAgQIECCgALoDBAgQIECAAIHJBBTAyQJ3XAIECBAgQICAAugOECBAgAABAgQmE1AAJwvccQkQIECAAAECCqA7QIAAAQIECBCYTEABnCxwxyVAgAABAgQIKIDuAAECBAgQIEBgMgEFcLLAHZcAAQIECBAgoAC6AwQIECBAgACByQQUwMkCd1wCBAgQIECAgALoDhAgQIAAAQIEJhNQACcLfMXjLnfncUn+c8VnehQBAgQIbCtwT5J/TfLgtmNNqxZQAKsT6Dv/8Uke6Lt9OydAgACBk8ATkryDxlwCCuBcea952v+T5N1PyVfnzty15nM9iwABAgQ2EPhgPpA/yu8skz4hyXs2GGnEjgQUwB2F0WwrHy6A9+a+3HmHAtgsO9slQIBAPvjgB/LG/F8FcNK7oABOGvwKx1YAV0D0CAIECFQJKIBV8vuYqwDuI4eOu1AAO6ZmzwQIEDgJKIBzXwUFcO78R06vAI7oWUuAAIFiAQWwOIDi8QpgcQCNxyuAjcOzdQIECCiAc98BBXDu/EdOrwCO6FlLgACBYgEFsDiA4vEKYHEAjccrgI3Ds3UCBAgogHPfAQVw7vxHTq8AjuhZS4AAgWIBBbA4gOLxCmBxAI3HK4CNw7N1AgQIKIBz3wEFcO78R06vAI7oWUuAAIFiAQWwOIDi8QpgcQCNxyuAjcOzdQIECCiAc98BBXDu/EdOrwCO6FlLgACBYgEFsDiA4vEKYHEAOxj/PUmeneRTkvxFku9L8qdn7EsBPAPJSwgQILBXAQVwr8lssy8FcBvnvU75piS/lORZSf4kyQ8k+YYkn5nkXVdsWgHca6r2RYAAgTMEFMAzkA78EgXwwOGecbSl9L05yfeeXvuYJG9P8vIkL1YAzxD0EgIECDQVUACbBrfSthXAlSAbPuZjk/x3kq9P8ps37f+1SR6b5L5bznR3kuXPja97kjxwb+7LnXfc1fD4tkyAAIG5BRTAufNXAOfN/3FJ3pHkS5L88U0MP5nkqUm+6Baa+5O84FYuBXDeC+TkBAj0FlAAe+c3unsFcFSw7/rrFkDvAPbN2s4JECDwMAEFcO5LoQDOm/91vwV8q5QPgcx7d5ycAIEDCCiABwhx4AgK4ADeAZYuHwJZfuXL8qtflq/lQyD/kuQVPgRygHQdgQABAh9FQAGc+3oogHPnv/wamOVDH888FcHl18B8Y5InJXnnFTTeAZz77jg9AQLNBRTA5gEObl8BHAQ8wPLlV8Dc+EXQb03y/affCXjV0RTAq4T8dQIECOxYQAHccTgbbE0B3AD5oCMUwIMG61gECMwhoADOkfOjnVIBnDv/kdMrgCN61hIgQKBYQAEsDqB4vAJYHEDj8Qpg4/BsnQABAgrg3HdAAZw7/5HTK4AjetYSIECgWEABLA6geLwCWBxA4/EKYOPwbJ0AAQIK4Nx3QAGcO/+R0yuAI3rWEiBAoFhAASwOoHi8AlgcQOPxCmDj8GydAAECCuDcd0ABnDv/kdMrgCN61hIgQKBYQAEsDqB4vAJYHEDj8Qpg4/BsnQABAgrg3HdAAZw7/5HTK4AjetYSIECgWEABLA6geLwCWBxA4/EKYOPwbJ0AAQIK4Nx3QAGcO/+R0yuAI3rWEiBAoFhAASwOoHi8AlgcQOPxCmDj8GydAAECCuDcd0ABnDv/kdMrgCN61hIgQKBYQAEsDqB4vAJYHEDj8Qpg4/BsnQABAgrg3HdAAZw7/5HTK4AjetYSIECgWEABLA6geLwCWBxA4/EKYOPwbJ0AAQIK4Nx3QAGcO/+R0yuAI3rWEiBAoFhAASwOoHi8AlgcQOPxCmDj8GydAAECCuDcd0ABnDv/kdMrgCN61hIgQKBYQAEsDqB4vAJYHEDj8Qpg4/BsnQABAgrg3HdAAZw7/5HTK4AjetYSIECgWEABLA6geLwCWBxA4/EKYOPwbJ0AAQIK4Nx3QAGcO/+R0yuAI3rWEiBAoFhAASwOoHi8AlgcQOPxCmDj8GydAAECCuDcd0ABnDv/kdMrgCN61hIgQKBYQAEsDqB4vAJYHEDj8Qpg4/BsnQABAgrg3HdAAZw7/5HTK4AjetYSIECgWEABLA6geLwCWBxA4/EKYOPwbJ0AAQIK4Nx3QAGcO/+R0yuAI3rWEiBAoFhAASwOoHi8AlgcQOPxCmDj8GydAAECCuDcd0ABnDv/kdMrgCN61hIgQKBYQAEsDqB4vAJYHEDj8Qpg4/BsnQABAgrg3HdAAZw7/5HTK4AjetYSIECgWEABLA6geLwCWBxA4/EKYOPwbJ0AAQIK4Nx3QAGcO/+R0yuAI3rWEiBAoFhAASwOoHi8AlgcQOPxCmDj8GydAAECCuDcd0ABnDv/kdMrgCN61hIgQKBYQAEsDqB4vAJYHEDj8Qpg4/BsnQABAgrg3HdAAZw7/5HTK4AjetYSIECgWEABLA6geLwCWBxA4/EKYOPwbJ0AAQIK4Nx3QAGcO/+R0yuAI3rWEiBAoFhAASwOoHi8AlgcQOPxCmDj8GydAAECCuDcd0ABnDv/kdMrgCN61hIgQKBYQAEsDqB4vAJYHEDj8Qpg4/BsnQABAgrg3HdAAZw7/5HTK4AjetYSIECgWEABLA6geLwCWBxA4/EKYOPwbJ0AAQIK4Nx3QAGcO/+R0yuAI3rWEiBAoFhAASwOoHi8AlgcQOPxCmDj8GydAAECCuDcd0ABnDv/kdMrgCN61hIgQKBYQAEsDqB4vAJYHEDj8Qpg4/BsnQABAgrg3HdAAZw7/5HTK4AjetYSIECgWEABLA6geLwCWBxA4/EKYOPwbJ0AAQIK4Nx3QAGcO/+R0yuAI3rWEiBAoFhAASwOoHi8AlgcQOPxCmDj8GydAAECCuDcd0ABnDv/kdMrgCN61hIgQKBYQAEsDqB4vAJYHEDj8Qpg4/BsnQABAgrg3HdAAZw7/5HTK4AjetYSIECgWEABLA6geLwCWBxA4/EKYOPwbJ0AAQIK4Nx3QAGcO/+R0yuAI3rWEiBAoFhAASwOoHi8AlgcQOPxCmDj8GydAAECCuDcd0ABnDv/kdMrgCN61hIgQKBYQAEsDqB4vAJYHEDj8Qpg4/BsnQABAgrg3HdAAZw7/5HTK4AjetYSIECgWEABLA6geLwCWBxA4fjnJvm6JE9K8t4kb0rynCR/e+aeFMAzobyMAAECexRQAPeYynZ7UgC3s97bpN9N8qtJ3pzkziQvTPLZST4ryX+dsVkF8AwkLyFAgMBeBRTAvSazzb4UwG2cO0z5pCTvSvLUJH94xoYVwDOQvIQAAQJ7FVAA95rMNvtSALdx7jDl05L8fZLPSfK2R9jw3UmWPze+7knywL25L3fecVeH89kjAQIECNwkoADOfR0UwLnzv3H6xyT5rSSPTfKURyG5P8kLbv1rCqALRIAAgZ4CCmDP3NbatQK4lmTv57wqydNO5e+BRzmKdwB7Z2z3BAgQ+AgBBXDuC6EAzp3/cvpXJLkvyZcn+adrcPgZwGtgeSkBAgT2JqAA7i2RbfejAG7rvadpS/YvT/L0JPeefv7vOvtTAK+j5bUECBDYmYACuLNANt6OArgx+I7GvTLJt5ze/bv5d/+9+/R7Aa/aqgJ4lZC/ToAAgR0LKIA7DmeDrSmAGyDvdMSDj7KvZyR5zRl7VgDPQPISAgQI7FVAAdxrMtvsSwHcxvmIUxTAI6bqTAQITCOgAE4T9SMeVAGcO/+R0yuAI3rWEiBAoFhAASwOoHi8AlgcQOPxCmDj8GydAAECCuDcd0ABnDv/kdMrgCN61hIgQKBYQAEsDqB4vAJYHEDj8Qpg4/BsnQABAgrg3HdAAZw7/5HTK4AjetYSIECgWEABLA6geLwCWBxA4/EKYOPwbJ0AAQIK4Nx3QAGcO/+R0yuAI3rWEiBAoFhAASwOoHi8AlgcQOPxCmDj8GydAAECCuDcd0ABnDv/kdMrgCN61hIgQKBYQAEsDqB4vAJYHEDj8Qpg4/BsnQABAgrg3HdAAZw7/5HTK4AjetYSIECgWEABLA6geLwCWBxA4/EKYOPwbJ0AAQIK4Nx3QAGcO/+R0yuAI3rWEiBAoFhAASwOoHi8AlgcQOPxCmDj8GydAAECCuDcd0ABnDv/kdMrgCN61hIgQKBYQAEsDqB4vAJYHEDj8Qpg4/BsnQABAgrg3HdAAZw7/5HTK4AjetYSIECgWEABLA6geLwCWBxA4/EKYOPwbJ0AAQIK4Nx3QAGcO/+R0yuAI3rWEiBAoFhAASwOoHi8AlgcQOPxCmDj8GydAAECCuDcd0ABnDv/kdMrgCN61hIgQKBYQAEsDqB4vAJYHEDj8Qpg4/BsnQABAgrg3HdAAZw7/5HTK4AjetYSIECgWEABLA6geLwCWBxA4/EKYOPwbJ0AAQIK4Nx3QAGcO/+R0yuAI3rWEiBAoFhAASwOoHi8AlgcQOPxCmDj8GydAAECCuDcd0ABnDv/kdMrgCN61hIgQKBYQAEsDqB4vAJYHEDj8Qpg4/BsnQABAgrg3HdAAZw7/5HTK4AjetYSIECgWEABLA6geLwCWBxA4/EKYOPwbJ0AAQIK4Nx3QAGcO/+R0yuAI3rWEiBAoFhAASwOoHi8AlgcQOPxCmDj8GydAAECCuDcd0ABnDv/kdMrgCN61hIgQKBYQAEsDqB4vAJYHEDj8Qpg4/BsnQABAgrg3HdAAZw7/5HTK4AjetYSIECgWEABLA6geLwCWBxA4/EKYOPwbJ0AAQIK4Nx3QAGcO/+R0yuAI3rWEiBAoFhAASwOoHi8AlgcQOPxCmDj8GydAAECCuDcd0ABnDv/kdMrgCN61hIgQKBYQAEsDqB4vAJYHEDj8Qpg4/BsnQABAgrg3HdAAZw7/5HTK4AjetYSIECgWEABLA6geLwCWBxA4/EKYOPwbJ0AAQIK4Nx3QAGcO/+R0yuAI3rWEiBAoFhAASwOoHi8AlgcQOPxCmDj8GydAAECCuDcd0ABnDv/kdMrgCN61hIgQKBYQAEsDqB4vAJYHEDj8Qpg4/BsnQABAgrg3HdAAZw7/5HTK4AjetYSIECgWEABLA6geLwCWBxA4/EKYOPwbJ0AAQIK4Nx3QAGcO/+R0yuAI3rWEiBAoFhAASwOoHi8AlgcQOPxCmDj8GydAAECCuDcd0ABnDv/kdMrgCN61hIgQKBYQAEsDqB4vAJYHEDj8Qpg4/BsnQABAgrg3HdAAZw7/5HTK4AjetYSIECgWEABLA6geLwCWBxA4/EKYOPwbJ0AAQIK4Nx3QAGcO/+R0yuAI3rWEiBAoFhAASwOoHi8AlgcQOPxCmDj8GydAAECCuDcd0ABnDv/kdMrgCN61hIgQKBYQAEsDqB4vAJYHEDj8Qpg4/BsnQABAgrg3HdAAZw7/5HTK4AjetYSIECgWEABLA6geLwCWBxA4/EKYOPwbJ0AAQIK4Nx3QAGcO/+R0yuAI3rWEiBAoFhAASwOoHi8AlgcQOPxCmDj8GydAAECCuDcd0ABnDv/G6f/kSQvSvLSJD9wJokCeCaUlxEgQGCPAgrgHlPZbk8K4HbWe5305CSvT/KeJG9QAPcak30RIEBgXQEFcF3Pbk9TALsltu5+Pz7JnyX57iTPT/JWBXBdYE8jQIDAXgUUwL0ms82+FMBtnPc65bVJ/iPJDyZ5owK415jsiwABAusLKIDrm3Z6ogLYKa119/rNSZ6XZPkW8PvOKIB3J1n+3Pi6J8kD9+a+3HnHXevuzNMIECBA4LYLKIC3nXjXAxTAXcdz2zb3xCRvSfKVSf7yNOWqdwDvT/KCW3ekAN62jDyYAAECt1VAAbytvLt/uAK4+4huywa/NslvJPnQTU//mCQPJvnf0zt9N/+15WXeAbwtUXgoAQIEagQUwBr3vUxVAPeSxLb7WL59+6m3jHx1kr9J8pIkbztjO34NzBlIXkKAAIG9CiiAe01mm30pgNs4d5hy1beAbz2DAtghVXskQIDAowgogHNfDQVw7vxvPr0C6C4QIEBgIgEFcKKwH+GoCuDc+Y+c3juAI3rWEiBAoFhAASwOoHi8AlgcQOPxCmDj8GydAAECCuDcd0ABnDv/kdMrgCN61hIgQKBYQAEsDqB4vAJYHEDj8Qpg4/BsnQABAgrg3HdAAZw7/5HTK4AjetYSIECgWEABLA6geLwCWBxA4/EKYOPwbJ0AAQIK4Nx3QAGcO/+R0yuAI3rWEiBAoFhAASwOoHi8AlgcQOPxCmDj8GydAAECCuDcd0ABnDv/kdMrgCN61hIgQKBYQAEsDqB4vAJYHEDj8Qpg4/BsnQABAgrg3HdAAZw7/5HTK4AjetYSIECgWEABLA6geLwCWBxA4/EKYOPwbJ0AAQIK4Nx3QAGcO/+R0yuAI3rWEiBAoFhAASwOoHi8AlgcQOPxCmDj8GydAAECCuDcd0ABnDv/kdMrgCN61hIgQKBYQAEsDqB4vAJYHEDj8Qpg4/BsnQABAgrg3HdAAZw7/5HTK4AjetYSIECgWEABLA6geLwCWBxA4/EKYOPwbJ0AAQIK4Nx3QAGcO/+R0yuAI3rWEiBAoFhAASwOoHi8AlgcQOPxCmDj8GydAAECCuDcd0ABnDv/kdMrgCN61hIgQKBYQAEsDqB4vAJYHEDj8Qpg4/BsnQABAgrg3HdAAZw7/5HTK4AjetYSIECgWEABLA6geLwCWBxA4/EKYOPwbJ0AAQIK4Nx3QAGcO/+R0yuAI3rWEiBAoFhAASwOoHi8AlgcQOPxCmDj8GydAAECCuDcd0ABnDv/kdMrgCN61hIgQKBYQAEsDqB4vAJYHEDj8Qpg4/BsnQABAgrg3HdAAZw7/5HTK4AjetYSIECgWEABLA6geLwCWBxA4/EKYOPwbJ0AAQIK4Nx3QAGcO/+R0yuAI3rWEiBAoFhAASwOoHi8AlgcQOPxCmDj8GydAAECCuDcd0ABnDv/kdMrgCN61hIgQKBYQAEsDqB4vAJYHEDj8Qpg4/BsnQABAgrg3HdAAZw7/5HTK4AjetYSIECgWEABLA6geLwCWBxA4/EKYOPwbJ0AAQIK4Nx3QAGcO/+R0yuAI3rWEiBAoFhAASwOoHi8AlgcQOPxCmDj8GydAAECCuDcd0ABnDv/kdMrgCN61hIgQKBYQAEsDqB4vAJYHEDj8Qpg4/BsnQABAgrg3HdAAZw7/5HTK4AjetYSIECgWEABLA6geLwCWBxA4/EKYOPwbJ0AAQIK4Nx3QAGcO/+R0yuAI3rWEiBAoFhAASwOoHi8AlgcQOPxCmDj8GydAAECCuDcd0ABnDv/kdMrgCN61hIgQKBYQAEsDqB4vAJYHEDj8Qpg4/BsnQABAgrg3HdAAZw7/5HTK4AjetYSIECgWEABLA6geLwCWBxA4/EKYOPwbJ0AAQIK4Nx3QAGcO/+R0yuAI3rWEiBAoFhAASwOoHi8AlgcQOPxCmDj8GydAAECCuDcd0ABnDv/kdMrgCN61hIgQKBYQAEsDqB4vAJYHEDj8Qpg4/BsnQABAgrg3HdAAZw7/5HTK4AjetYSIECgWEABLA6geLwCWBxA4/EKYOPwbJ0AAQIK4Nx3QAGcO/+R0yuAI3rWEiBAoFhAASwOoHi8AlgcQOPxCmDj8GydAAECCuDcd0ABnDv/kdMrgCN61hIgQKBYQAEsDqB4vAJYHEDj8Qpg4/BsnQABAgrg3HdAAZw7/5HTK4AjetYSIECgWEABLA6geLwCWBxA4/EKYOPwbJ0AAQIK4Nx3QAGcO/+R0yuAI3rWEiBAoFhAASwOoHi8AlgcQOPxCmDj8GydAAECCuDcd0ABnDv/kdMrgCN61hIgQKBYQAEsDqB4vAJYHEDj8Qpg4/BsnQABAgrg3HdAAZw7/8cneUmSpyX5uCT/kOQZSd5yBosCeAaSlxAgQGCvAgrgXpPZZl8K4DbOe5zyiUn+PMkbkrwqyb8l+fQk/3j6c9WeFcCrhPx1AgQI7FhAAdxxOBtsTQHcAHmnI16c5EuTfNmF+1MAL4SzjAABAnsQUAD3kELdHhTAOvvqyX+d5PeSPCHJU5O8I8krk/zCmRtTAM+E8jICBAjsUUAB3GMq2+1JAdzOem+T3nfa0E8n+bUkT07y0iTPSvLaR9js3UmWPze+7knywL25L3fecdfezmY/BAgQIHCFgAI49xVRAOfN//2nD3t8yU0ELzsVwS9+BJb7k7zg1v9dAZz3Ajk5AQK9BRTA3vmN7l4BHBXsu/6fk/xBku+46QjfleT5SZZPB9/65R3AvlnbOQECBB4moADOfSkUwHnz/+UkT7zlQyA/k+SLktz8ruCjCfkZwHnvjpMTIHAAAQXwACEOHEEBHMBrvnT5mb83nb6t+/okX3j6AMh3JnndGWdTAM9A8hICBAjsVUAB3Gsy2+xLAdzGea9TvibJi06//++fkiwfCPEp4L2mZV8ECBBYUUABXBGz4aMUwIah7WTL3gHcSRC2QYAAgUsEFMBL1I6zRgE8TpZbn0QB3FrcPAIECKwooACuiNnwUQpgw9B2smUFcCdB2AYBAgQuEVAAL1E7zhoF8DhZbn0SBXBrcfMIECCwooACuCJmw0cpgA1D28mWFcCdBGEbBAgQuERAAbxE7ThrFMDjZLn1SRTArcXNI0CAwIoCCuCKmA0fpQA2DG0nW1YAdxKEbRAgQOASAQXwErXjrFEAj5Pl1idRALcWN48AAQIrCiiAK2I2fJQC2DC0nWxZAdxJELZBgACBSwQUwEvUjrNGATxOllufRAHcWtw8AgQIrCigAK6I2fBRCmDD0HayZQVwJ0HYBgECBC4RUAAvUTvOGgXwOFlufRIFcGtx8wgQILCigAK4ImbDRymADUPbyZYVwJ0EYRsECBC4REABvETtOGsUwONkufVJFMCtxc0jQIDAigIK4IqYDR+lADYMbSdbVgB3EoRtECBA4BIBBfASteOsUQCPk+XWJ1EAtxY3jwABAisKKIArYjZ8lALYMLSdbFkB3EkQtkGAAIFLBBTAS9SOs0YBPE6WW59EAdxa3DwCBAisKKAArojZ8FEKYMPQdrJlBXAnQdgGAQIELhFQAC9RO84aBfA4WW59EgVwa3HzCBAgsKKAArgiZsNHKYANQ9vJlhXAnQRhGwQIELhEQAG8RO04axTA42S59UkUwK3FzSNAgMCKAgrgipgNH6UANgxtJ1tWAHcShG0QIEDgEgEF8BK146xRAI+T5dYnUQC3FjePAAECKwoogCtiNnyUAtgwtJ1sWQHcSRC2QYAAgUsEFMBL1I6zRgE8TpZbn0QB3FrcPAIECKwooACuiNnwUQpgw9B2smUFcCdB2AYBAgQuEVAAL1E7zhoF8DhZbn0SBXBrcfMIECCwooACuCJmw0cpgA1D28mWFcCdBGEbBAgQuERAAbxE7ThrFMDjZLn1SRTArcXNI0CAwIoCCuCKmA0fpQA2DG0nW1YAdxKEbRAgQOASAQXwErXjrFEAj5Pl1idRALcWN48AAQIrCiiAK2I2fJQC2DC0nWxZAdxJELZBgACBSwQUwEvUjrNGATxOllufRAHcWtw8AgQIrCigAK6I2fBRCmDD0HayZQVwJ0HYBgECBC4RUAAvUTvOGgXwOFlufRIFcGtx8wgQILCigAK4ImbDRymADUPbyZYVwJ0EYRsECBC4REABvETtOGsUwONkufVJFMCtxc0jQIDAigIK4IqYDR+lADYMbSdbVgB3EoRtECBA4BIBBfASteOsUQCPk+XWJ1EAtxY3jwABAisKKIArYjZ8lALYMLSdbFkB3EkQtkGAAIFLBBTAS9SOs0YBPE6WW59EAdxa3DwCBAisKKAArojZ8FEKYMPQdrJlBXAnQdgGAQIELhFQAC9RO84aBfA4WW59EgVwa3HzCBAgsKKAArgiZsNHKYANQ9vJlhXAnQRhGwQIELhEQAG8RO04axTA42S59UkUwK3FzSNAgMCKAgrgipgNH6UANgxtJ1tWAESr5p4AAA8GSURBVHcShG0QIEDgEgEF8BK146xRAI+T5dYnUQC3FjePAAECKwoogCtiNnyUAtgwtJ1sWQHcSRC2QYAAgUsEFMBL1I6zRgE8TpZbn0QB3FrcPAIECKwooACuiNnwUQpgw9B2smUFcCdB2AYBAgQuEVAAL1E7zhoF8DhZbn0SBXBrcfMIECCwooACuCJmw0cpgA1D28mWFcCdBGEbBAgQuERAAbxE7ThrFMDjZLn1SRTArcXNI0CAwIoCCuCKmA0fpQA2DG0nW1YAdxKEbRAgQOASAQXwErXjrFEAj5Pl1idRALcWN48AAQIrCiiAK2I2fJQC2DC0nWxZAdxJELZBgACBSwQUwEvUjrNGATxOllufRAHcWtw8AgQIrCigAK6I2fBRCmDD0HayZQVwJ0HYBgECBC4RUAAvUTvOGgXwOFlufRIFcGtx8wgQILCigAK4ImbDRymADUPbyZYVwJ0EYRsECBC4REABvETtOGsUwONkufVJFMCtxc0jQIDAigIK4IqYDR+lADYMbSdbVgB3EoRtECBA4BIBBfASteOsUQCPk+XWJ1EAtxY3jwABAisKKIArYjZ8lALYMLSVtvwxSe5P8q1JPiXJvyZ5TZKfSPLgGTMUwDOQvIQAAQJ7FVAA95rMNvtSALdx3uOUH03yQ0m+LclfJfmCJK9O8rwkLztjwwrgGUheQoAAgb0KKIB7TWabfSmA2zjvccpvJ3lnkm+/aXO/nuS9p3cFr9qzAniVkL9OgACBHQsogDsOZ4OtKYAbIO90xPIO4Hcm+aokf5fkc5P8/uldwdedsWcF8AwkLyFAgMBeBRTAvSazzb4UwG2c9zjlMUlemOSHk3woyfIzgcu3f1/0KJu9O8ny58bXPUkeuDf35c477trj+eyJAAECBD6KgAI49/VQAOfN/5uT/FSSZ59+BvDzkvzs6R3A1z4Cy/KBkRfc+r8rgPNeICcnQKC3gALYO7/R3SuAo4J91789yYuT/NxNR3j+6ef/nvQIx/IOYN+s7ZwAAQIPE1AA574UCuC8+f97kqXwveomgucmeUaSzziDxc8AnoHkJQQIENirgAK412S22ZcCuI3zHqcsv/PvK5I88/Qt4M9P8vNJfjHJc87YsAJ4BpKXECBAYK8CCuBek9lmXwrgNs57nLJ8iOPHkzw9ySeffhH0ryT5sSTvP2PDCuAZSF5CgACBvQoogHtNZpt9KYDbOB9xigJ4xFSdiQCBaQQUwGmifsSDKoBz5z9yegVwRM9aAgQIFAsogMUBFI9XAIsDaDxeAWwcnq0TIEBAAZz7DiiAc+c/cnoFcETPWgIECBQLKIDFARSPVwCLA2g8XgFsHJ6tEyBAQAGc+w4ogHPnP3J6BXBEz1oCBAgUCyiAxQEUj1cAiwNoPF4BbByerRMgQEABnPsOKIBz5z9yegVwRM9aAgQIFAsogMUBFI9XAIsDaDxeAWwcnq0TIEBAAZz7DiiAc+c/cnoFcETPWgIECBQLKIDFARSPVwCLA2g8XgFsHJ6tEyBAQAGc+w4ogHPnP3J6BXBEz1oCBAgUCyiAxQEUj1cAiwNoPF4BbByerRMgQEABnPsOKIBz5z9yegVwRM9aAgQIFAsogMUBFI9XAIsDaDxeAWwcnq0TIEBAAZz7DiiAc+c/cnoFcETPWgIECBQLKIDFARSPVwCLA2g8XgFsHJ6tEyBAQAGc+w4ogHPnP3J6BXBEz1oCBAgUCyiAxQEUj1cAiwNoPF4BbByerRMgQEABnPsOKIBz5z9yegVwRM9aAgQIFAsogMUBFI9XAIsDaDxeAWwcnq0TIEBAAZz7DiiAc+c/cnoFcETPWgIECBQLKIDFARSPVwCLA2g8XgFsHJ6tEyBAQAGc+w4ogHPnP3J6BXBEz1oCBAgUCyiAxQEUj1cAiwNoPF4BbByerRMgQEABnPsOKIBz5z9yegVwRM9aAgQIFAsogMUBFI9XAIsDaDxeAWwcnq0TIEBAAZz7DiiAc+c/cnoFcETPWgIECBQLKIDFARSPVwCLA2g8XgFsHJ6tEyBAQAGc+w4ogHPnP3J6BXBEz1oCBAgUCyiAxQEUj1cAiwNoPF4BbByerRMgQEABnPsOKIBz5z9yegVwRM9aAgQIFAsogMUBFI9XAIsDaDxeAWwcnq0TIEBAAZz7DiiAc+c/cnoFcETPWgIECBQLKIDFARSPVwCLA2g8XgFsHJ6tEyBAQAGc+w4ogHPnP3J6BXBEz1oCBAgUCyiAxQEUj1cAiwNoPF4BbByerRMgQEABnPsOKIBz5z9yegVwRM9aAgQIFAsogMUBFI9XAIsDaDxeAWwcnq0TIEBAAZz7DiiAc+c/cnoFcETPWgIECBQLKIDFARSPVwCLA2g8XgFsHJ6tEyBAQAGc+w4ogHPnP3J6BXBEz1oCBAgUCyiAxQEUj1cAiwNoPF4BbByerRMgQEABnPsOKIBz5z9yegVwRM9aAgQIFAsogMUBFI9XAIsDaDxeAWwcnq0TIEBAAZz7DiiAc+c/cnoFcETPWgIECBQLKIDFARSPVwCLA2g8XgFsHJ6tEyBAQAGc+w4ogHPnP3J6BXBEz1oCBAgUCyiAxQEUj1cAiwNoPF4BbByerRMgQEABnPsOKIBz5z9y+g8XwKfkq3Nn7hp5jrUECBAgUCDwwXwgf5TfWSZ/QpL3FGzByEIBBbAQv/noxyd5oPkZbJ8AAQIEkickeQeIuQQUwLnyXvO0y915XJL/XOGh95zK5PJ/Qms8b4Ut7fIRnM6LhdPVToyuNlpeMYPTcsZ/TfLgeSRedRQBBfAoSfY+x4e/nezbEFeGyOlKog+/gNPVToyuNnKXzjPyqqYCCmDT4A62bf8wOi9QTpzOE7j6Ve7S1UYK4HlGXtVUQAFsGtzBtu0fRucFyonTeQJXv8pdutpIATzPyKuaCiiATYM72LbvTvLcJC9K8j8HO9uax+F0nianq50YXW20vILTeU5e1VBAAWwYmi0TIECAAAECBEYEFMARPWsJECBAgAABAg0FFMCGodkyAQIECBAgQGBEQAEc0bOWAAECBAgQINBQQAFsGJotEyBAgAABAgRGBBTAET1r1xD4niTPTvIpSf4iyfcl+dM1HnyQZyyfjv66JE9K8t4kb0rynCR/e5Dz3a5j/MjpU+UvTfIDt2tI0+cu/xnHlyR5WpKPS/IPSZ6R5C1Nz3M7tv0xSe5P8q2n/29a/ksZr0nyE/6LGbeD2zMrBBTACnUzbwh8U5JfSvKsJH9y+gf1NyT5zCTvwvRhgd9N8qtJ3pzkziQvTPLZST4ryX8xekSBJyd5/ek/bv8GBfAjjD4xyZ8nWVxeleTfknx6kn88/XGlHhL40SQ/lOTbkvxVki9I8uokz0vyMkgEjiCgAB4hxb5nWErfUmy+93SExyR5e5KXJ3lx32Pd1p1/0qkcPzXJH97WST0f/vFJ/izJdyd5fpK3KoAfEeTy99WXJvmynvFutuvfTvLOJN9+08RfP70Lv7wr6ItAewEFsH2EbQ/wsUn+O8nXJ/nNm07x2iSPTXJf25Pd3o1/WpK/T/I5Sd52e0e1fPpyf/4jyQ8meaMC+LAM/zrJ7yV5QpLlXyLekeSVSX6hZdq3b9PLO4DfmeSrkvxdks9N8vundwVfd/vGejKB7QQUwO2sTfpIgced/uHzJUn++Ka/9JOnfzB9EbCHCSzvkP7WqSA/hc/DBL759C265VvA71MAH/GGLC7L108n+bUki9Xyc5LLj2Es5dnXQwLL32vLj1v8cJIPJVl+JnD59u/yXyvyReAQAgrgIWJseQgF8PqxLT+ztfzg/lL+Hrj+8kOveOLpQwxfmeQvTyf1DuDDI3//yWn5F68bX8vPtC1F8IsPfUOud7jlXyZ+6vQBteVnAD8vyc+e3gFUlK9n6dU7FVAAdxrMBNvyLeDrhfyK07fFvzzJP11v6RSv/tokv3F6t+bGgZd3bR5M8r+n/6br8k7O7F//nOQPknzHTRDfdfp5yeXTwb4eElh+Fnn5ecmfuwlk+ZnS5ef/lk/k+yLQXkABbB9h6wMsHwJZfuXL8qtflq/l2y7/kmQpOz4E8pDJ8vfo8qGYpye59/Tzf61Dv02bvyfJp97y7OVTm39z+pUnfl7yIZxfTrK8W3rzh0B+JsnyIxc3vyt4m2Jq89h/P5Xi5V33G1/Lr2Rafl3OZ7Q5hY0S+CgCCqDrUSmw/BqY5dspzzwVweX3tX3j6d+wl0/g+XroB/S/5fTu382/++/dp08kMnp0Ad8CfrjN8q3e5XdJvuD0q3K+8PQBkOUDDz7c8P+9lt/59xWn/29avgX8+Ul+Pskvnn4Pp7/vCLQXUADbR9j+AMuvgLnxi6CXX9nx/affCdj+YCsdYPkW5iN9Le9ELP+Q8qUAXvcOfM3pwwzL7/9bfpxg+UCITwF/pOLyjvKPn955/+Qkyy+C/pUkP5Zk+TlKXwTaCyiA7SN0AAIECBAgQIDA9QQUwOt5eTUBAgQIECBAoL2AAtg+QgcgQIAAAQIECFxPQAG8npdXEyBAgAABAgTaCyiA7SN0AAIECBAgQIDA9QQUwOt5eTUBAgQIECBAoL2AAtg+QgcgQIAAAQIECFxPQAG8npdXEyBAgAABAgTaCyiA7SN0AAIECBAgQIDA9QQUwOt5eTUBAgQIECBAoL2AAtg+QgcgQIAAAQIECFxPQAG8npdXEyBAgAABAgTaCyiA7SN0AAIECBAgQIDA9QQUwOt5eTUBAgQIECBAoL2AAtg+QgcgQIAAAQIECFxPQAG8npdXEyBAgAABAgTaCyiA7SN0AAIECBAgQIDA9QQUwOt5eTUBAgQIECBAoL2AAtg+QgcgQIAAAQIECFxPQAG8npdXEyBAgAABAgTaCyiA7SN0AAIECBAgQIDA9QQUwOt5eTUBAgQIECBAoL2AAtg+QgcgQIAAAQIECFxPQAG8npdXEyBAgAABAgTaCyiA7SN0AAIECBAgQIDA9QQUwOt5eTUBAgQIECBAoL2AAtg+QgcgQIAAAQIECFxPQAG8npdXEyBAgAABAgTaCyiA7SN0AAIECBAgQIDA9QQUwOt5eTUBAgQIECBAoL2AAtg+QgcgQIAAAQIECFxPQAG8npdXEyBAgAABAgTaC/w/ic2Mhv6pEQ4AAAAASUVORK5CYII=\" width=\"640\">"
      ],
      "text/plain": [
       "<IPython.core.display.HTML object>"
      ]
     },
     "metadata": {},
     "output_type": "display_data"
    },
    {
     "name": "stdout",
     "output_type": "stream",
     "text": [
      "Let's play Battleship!\n",
      "\n",
      "The size of the grid is 10x10. Enter your target location\n",
      "as x, y.\n"
     ]
    },
    {
     "data": {
      "application/vnd.jupyter.widget-view+json": {
       "model_id": "58fb5c29bd1544b7b1cb242877de4113",
       "version_major": 2,
       "version_minor": 0
      },
      "text/plain": [
       "A Jupyter Widget"
      ]
     },
     "metadata": {},
     "output_type": "display_data"
    }
   ],
   "source": [
    "%matplotlib notebook\n",
    "\n",
    "from ipywidgets import widgets\n",
    "from IPython.display import display\n",
    "import numpy as np\n",
    "import matplotlib.pyplot as plt\n",
    "import random\n",
    "\n",
    "# Create a 2d numpy array (simular to a python list but much faster.)\n",
    "battlefield = np.zeros((10, 10))\n",
    "\n",
    "def random_coord(battlefield):\n",
    "    x = random.randint(0, battlefield.shape[0]-1)\n",
    "    y = random.randint(0, battlefield.shape[1]-1)\n",
    "    return x, y\n",
    "\n",
    "ship_location = random_coord(battlefield)\n",
    "\n",
    "fig = plt.figure()\n",
    "bf = plt.imshow(battlefield, vmin=0, vmax=2)\n",
    "plt.show()\n",
    "\n",
    "print(\"\"\"Let's play Battleship!\n",
    "\n",
    "The size of the grid is 10x10. Enter your target location\n",
    "as x, y.\"\"\")\n",
    "coords = widgets.Text()\n",
    "display(coords)\n",
    "\n",
    "def update_map(sender):\n",
    "    x, y = [int(x) for x in sender.value.split(\", \")]\n",
    "    sender.value = \"\"\n",
    "    battlefield = bf.get_array()\n",
    "    if ship_location == (x, y):\n",
    "        battlefield[x, y] = 2\n",
    "        print(\"Congratulations! You sunk the battleship!\")\n",
    "    else:\n",
    "        battlefield[x, y] = 1\n",
    "    bf.set_array(battlefield)\n",
    "    fig.canvas.draw()\n",
    "\n",
    "coords.on_submit(update_map)"
   ]
  },
  {
   "cell_type": "markdown",
   "metadata": {
    "slideshow": {
     "slide_type": "slide"
    }
   },
   "source": [
    "## Handling errors in input\n",
    "\n",
    "I am quite sure that during the course of the game above you encountered some run-time errors. Perhaps you specified an index that was out of bounds, or perhaps you provided text as input when a number was expected. In real life, users make mistakes all the time. For this reason it is important to understand where errors may arise in a program and add code to catch these errors and make the program react in some sensible way. You can already see that errors can sometimes be very confusing to the user. Good error handling can be used to help the user understand what mistake was made and suggest a solution. In some cases you can even guess what was intended and correct automatically."
   ]
  },
  {
   "cell_type": "markdown",
   "metadata": {
    "slideshow": {
     "slide_type": "subslide"
    }
   },
   "source": [
    "Let's consider a simple example where we make a reference out of bounds in a list:"
   ]
  },
  {
   "cell_type": "code",
   "execution_count": 6,
   "metadata": {
    "slideshow": {
     "slide_type": "fragment"
    }
   },
   "outputs": [
    {
     "ename": "IndexError",
     "evalue": "tuple index out of range",
     "output_type": "error",
     "traceback": [
      "\u001b[0;31m---------------------------------------------------------------------------\u001b[0m",
      "\u001b[0;31mIndexError\u001b[0m                                Traceback (most recent call last)",
      "\u001b[0;32m<ipython-input-6-6a516db87396>\u001b[0m in \u001b[0;36m<module>\u001b[0;34m()\u001b[0m\n\u001b[1;32m      1\u001b[0m \u001b[0mplaces_i_would_rather_be\u001b[0m \u001b[0;34m=\u001b[0m \u001b[0;34m(\u001b[0m\u001b[0;34m\"pub\"\u001b[0m\u001b[0;34m,\u001b[0m \u001b[0;34m\"Fernanda de Noronha\"\u001b[0m\u001b[0;34m,\u001b[0m \u001b[0;34m\"Dolomites\"\u001b[0m\u001b[0;34m,\u001b[0m \u001b[0;34m\"anywhere but here\"\u001b[0m\u001b[0;34m)\u001b[0m\u001b[0;34m\u001b[0m\u001b[0m\n\u001b[1;32m      2\u001b[0m \u001b[0moption\u001b[0m \u001b[0;34m=\u001b[0m \u001b[0;36m4\u001b[0m \u001b[0;31m# lets assume that the user has given the input option 4\u001b[0m\u001b[0;34m\u001b[0m\u001b[0m\n\u001b[0;32m----> 3\u001b[0;31m \u001b[0mprint\u001b[0m\u001b[0;34m(\u001b[0m\u001b[0mplaces_i_would_rather_be\u001b[0m\u001b[0;34m[\u001b[0m\u001b[0moption\u001b[0m\u001b[0;34m]\u001b[0m\u001b[0;34m)\u001b[0m\u001b[0;34m\u001b[0m\u001b[0m\n\u001b[0m",
      "\u001b[0;31mIndexError\u001b[0m: tuple index out of range"
     ]
    }
   ],
   "source": [
    "places_i_would_rather_be = (\"pub\", \"Fernanda de Noronha\", \"Dolomites\", \"anywhere but here\")\n",
    "option = 4 # lets assume that the user has given the input option 4\n",
    "print(places_i_would_rather_be[option])"
   ]
  },
  {
   "cell_type": "markdown",
   "metadata": {
    "slideshow": {
     "slide_type": "fragment"
    }
   },
   "source": [
    "Here we can see we have an **IndexError** (i.e. a reference out of bounds) with the clarification that it is the **tuple index out of range**."
   ]
  },
  {
   "cell_type": "markdown",
   "metadata": {
    "slideshow": {
     "slide_type": "subslide"
    }
   },
   "source": [
    "The general way we deal with this issue in Python (and in many other programming languages) is to try to do what we indend to, and if it fails, we recover from the error. This is implemented using the *try-except* block:\n",
    "```\n",
    "try:\n",
    "    <statements we indend to do>\n",
    "except:\n",
    "    <statements for handling errors>\n",
    "```"
   ]
  },
  {
   "cell_type": "markdown",
   "metadata": {
    "slideshow": {
     "slide_type": "subslide"
    }
   },
   "source": [
    "If something goes wrong in the **try** block, Python raises an **exception** and the execution jumps immediately to the **except** block. Let's try an example:"
   ]
  },
  {
   "cell_type": "code",
   "execution_count": 7,
   "metadata": {
    "slideshow": {
     "slide_type": "subslide"
    }
   },
   "outputs": [
    {
     "name": "stdout",
     "output_type": "stream",
     "text": [
      "Where would you rather be (specify option 0-3)?\n",
      "0. Pub\n",
      "1. Fernanda de Noronha\n",
      "2. Dolomites\n",
      "3. Anywhere but here\n",
      "\n"
     ]
    },
    {
     "data": {
      "application/vnd.jupyter.widget-view+json": {
       "model_id": "87093c83f8c047f5ad3b4a36181e3458",
       "version_major": 2,
       "version_minor": 0
      },
      "text/plain": [
       "A Jupyter Widget"
      ]
     },
     "metadata": {},
     "output_type": "display_data"
    }
   ],
   "source": [
    "places_i_would_rather_be = (\"Pub\", \"Fernanda de Noronha\", \"Dolomites\", \"Anywhere but here\")\n",
    "glib_reply = (\"Don't drink and code.\", \"Rubbish broadband - couldn't stream Lost.\", \n",
    "                \"My first ski lesson was watching YouTube (don't try).\", \"Ah don't go...your great craic.\")\n",
    "\n",
    "msg = \"\"\"Where would you rather be (specify option 0-3)?\n",
    "0. %s\n",
    "1. %s\n",
    "2. %s\n",
    "3. %s\n",
    "\"\"\" % places_i_would_rather_be\n",
    "\n",
    "def process_answer(sender):\n",
    "    try:\n",
    "        option = int(sender.value)\n",
    "        print(glib_reply[option])\n",
    "    except:\n",
    "        print(\"ERROR: You need to specify an integer\")\n",
    "        return\n",
    "\n",
    "print(msg)\n",
    "widget_answer = widgets.Text()\n",
    "widget_answer.on_submit(process_answer)\n",
    "display(widget_answer)"
   ]
  },
  {
   "cell_type": "code",
   "execution_count": null,
   "metadata": {
    "collapsed": true
   },
   "outputs": [],
   "source": []
  },
  {
   "cell_type": "markdown",
   "metadata": {
    "slideshow": {
     "slide_type": "subslide"
    }
   },
   "source": [
    "In the above example the expected input is an integer. If the user types a string, e.g. \"Pub\", then a **ValueError** is raised, and the code except block is executed.\n",
    "\n",
    "However, what happens if you type 4, or 100? In that case it is a valid integer, but then it is used as an index to the tuple *glib\\_reply* it clearly references an element that does not exist. This results in an **IndexError**. But the error message we get back is still *ERROR: You need to specify an integer*. So, how can we make our error handling more intellegent?"
   ]
  },
  {
   "cell_type": "markdown",
   "metadata": {
    "slideshow": {
     "slide_type": "subslide"
    }
   },
   "source": [
    "Well, there are two solutions here. We can either break up our *try* block so we try the integer conversion and the glib reply separately, i.e.:"
   ]
  },
  {
   "cell_type": "code",
   "execution_count": 8,
   "metadata": {
    "slideshow": {
     "slide_type": "fragment"
    }
   },
   "outputs": [
    {
     "name": "stdout",
     "output_type": "stream",
     "text": [
      "Where would you rather be (specify option 0-3)?\n",
      "0. Pub\n",
      "1. Fernanda de Noronha\n",
      "2. Dolomites\n",
      "3. Anywhere but here\n",
      "\n"
     ]
    },
    {
     "data": {
      "application/vnd.jupyter.widget-view+json": {
       "model_id": "045b7787149b4ba2b0923cfbe37b4125",
       "version_major": 2,
       "version_minor": 0
      },
      "text/plain": [
       "A Jupyter Widget"
      ]
     },
     "metadata": {},
     "output_type": "display_data"
    }
   ],
   "source": [
    "def process_answer(sender):\n",
    "    try:\n",
    "        option = int(sender.value)\n",
    "    except:\n",
    "        print(\"ERROR: You need to specify an integer\")\n",
    "        return\n",
    "    try:\n",
    "        print(glib_reply[option])\n",
    "    except:\n",
    "        print(\"ERROR: You need to specify an integer between in the range 0-3.\")\n",
    "        return\n",
    "\n",
    "print(msg)\n",
    "widget_answer = widgets.Text()\n",
    "widget_answer.on_submit(process_answer)\n",
    "display(widget_answer)"
   ]
  },
  {
   "cell_type": "markdown",
   "metadata": {
    "slideshow": {
     "slide_type": "subslide"
    }
   },
   "source": [
    "However, an even better solution is to create an *except* block that is specialised for a specific error type, i.e.:"
   ]
  },
  {
   "cell_type": "code",
   "execution_count": 9,
   "metadata": {
    "slideshow": {
     "slide_type": "fragment"
    }
   },
   "outputs": [
    {
     "name": "stdout",
     "output_type": "stream",
     "text": [
      "Where would you rather be (specify option 0-3)?\n",
      "0. Pub\n",
      "1. Fernanda de Noronha\n",
      "2. Dolomites\n",
      "3. Anywhere but here\n",
      "\n"
     ]
    },
    {
     "data": {
      "application/vnd.jupyter.widget-view+json": {
       "model_id": "d81070492afd4c36a5e176756fb0f056",
       "version_major": 2,
       "version_minor": 0
      },
      "text/plain": [
       "A Jupyter Widget"
      ]
     },
     "metadata": {},
     "output_type": "display_data"
    }
   ],
   "source": [
    "def process_answer(sender):\n",
    "    try:\n",
    "        option = int(sender.value)\n",
    "        print(glib_reply[option])\n",
    "    except ValueError:\n",
    "        print(\"ERROR: You need to specify an integer\")\n",
    "        return\n",
    "    except IndexError:\n",
    "        print(\"ERROR: You need to specify an integer between in the range 0-3.\")\n",
    "        return\n",
    "    \n",
    "print(msg)\n",
    "widget_answer = widgets.Text()\n",
    "widget_answer.on_submit(process_answer)\n",
    "display(widget_answer)"
   ]
  },
  {
   "cell_type": "markdown",
   "metadata": {
    "slideshow": {
     "slide_type": "subslide"
    }
   },
   "source": [
    "This is still not perfect. What happens if you enter -1? Recall that negative indices traverse the list from the end to the beginning. Also, it is a bit messy that we have to print out the message and then call sys.exit to abort the program. We can deal with this issue more elegently if we **raise** our own error:"
   ]
  },
  {
   "cell_type": "code",
   "execution_count": 11,
   "metadata": {
    "slideshow": {
     "slide_type": "fragment"
    }
   },
   "outputs": [
    {
     "name": "stdout",
     "output_type": "stream",
     "text": [
      "Where would you rather be (specify option 0-3)?\n",
      "0. Pub\n",
      "1. Fernanda de Noronha\n",
      "2. Dolomites\n",
      "3. Anywhere but here\n",
      "\n"
     ]
    },
    {
     "data": {
      "application/vnd.jupyter.widget-view+json": {
       "model_id": "12c42dc12fb44b92bfc27389b0fa9034",
       "version_major": 2,
       "version_minor": 0
      },
      "text/plain": [
       "A Jupyter Widget"
      ]
     },
     "metadata": {},
     "output_type": "display_data"
    }
   ],
   "source": [
    "def process_answer(sender):\n",
    "    try:\n",
    "        option = int(sender.value)\n",
    "        if not (0 <= option <= 3):\n",
    "            raise IndexError\n",
    "        print(glib_reply[option])\n",
    "    except ValueError:\n",
    "        raise ValueError(\"You need to specify an integer value.\")\n",
    "    except IndexError:\n",
    "        raise IndexError(\"You need to specify an integer between in the range 0-3.\")\n",
    "    \n",
    "print(msg)\n",
    "widget_answer = widgets.Text()\n",
    "widget_answer.on_submit(process_answer)\n",
    "display(widget_answer)"
   ]
  },
  {
   "cell_type": "markdown",
   "metadata": {
    "slideshow": {
     "slide_type": "slide"
    }
   },
   "source": [
    "## <span style=\"color:blue\">Exercise 4.4: Use exceptions</span>\n",
    "Extend the program from Exercise 1 with a try-except block to handle the potential error that the user enters nothing (or invalid data such as a letter) for the Fahrenheit temperature."
   ]
  },
  {
   "cell_type": "code",
   "execution_count": null,
   "metadata": {
    "collapsed": true,
    "slideshow": {
     "slide_type": "subslide"
    }
   },
   "outputs": [],
   "source": []
  },
  {
   "cell_type": "markdown",
   "metadata": {
    "slideshow": {
     "slide_type": "slide"
    }
   },
   "source": [
    "## <span style=\"color:blue\">Exercise 4.5: Make the program from Exercise 4.2 safer</span>\n",
    "Extend the program from Exercise 4.2 to include exception handling such that missing (or invalid) values for *t* and *v0* are detected."
   ]
  },
  {
   "cell_type": "code",
   "execution_count": null,
   "metadata": {
    "collapsed": true,
    "slideshow": {
     "slide_type": "subslide"
    }
   },
   "outputs": [],
   "source": []
  },
  {
   "cell_type": "markdown",
   "metadata": {
    "slideshow": {
     "slide_type": "slide"
    }
   },
   "source": [
    "## <span style=\"color:blue\">Exercise 4.6: Test more in the program</span>\n",
    "Test if the *t* value read in the program from the previous exercise lies between $0$ and ${2v_0}/{g}$. If not, raise a *ValueError* exception in the *if* test on legal *t* values in the program from the previous exercise. Include the legal interval for *t* in the exception message."
   ]
  },
  {
   "cell_type": "code",
   "execution_count": null,
   "metadata": {
    "collapsed": true,
    "slideshow": {
     "slide_type": "subslide"
    }
   },
   "outputs": [],
   "source": []
  },
  {
   "cell_type": "markdown",
   "metadata": {
    "slideshow": {
     "slide_type": "slide"
    }
   },
   "source": [
    "## <span style=\"color:blue\">Exercise 4.7: Compute the distance it takes to stop a car</span>\n",
    "A car driver, driving at velocity $v_0$, suddenly puts on the brake. What braking distance $d$ is needed to stop the car? One can derive, from basic physics, that</br>\n",
    "$d = 0.5\\frac{v_0^2}{\\mu g}$</br>\n",
    "Make a program for computing $d$ using the above formula when the initial car velocity $v_0$ and the friction coefficient $\\mu$ are provided via the text widget. Run the\n",
    "program for two cases: $v_0$ = 120 and $v_0$ = 50 km/h, both with $\\mu$ = 0.3 ($\\mu$ is dimensionless). (Remember to convert the velocity from km/h to m/s before inserting the value in the formula!)"
   ]
  },
  {
   "cell_type": "code",
   "execution_count": null,
   "metadata": {
    "collapsed": true,
    "slideshow": {
     "slide_type": "subslide"
    }
   },
   "outputs": [],
   "source": []
  }
 ],
 "metadata": {
  "celltoolbar": "Slideshow",
  "kernelspec": {
   "display_name": "Python 3",
   "language": "python",
   "name": "python3"
  },
  "language_info": {
   "codemirror_mode": {
    "name": "ipython",
    "version": 3
   },
   "file_extension": ".py",
   "mimetype": "text/x-python",
   "name": "python",
   "nbconvert_exporter": "python",
   "pygments_lexer": "ipython3",
   "version": "3.5.2"
  }
 },
 "nbformat": 4,
 "nbformat_minor": 1
}
