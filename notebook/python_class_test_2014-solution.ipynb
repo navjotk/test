{
 "metadata": {
  "name": "",
  "signature": "sha256:a623f29496b1602fe268ebb0399fc26f082e951a43161caa8eaff7abb5ad06d2"
 },
 "nbformat": 3,
 "nbformat_minor": 0,
 "worksheets": [
  {
   "cells": [
    {
     "cell_type": "heading",
     "level": 1,
     "metadata": {},
     "source": [
      "2.18 Programming for Geoscientists class test - 14:00-16:00 18th December 2014\n"
     ]
    },
    {
     "cell_type": "markdown",
     "metadata": {},
     "source": [
      "#Test instructions\n",
      "\n",
      "* This test contains **5** questions each of which should be answered.\n",
      "* Write your program in a Python cell just under each question.\n",
      "* You can write an explanation of your solution as comments in your code.\n",
      "* In each case your solution program must fulfil all of the instructions - please check the instructions carefully and double check that your program fulfils all of the given instructions.\n",
      "* Save your work regularly.\n",
      "* At the end of the test you should email your IPython notebook document (i.e. this document) to [Gerard J. Gorman](http://www.imperial.ac.uk/people/g.gorman) at g.gorman@imperial.ac.uk"
     ]
    },
    {
     "cell_type": "markdown",
     "metadata": {},
     "source": [
      "**Question 1** \n",
      "\n",
      "* Correct the 5 errors in the following program.\n",
      "* In each case add a comment explaining the error and the fix.\n",
      "* To verify your answer remember that $sin ^2( x ) + cos ^2( x ) = 1$."
     ]
    },
    {
     "cell_type": "code",
     "collapsed": false,
     "input": [
      "from math import sin, cos\n",
      "x = pi /4\n",
      "1_val = sin^2( x ) + cos^2( x )\n",
      "print 1_VAL"
     ],
     "language": "python",
     "metadata": {},
     "outputs": []
    },
    {
     "cell_type": "code",
     "collapsed": false,
     "input": [
      "# Fix 1: pi needs to be imported from the math module before it can be used in the line below.\n",
      "from math import sin, cos, pi\n",
      "\n",
      "x = pi /4\n",
      "\n",
      "# Fix 2: 1_val is not a valid variable name - it cannot start with a number\n",
      "# Fix 3: raising something to a power is done using **, not ^\n",
      "# Fix 4: when calling sin or cos, it's name must be followed by the arguments in brackets. If we want to represent $\\sin^2(x)$\n",
      "# in Python, we have to write it like $\\sin(x)^2$, i.e. sin(x)**2.\n",
      "val = sin(x)**2 + cos(x)**2\n",
      "\n",
      "# Fix 5: variable names are case-sensitive in Python. val is not the same as VAL.\n",
      "print val"
     ],
     "language": "python",
     "metadata": {},
     "outputs": [
      {
       "output_type": "stream",
       "stream": "stdout",
       "text": [
        "1.0\n"
       ]
      }
     ],
     "prompt_number": 2
    },
    {
     "cell_type": "markdown",
     "metadata": {},
     "source": [
      "**Question 2**\n",
      "\n",
      "* Create a python list containing 101 evenly spaced values between -1.0 and 1.0.\n",
      "* Show how this could be more efficently done using NumPy.\n",
      "* Print out the values using a formatted print statement."
     ]
    },
    {
     "cell_type": "code",
     "collapsed": false,
     "input": [
      "n = 101 # The number of values\n",
      "start = -1.0\n",
      "end = 1.0\n",
      "dx = (end-start)/(n-1) # The distance between each value\n",
      "\n",
      "values = [start + i*dx for i in range(n)]\n",
      "print values\n",
      "\n",
      "from numpy import linspace\n",
      "values_numpy = linspace(start, end, n)\n",
      "\n",
      "for v in values_numpy:\n",
      "    print \"%.2f\" % (v)\n",
      "    "
     ],
     "language": "python",
     "metadata": {},
     "outputs": [
      {
       "output_type": "stream",
       "stream": "stdout",
       "text": [
        "[-1.0, -0.98, -0.96, -0.94, -0.92, -0.9, -0.88, -0.86, -0.84, -0.8200000000000001, -0.8, -0.78, -0.76, -0.74, -0.72, -0.7, -0.6799999999999999, -0.6599999999999999, -0.64, -0.62, -0.6, -0.5800000000000001, -0.56, -0.54, -0.52, -0.5, -0.48, -0.45999999999999996, -0.43999999999999995, -0.42000000000000004, -0.4, -0.38, -0.36, -0.33999999999999997, -0.31999999999999995, -0.29999999999999993, -0.28, -0.26, -0.24, -0.21999999999999997, -0.19999999999999996, -0.17999999999999994, -0.16000000000000003, -0.14, -0.12, -0.09999999999999998, -0.07999999999999996, -0.05999999999999994, -0.040000000000000036, -0.020000000000000018, 0.0, 0.020000000000000018, 0.040000000000000036, 0.06000000000000005, 0.08000000000000007, 0.10000000000000009, 0.1200000000000001, 0.14000000000000012, 0.15999999999999992, 0.17999999999999994, 0.19999999999999996, 0.21999999999999997, 0.24, 0.26, 0.28, 0.30000000000000004, 0.32000000000000006, 0.3400000000000001, 0.3600000000000001, 0.3800000000000001, 0.40000000000000013, 0.41999999999999993, 0.43999999999999995, 0.45999999999999996, 0.48, 0.5, 0.52, 0.54, 0.56, 0.5800000000000001, 0.6000000000000001, 0.6200000000000001, 0.6400000000000001, 0.6600000000000001, 0.6799999999999999, 0.7, 0.72, 0.74, 0.76, 0.78, 0.8, 0.8200000000000001, 0.8400000000000001, 0.8600000000000001, 0.8800000000000001, 0.9000000000000001, 0.9199999999999999, 0.94, 0.96, 0.98, 1.0]\n",
        "-1.00"
       ]
      },
      {
       "output_type": "stream",
       "stream": "stdout",
       "text": [
        "\n",
        "-0.98\n",
        "-0.96\n",
        "-0.94\n",
        "-0.92\n",
        "-0.90\n",
        "-0.88\n",
        "-0.86\n",
        "-0.84\n",
        "-0.82\n",
        "-0.80\n",
        "-0.78\n",
        "-0.76\n",
        "-0.74\n",
        "-0.72\n",
        "-0.70\n",
        "-0.68\n",
        "-0.66\n",
        "-0.64\n",
        "-0.62\n",
        "-0.60\n",
        "-0.58\n",
        "-0.56\n",
        "-0.54\n",
        "-0.52\n",
        "-0.50\n",
        "-0.48\n",
        "-0.46\n",
        "-0.44\n",
        "-0.42\n",
        "-0.40\n",
        "-0.38\n",
        "-0.36\n",
        "-0.34\n",
        "-0.32\n",
        "-0.30\n",
        "-0.28\n",
        "-0.26\n",
        "-0.24\n",
        "-0.22\n",
        "-0.20\n",
        "-0.18\n",
        "-0.16\n",
        "-0.14\n",
        "-0.12\n",
        "-0.10\n",
        "-0.08\n",
        "-0.06\n",
        "-0.04\n",
        "-0.02\n",
        "0.00\n",
        "0.02\n",
        "0.04\n",
        "0.06\n",
        "0.08\n",
        "0.10\n",
        "0.12\n",
        "0.14\n",
        "0.16\n",
        "0.18\n",
        "0.20\n",
        "0.22\n",
        "0.24\n",
        "0.26\n",
        "0.28\n",
        "0.30\n",
        "0.32\n",
        "0.34\n",
        "0.36\n",
        "0.38\n",
        "0.40\n",
        "0.42\n",
        "0.44\n",
        "0.46\n",
        "0.48\n",
        "0.50\n",
        "0.52\n",
        "0.54\n",
        "0.56\n",
        "0.58\n",
        "0.60\n",
        "0.62\n",
        "0.64\n",
        "0.66\n",
        "0.68\n",
        "0.70\n",
        "0.72\n",
        "0.74\n",
        "0.76\n",
        "0.78\n",
        "0.80\n",
        "0.82\n",
        "0.84\n",
        "0.86\n",
        "0.88\n",
        "0.90\n",
        "0.92\n",
        "0.94\n",
        "0.96\n",
        "0.98\n",
        "1.00\n"
       ]
      }
     ],
     "prompt_number": 11
    },
    {
     "cell_type": "markdown",
     "metadata": {},
     "source": [
      "**Question 3**\n",
      "\n",
      "* a. Write a python function that evaluates the equation below for input variables $x$ and $t$: $$f(x, t) = e^{-(x-3t)^2} \\sin \\left( 3\\pi \\left( x-t \\right) \\right)$$\n",
      "* b. Generate an array of $x$ values in the range $(-3.0, 10)$.\n",
      "* c. Using this array of x values, plot the function for $t=0.0$, $t=1.0$ and $t=2.0$."
     ]
    },
    {
     "cell_type": "code",
     "collapsed": false,
     "input": [
      "from numpy import *\n",
      "from pylab import *\n",
      "%pylab inline\n",
      "def f(x, t):\n",
      "    return exp(-(x-3*t)**2)*sin(3*pi*(x-t))\n",
      "\n",
      "n = 1000\n",
      "xarray = linspace(-3, 10, n)\n",
      "\n",
      "for t in [0, 1, 2]:\n",
      "    plot(xarray, f(xarray, t), label=r\"$t$ = %.1f\" % (t))\n",
      "xlabel(r\"$x$\")\n",
      "ylabel(r\"$f(x,t)$\")\n",
      "legend(loc=\"best\")\n",
      "show()"
     ],
     "language": "python",
     "metadata": {},
     "outputs": [
      {
       "output_type": "stream",
       "stream": "stdout",
       "text": [
        "Populating the interactive namespace from numpy and matplotlib\n"
       ]
      },
      {
       "output_type": "stream",
       "stream": "stderr",
       "text": [
        "WARNING: pylab import has clobbered these variables: ['power', 'draw_if_interactive', 'random', 'fft', 'linalg', 'info']\n",
        "`%pylab --no-import-all` prevents importing * from pylab and numpy\n"
       ]
      },
      {
       "metadata": {},
       "output_type": "display_data",
       "png": "[encoded data removed]",
       "text": [
        "<matplotlib.figure.Figure at 0x7f81202d9d50>"
       ]
      }
     ],
     "prompt_number": 47
    },
    {
     "cell_type": "markdown",
     "metadata": {},
     "source": [
      "**Question 4**\n",
      "\n",
      "* Write a program to read the data file *seismic.dat* and store the magnitude of the earthquakes in an numpy array.\n",
      "* How many earthquakes are there above magnitude 6.0?"
     ]
    },
    {
     "cell_type": "code",
     "collapsed": false,
     "input": [
      "from numpy import *\n",
      "f = open(\"seismic.dat\", \"r\")\n",
      "\n",
      "magnitude = []\n",
      "for line in f:\n",
      "    s = line.split()\n",
      "    magnitude.append(float(s[-1])) # The last column is the \"magnitude\"\n",
      "magnitude = array(magnitude)\n",
      "\n",
      "f.close()\n",
      "\n",
      "print magnitude\n",
      "\n",
      "count = 0\n",
      "for m in magnitude:\n",
      "    if m > 6.0:\n",
      "        count += 1\n",
      "print \"There are %d earthquakes above magnitude 6.0\" % (count)"
     ],
     "language": "python",
     "metadata": {},
     "outputs": [
      {
       "output_type": "stream",
       "stream": "stdout",
       "text": [
        "[ 6.6  6.1  5.2  5.   5.1  7.3  5.2  5.4  5.4  5.7  5.2  5.6  7.6  5.7  5.4\n",
        "  5.4  5.5  5.2  6.1  6.1  6.2  6.   5.2  5.6  5.1  5.5  5.2  5.2  6.7  5.5\n",
        "  6.5  5.6  6.   5.7  6.3  5.5  5.5  5.6  6.4  5.2  5.5  5.4  5.7  5.8  5.3\n",
        "  5.4  5.6  5.3  5.6  5.5  5.7  5.9  5.1  5.7  7.   6.4  5.6  5.2  6.1  6.7\n",
        "  5.9  5.4  5.9  5.6  5.8  6.1  5.   5.3  5.4  5.2  5.2  5.9  5.4  5.2  5.7\n",
        "  6.1  5.6  5.3  5.3  6.1  5.4  5.3  5.5  5.4  5.5  5.8  5.4  5.1  5.3  5.2\n",
        "  7.2  5.4  5.5  5.   5.   5.6  6.4  5.2  7.1  5.2  5.1  5.3  5.1  5.4  5.2\n",
        "  4.9  5.4  5.   5.1  5.4  5.1  5.2  5.3  5.   5.1  7.5  6.6  5.1  5.1  5.1\n",
        "  5.3  5.5  6.8  6.1  5.   5.3  5.3  6.6  5.6  5.9  5.2  5.4  5.3  5.1  5.1\n",
        "  5.1  4.9  7.8  5.4  5.1  5.8  5.2  5.1  5.5  5.3  5.   6.1  5.   5.2  5.1\n",
        "  5.3  5.6  5.3  5.   5.2  7.   4.8  4.9  5.   5.   5.   5.6  6.1  5.5  5.6\n",
        "  4.9  5.   5.   5.1  5.2  6.   4.9  5.2  5.6  5.5  4.8  5.2  5.7  5.4  5.8\n",
        "  4.9  5.2  4.9  6.   5.2  5.4  4.9  5.1  6.3  5.   5.   5.7  4.9  6.4  5.5\n",
        "  5.7  6.5  5.1  5.   6.6  5.6  5.9  5.9  5.4  5.2  5.   5.7]\n",
        "There are 34 earthquakes above magnitude 6.0\n"
       ]
      }
     ],
     "prompt_number": 21
    },
    {
     "cell_type": "markdown",
     "metadata": {},
     "source": [
      "**Question 5** The file *human_evolution.txt* holds information about various human species and their hight, weight, and brain volume. \n",
      "\n",
      "* Write a program that reads this file and stores the data in a python dictionary humans.\n",
      "* The dictionary key should correspond to the specie name (e.g., \u201chomo erectus\u201d), and the value should be a list containing the corresponding data. For example, humans[\"H. habilis\"] should give [\"2.2 - 1.6\", \"1.0 - 1.5\", \"33 - 55\", \"660\"].\n",
      "* Write out the humans dictionary in a formatted tabular form."
     ]
    },
    {
     "cell_type": "code",
     "collapsed": false,
     "input": [
      "f = open(\"human_evolution.txt\", \"r\")\n",
      "\n",
      "humans = {}\n",
      "\n",
      "for line in f:\n",
      "    # Ignore lines that don't start with \"H.\"\n",
      "    if(line[0:2] != \"H.\"):\n",
      "        continue\n",
      "    \n",
      "    # Get each column and strip out leading and trailing whitespace\n",
      "    name = line[0:21].strip()\n",
      "    lived = line[21:37].strip()\n",
      "    height = line[37:50].strip()\n",
      "    mass = line[50:62].strip()\n",
      "    brain_volume = line[62:].strip()\n",
      "    \n",
      "    # Add to dictionary\n",
      "    humans[name] = [lived, height, mass, brain_volume]\n",
      "f.close()\n",
      "\n",
      "# Test\n",
      "print humans[\"H. habilis\"]\n",
      "\n",
      "print \"%25s %25s %25s %25s %25s\" % (\"Species\", \"Lived when (M. years)\", \"Adult height (m)\", \"Adult mass (kg)\", \"Brain volume (cm**3)\")\n",
      "for human in humans:\n",
      "    data = humans[human]\n",
      "    print \"%25s %25s %25s %25s %25s\" % (human, data[0], data[1], data[2], data[3])"
     ],
     "language": "python",
     "metadata": {},
     "outputs": [
      {
       "output_type": "stream",
       "stream": "stdout",
       "text": [
        "['2.2 - 1.6', '1.0 - 1.5', '33 - 55', '660']\n",
        "                  Species     Lived when (M. years)          Adult height (m)           Adult mass (kg)      Brain volume (cm**3)\n",
        "      H. neanderthalensis               0.35 - 0.03                       1.6                   55 - 70               1200 - 1700\n",
        "       H. sapiens sapiens             0.2 - present                 1.4 - 1.9                  50 - 100               1000 - 1850\n",
        "       H. heidelbergensis                0.6 - 0.35                       1.8                        60               1100 - 1400\n",
        "               H. erectus                 1.4 - 0.2                       1.8                        60 850 (early) - 1100 (late)\n",
        "          H. floresiensis              0.10 - 0.012                       1.0                        25                       400\n",
        "              H. ergaster                 1.9 - 1.4                       1.9                                           700 - 850\n",
        "               H. habilis                 2.2 - 1.6                 1.0 - 1.5                   33 - 55                       660\n"
       ]
      }
     ],
     "prompt_number": 46
    },
    {
     "cell_type": "code",
     "collapsed": false,
     "input": [],
     "language": "python",
     "metadata": {},
     "outputs": []
    }
   ],
   "metadata": {}
  }
 ]
}