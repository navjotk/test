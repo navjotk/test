{
 "cells": [
  {
   "cell_type": "markdown",
   "metadata": {},
   "source": [
    "# 2.18 Programming for Geoscientists class test - example paper based on 2012 2.18 exam"
   ]
  },
  {
   "cell_type": "markdown",
   "metadata": {},
   "source": [
    "#Test instructions\n",
    "\n",
    "* This test contains **5** questions each of which should be answered.\n",
    "* Write your program in a Python cell just under each question.\n",
    "* You can write an explanation of your solution as comments in your code.\n",
    "* In each case your solution program must fulfil all of the instructions - please check the instructions carefully and double check that your program fulfils all of the given instructions.\n",
    "* Save your work regularly.\n",
    "* At the end of the test you should email your IPython notebook document (i.e. this document) to [Gerard J. Gorman](http://www.imperial.ac.uk/people/g.gorman) at g.gorman@imperial.ac.uk"
   ]
  },
  {
   "cell_type": "markdown",
   "metadata": {},
   "source": [
    "**1.** Ignore this question from 2012 as it deals with material we have not discussed this year."
   ]
  },
  {
   "cell_type": "markdown",
   "metadata": {},
   "source": [
    "**2.** Write a program, that creates a *list* $t$ with 6 values, 0.1, 0.2, ..., 0.6. Compute a corresponding *list* $y$ of $y(t)$ values using the formula:\n",
    "$$y(t) = v_0t − gt^2,$$\n",
    "where $v_0=6.0$ and $g=9.8$.\n",
    "\n",
    "* Store these two lists, t and y, in a new list t1.\n",
    "* Write out a table with a column of t and a column of y values by traversing the data in the nested t1 list.\n",
    "* You may use list or NumPy array for t and y.\n",
    "* Print out a table header with the column names ’t’ and ’y’.\n",
    "* For printing the table, iterate the nested list t1, do not access the previously computed t and y lists directly.\n",
    "* Print out the table t1 using format specifiers so that the columns are aligned."
   ]
  },
  {
   "cell_type": "code",
   "execution_count": 1,
   "metadata": {
    "collapsed": false
   },
   "outputs": [
    {
     "name": "stdout",
     "output_type": "stream",
     "text": [
      "       t       y\n",
      "     0.1   0.502\n",
      "     0.2   0.808\n",
      "     0.3   0.918\n",
      "     0.4   0.832\n",
      "     0.5    0.55\n",
      "     0.6   0.072\n"
     ]
    }
   ],
   "source": [
    "t = [0.1*i for i in range(1, 7)]\n",
    "v0 = 6.0\n",
    "g = 9.8\n",
    "y = [v0*ti-g*ti**2 for ti in t]\n",
    "t1 = []\n",
    "for ti, yi in zip(t, y):\n",
    "    t1.append([ti, yi])\n",
    "    \n",
    "print \"%8s%8s\"%(\"t\", \"y\")\n",
    "for pair in t1:\n",
    "        print \"%8g%8g\"%(pair[0], pair[1])"
   ]
  },
  {
   "cell_type": "markdown",
   "metadata": {},
   "source": [
    "**3.** The factorial of n, written as n!, is defined as:\n",
    "$$n! = n(n − 1)(n − 2)...2\\cdot1,$$\n",
    "with the special cases\n",
    "$$1! = 1, 0! = 1.$$\n",
    "For example, $4! = 4\\cdot3\\cdot2\\cdot1 = 24$, and $2! = 2\\cdot1 = 2$.\n",
    "\n",
    "* Write a function fact(n) that returns $n!$. You **must** not use the *fact* function from the math module.\n",
    "* Return 1 immediately if $x$ is 1 or 0, otherwise use a loop to compute $n!$.\n",
    "* The function must be called *fact* and take a single argument called n.\n",
    "* The software should check that the supplied value is a non-negative integer. If it is not, raise a ValueError exception."
   ]
  },
  {
   "cell_type": "code",
   "execution_count": 2,
   "metadata": {
    "collapsed": false
   },
   "outputs": [
    {
     "name": "stdout",
     "output_type": "stream",
     "text": [
      "0! = 1\n",
      "1! = 1\n",
      "2! = 2\n",
      "3! = 6\n",
      "4! = 24\n"
     ]
    }
   ],
   "source": [
    "def fact(n):\n",
    "    if type(n) != int:\n",
    "        raise ValueError(\"value must be of type int\")\n",
    "    if n < 0:\n",
    "        raise ValueError(\"value must be positive\")\n",
    "    if n<2:\n",
    "            return 1\n",
    "    product = 1\n",
    "    for i in range(1, n+1):\n",
    "        product *= i\n",
    "    return product\n",
    "\n",
    "# Let's show that it works\n",
    "for i in range(5):\n",
    "    print \"%d! = %d\"%(i, fact(i))\n"
   ]
  },
  {
   "cell_type": "markdown",
   "metadata": {},
   "source": [
    "**4.** A table of temperatures and densities, in units of degrees ($C$) and $kg/m^3$, are given in the file *data/density\\_air.dat*\n",
    "Write a program that reads in the data from file into a list for temperature (first column) and density (second column) and plots the variation of density against temperature.\n",
    "\n",
    "* The input file contains blank lines and lines starting with a ’#’, which you must ignore when reading in the data.\n",
    "* You may use list or NumPy array for temperature and density.\n",
    "* Plot the variation of density against temperature.\n",
    "* Label the x axis \"Temperature (Celsius)\" and the y axis \"Density ($kg/m^3$)\".\n",
    "* Use the plot title \"Density of air at different temperatures, at 1 atm pressure\".\n",
    "* Display a legend with the label ’Air’."
   ]
  },
  {
   "cell_type": "code",
   "execution_count": 3,
   "metadata": {
    "collapsed": false
   },
   "outputs": [
    {
     "name": "stdout",
     "output_type": "stream",
     "text": [
      "Populating the interactive namespace from numpy and matplotlib\n"
     ]
    },
    {
     "data": {
      "text/plain": [
       "<matplotlib.legend.Legend at 0x10b6ef1d0>"
      ]
     },
     "execution_count": 3,
     "metadata": {},
     "output_type": "execute_result"
    },
    {
     "data": {
      "image/png": "[encoded data removed]",
      "text/plain": [
       "<matplotlib.figure.Figure at 0x1096cef50>"
      ]
     },
     "metadata": {},
     "output_type": "display_data"
    }
   ],
   "source": [
    "%pylab inline\n",
    "from pylab import *\n",
    "\n",
    "file = open(\"data/density_air.dat\")\n",
    "tlist = []\n",
    "dlist = []\n",
    "for line in file:\n",
    "    words = line.split()\n",
    "    if len(words) != 2:\n",
    "        continue\n",
    "    try:\n",
    "        t = float(words[0])\n",
    "        d = float(words[1])\n",
    "    except:\n",
    "        continue\n",
    "    tlist.append(t)\n",
    "    dlist.append(d)\n",
    "tarray = array(tlist)\n",
    "darray = array(dlist)\n",
    "\n",
    "plot(tarray, darray)\n",
    "xlabel(\"Temperature (Celsius)\")\n",
    "ylabel(\"Density ($kg/m^3$)\")\n",
    "title(\"Density of air at different temperatures, at 1 atm pressure\")\n",
    "legend((\"Air\", ))"
   ]
  },
  {
   "cell_type": "markdown",
   "metadata": {},
   "source": [
    "**5.** Based on the data in the file *data/constants.txt*, make a dictionary where the keys are the names of the physical constant and the values are a tuple containing the numerical value and the units.\n",
    "\n",
    "* Use a Python dictionary to store the data.\n",
    "* All numerical values should be of type float.\n",
    "* Print out the dictionary without any formatting."
   ]
  },
  {
   "cell_type": "code",
   "execution_count": 4,
   "metadata": {
    "collapsed": false
   },
   "outputs": [
    {
     "name": "stdout",
     "output_type": "stream",
     "text": [
      "{'Planck constant': (6.6260755e-34, 'J*s'), 'elementary charge': (1.60217733e-19, 'C'), 'speed of light': (299792458.0, 'm/s'), 'electron mass': (9.1093897e-31, 'kg'), 'Avogadro number': (6.0221367e+23, '1/mol'), 'proton mass': (1.6726231e-27, 'kg'), 'gravitational constant': (6.67259e-11, 'm**3/kg/s**2'), 'Boltzmann constant': (1.380658e-23, 'J/K')}\n"
     ]
    }
   ],
   "source": [
    "file = open(\"data/constants.txt\", \"r\")\n",
    "constants = {}\n",
    "for line in file:\n",
    "    try:\n",
    "        name = line[0:27].strip()\n",
    "        \n",
    "        words = line[27:].split()\n",
    "        value = float(words[0])\n",
    "        units = words[1]\n",
    "    except:\n",
    "        continue\n",
    "    \n",
    "    constants[name] = (value, units)\n",
    "\n",
    "print constants"
   ]
  },
  {
   "cell_type": "code",
   "execution_count": 4,
   "metadata": {
    "collapsed": false
   },
   "outputs": [],
   "source": []
  }
 ],
 "metadata": {
  "kernelspec": {
   "display_name": "Python 2",
   "language": "python",
   "name": "python2"
  },
  "language_info": {
   "codemirror_mode": {
    "name": "ipython",
    "version": 2
   },
   "file_extension": ".py",
   "mimetype": "text/x-python",
   "name": "python",
   "nbconvert_exporter": "python",
   "pygments_lexer": "ipython2",
   "version": "2.7.11"
  }
 },
 "nbformat": 4,
 "nbformat_minor": 0
}
