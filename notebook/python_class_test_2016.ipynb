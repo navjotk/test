{
 "cells": [
  {
   "cell_type": "markdown",
   "metadata": {},
   "source": [
    "# 2.18 Programming for Geoscientists class test 2016"
   ]
  },
  {
   "cell_type": "markdown",
   "metadata": {},
   "source": [
    "# Test instructions\n",
    "\n",
    "* This test contains **4** questions each of which should be answered.\n",
    "* Write your program in a Python cell just under each question.\n",
    "* You can write an explanation of your solution as comments in your code.\n",
    "* In each case your solution program must fulfil all of the instructions - please check the instructions carefully and double check that your program fulfils all of the given instructions.\n",
    "* Save your work regularly.\n",
    "* At the end of the test you should email your IPython notebook document (i.e. this document) to [Gerard J. Gorman](http://www.imperial.ac.uk/people/g.gorman) at g.gorman@imperial.ac.uk"
   ]
  },
  {
   "cell_type": "markdown",
   "metadata": {},
   "source": [
    "**1.** The following cells contain at least one programming bug each. For each cell add a comment to identify and explain the bug, and correct the program."
   ]
  },
  {
   "cell_type": "code",
   "execution_count": null,
   "metadata": {},
   "outputs": [],
   "source": [
    "# Function to calculate wave velocity.\n",
    "def wave_velocity(k, mu, rho):\n",
    "    vp = sqrt((k+4*mu/3)/rho)\n",
    "    \n",
    "    return vp\n",
    "\n",
    "# Use the function to calculate the velocity of an\n",
    "# acoustic wave in water.\n",
    "vp = wave_velocity(k=0, mu=2.29e9, rho=1000)"
   ]
  },
  {
   "cell_type": "code",
   "execution_count": null,
   "metadata": {},
   "outputs": [],
   "source": [
    "print \"Velocity of acoustic wave in water: %d\", vp"
   ]
  },
  {
   "cell_type": "code",
   "execution_count": null,
   "metadata": {},
   "outputs": [],
   "source": [
    "data = (3.14, 2.29, 10, 12)\n",
    "data.append(4)"
   ]
  },
  {
   "cell_type": "code",
   "execution_count": null,
   "metadata": {},
   "outputs": [],
   "source": [
    "line = \"2015-12-14T06:29:15.740Z,19.4333324,-155.2906647,1.66,2.14,ml,17,248,0.0123,0.36,hv,hv61126056,2015-12-14T06:34:58.500Z,5km W of Volcano, Hawaii,earthquake\"\n",
    "latitude = line.split(',')[1]\n",
    "longitude = line.split(',')[2]\n",
    "print \"longitude, latitude = (%g, %g)\"%(longitude, latitude)"
   ]
  },
  {
   "cell_type": "markdown",
   "metadata": {},
   "source": [
    "**2.** The Ricker wavelet is frequently employed to model seismic data. The amplitude of the Ricker wavelet with peak frequency $f$ at time $t$ is computed as:\n",
    "\n",
    "$$A = (1-2 \\pi^2 f^2 t^2) e^{-\\pi^2 f^2 t^2}$$\n",
    "\n",
    "* Implement a function which calculates the amplitude of the Ricker wavelet for a given peak frequency $f$ and time $t$.\n",
    "* Use a *for loop* to create a python *list* for time ranging from $-0.5$ to $0.5$, using a peak frequency, $f$, of $10$.\n",
    "* Using the function created above, calculate a numpy array of the Ricker wavelet amplitudes for these times.\n",
    "* Plot a graph of time against Ricker wavelet."
   ]
  },
  {
   "cell_type": "code",
   "execution_count": null,
   "metadata": {},
   "outputs": [],
   "source": []
  },
  {
   "cell_type": "markdown",
   "metadata": {},
   "source": [
    "**3.** The data file [vp.dat](data/vp.dat) (all of the data files are stored in the sub-folder *data/* of this notebook library) contains a profile of the acoustic velocity with respect to depth. Depth is measured with respect to a reference point; therefore the first few entries contain NaN's indicating that they are actually above ground.\n",
    "\n",
    "* Write a function to read in the depth and acoustic velocity.\n",
    "* Ensure you skip the entries that contain NaN's.\n",
    "* Store depth and velocities in two seperate numpy arrays.\n",
    "* Plot depth against velocity ensuring you label your axis."
   ]
  },
  {
   "cell_type": "code",
   "execution_count": null,
   "metadata": {},
   "outputs": [],
   "source": []
  },
  {
   "cell_type": "markdown",
   "metadata": {},
   "source": [
    "**4.** The file [BrachiopodBiometrics.csv](data/BrachiopodBiometrics.csv) contains the biometrics of Brachiopods found in 3 different locations.\n",
    "\n",
    "* Read the data file into a Python *dictionary*.\n",
    "* You should use the samples location as the *key*.\n",
    "* For each key you should form a Python *list* containing tuples of *length* and *width* of each sample.\n",
    "* For each location, calculate the mean length and width of the samples.\n",
    "* Print the result for each location using a formatted print statement. The mean values should only be printed to within one decimal place."
   ]
  },
  {
   "cell_type": "code",
   "execution_count": null,
   "metadata": {},
   "outputs": [],
   "source": []
  }
 ],
 "metadata": {
  "kernelspec": {
   "display_name": "Python 3",
   "language": "python",
   "name": "python3"
  },
  "language_info": {
   "codemirror_mode": {
    "name": "ipython",
    "version": 3
   },
   "file_extension": ".py",
   "mimetype": "text/x-python",
   "name": "python",
   "nbconvert_exporter": "python",
   "pygments_lexer": "ipython3",
   "version": "3.6.2"
  }
 },
 "nbformat": 4,
 "nbformat_minor": 1
}
