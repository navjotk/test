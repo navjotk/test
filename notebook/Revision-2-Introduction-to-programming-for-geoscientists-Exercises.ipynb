{
 "metadata": {
  "name": "Revision-2-Introduction-to-programming-for-geoscientists-Exercises"
 },
 "nbformat": 3,
 "nbformat_minor": 0,
 "worksheets": [
  {
   "cells": [
    {
     "cell_type": "markdown",
     "metadata": {},
     "source": [
      "#Introduction to programming for Geoscientists (through Python)\n",
      "###[Gerard Gorman](http://www.imperial.ac.uk/people/g.gorman), [Christian Jacobs](http://www.imperial.ac.uk/people/c.jacobs10)"
     ]
    },
    {
     "cell_type": "markdown",
     "metadata": {},
     "source": [
      "#Revision Workshop 2"
     ]
    },
    {
     "cell_type": "markdown",
     "metadata": {},
     "source": [
      "* **Vectorised function**</br>\n",
      "Let $A$ be the two-dimensional array\n",
      "$$\n",
      "\\mathbf{A} = \\left\\lbrack\\begin{array}{ccc}\n",
      "0 & 12 & -1\\cr\n",
      "-1 & -1 & -1\\cr\n",
      "11 & 5 & 5\n",
      "\\end{array}\\right\\rbrack\n",
      "$$\n",
      "Implement and apply the function\n",
      "\n",
      "$$\n",
      "f(x) = x^3 + xe^x + 1\n",
      "$$\n",
      "\n",
      "to each element in $A$. Then calculate the result of the array expression $A^3 + Ae^A + 1$, and demonstrate that the end result of the two methods are the same."
     ]
    },
    {
     "cell_type": "markdown",
     "metadata": {},
     "source": [
      "* **Plot the viscosity of water**</br>\n",
      "The viscosity of water, $\\mu$, varies with the temperature $T$ (in Kelvin) according to\n",
      "\n",
      "$$\n",
      "\\mu = A\\times 10^{B/(T-C)}\n",
      "$$\n",
      "\n",
      "where $A$ = $2.414 \\times 10^{\u22125}$ Pa s, $B$ = 247.8 K, and $C$ = 140 K. Plot $\\mu(T)$ for $T$ between 0 and 100 degrees Celsius. Label the $x$ axis with \"temperature (C)\" and the $y$ axis with \"viscosity (Pa s)\". Note that $T$ in the formula for $\\mu$ must be in Kelvin."
     ]
    },
    {
     "cell_type": "markdown",
     "metadata": {},
     "source": [
      "* **Explore a function graphically**</br>\n",
      "The wave speed $c$ of water surface waves depends on the length $\\lambda$ of the waves. The following formula relates $c$ to $\\lambda$:\n",
      "\n",
      "$$\n",
      "c(\\lambda) = \\sqrt{\\frac{g\\lambda}{2\\pi}\\left(1 + s\\frac{4\\pi^2}{\\rho g \\lambda^2}\\right)\\tanh\\left(\\frac{2\\pi h}{\\lambda}\\right)}\n",
      "$$\n",
      "\n",
      "where $g$ is the acceleration of gravity, $s$ is the air-water surface tension ($7.9 \\times 10^{-2}$ N/m), $\\rho$ is the density of water (can be taken as 1000 kg/m$^3$ ), and $h$ is the water depth. Let us fix $h$ at 50 m. First make a plot of $c(\\lambda)$ for small $\\lambda$ (1 mm to 10 cm). Then make a plot $c(\\lambda)$ for larger $\\lambda$ (1 m to 2 km).\n"
     ]
    },
    {
     "cell_type": "markdown",
     "metadata": {},
     "source": [
      "* **Load experimental data from a file and plot it**</br>\n",
      "Suppose we have measured the oscillation period $T$ of a simple pendulum with a mass $m$ at the end of a massless rod of length $L$. We have varied $L$ and recorded the corresponding $T$ value. The measurements are found in a file *data/pendulum.dat*, containing two columns. The first column contains $L$ values and the second column has the corresponding $T$ values.</br></br>\n",
      "Load the $L$ and $T$ values into two arrays. Plot $L$ versus $T$ using circles for the data points."
     ]
    },
    {
     "cell_type": "markdown",
     "metadata": {},
     "source": [
      "* **Make a class for linear springs**</br>\n",
      "To elongate a spring a distance x, one needs to pull the spring with a force $kx$. The parameter $k$ is known as the spring constant. The corresponding potential energy in the spring is $\\frac{1}{2}kx$. Make a class for springs. Let the constructor \\_\\_init\\_\\_ store $k$ as a class attribute, and implement the methods *force(x)* and *energy(x)* for evaluating the force and the potential energy, respectively."
     ]
    }
   ],
   "metadata": {}
  }
 ]
}