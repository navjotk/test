{
 "metadata": {
  "name": "Revision-2-Introduction-to-programming-for-geoscientists-Solutions"
 },
 "nbformat": 3,
 "nbformat_minor": 0,
 "worksheets": [
  {
   "cells": [
    {
     "cell_type": "heading",
     "level": 1,
     "metadata": {},
     "source": [
      "Introduction to programming for Geoscientists (through Python)"
     ]
    },
    {
     "cell_type": "markdown",
     "metadata": {},
     "source": [
      "#Revision Workshop 2\n",
      "\n",
      "[Gerard J. Gorman](http://www.imperial.ac.uk/people/g.gorman) <g.gorman@imperial.ac.uk>"
     ]
    },
    {
     "cell_type": "markdown",
     "metadata": {},
     "source": [
      "* **Vectorised function**</br>\n",
      "Let $A$ be the two-dimensional array\n",
      "$$\n",
      "\\mathbf{A} = \\left\\lbrack\\begin{array}{ccc}\n",
      "0 & 12 & -1\\cr\n",
      "-1 & -1 & -1\\cr\n",
      "11 & 5 & 5\n",
      "\\end{array}\\right\\rbrack\n",
      "$$\n",
      "Implement and apply the function\n",
      "\n",
      "$$\n",
      "f(x) = x^3 + xe^x + 1\n",
      "$$\n",
      "\n",
      "to each element in $A$. Then calculate the result of the array expression $A^3 + Ae^A + 1$, and demonstrate that the end result of the two methods are the same."
     ]
    },
    {
     "cell_type": "code",
     "collapsed": false,
     "input": [
      "from math import exp\n",
      "from numpy import *\n",
      "def f(x):\n",
      "    return x**3 + x*exp(x) + 1\n",
      "\n",
      "A = array([[0, 12, -1],\n",
      "          [-1, -1, -1],\n",
      "          [11, 5, 5]])\n",
      "\n",
      "for i in range(0, len(A)):\n",
      "    for j in range(0, len(A)):\n",
      "        print \"A[%d][%d] = %d; f(A[%d][%d]) = %.2f\" % (i, j, A[i][j], i, j, f(A[i][j]))\n",
      "        \n",
      "print \"Result from vectorised function:\", f(A)\n",
      "    "
     ],
     "language": "python",
     "metadata": {},
     "outputs": [
      {
       "output_type": "stream",
       "stream": "stdout",
       "text": [
        "A[0][0] = 0; f(A[0][0]) = 1.00\n",
        "A[0][1] = 12; f(A[0][1]) = 1954786.50\n",
        "A[0][2] = -1; f(A[0][2]) = -0.37\n",
        "A[1][0] = -1; f(A[1][0]) = -0.37\n",
        "A[1][1] = -1; f(A[1][1]) = -0.37\n",
        "A[1][2] = -1; f(A[1][2]) = -0.37\n",
        "A[2][0] = 11; f(A[2][0]) = 659947.56\n",
        "A[2][1] = 5; f(A[2][1]) = 868.07\n",
        "A[2][2] = 5; f(A[2][2]) = 868.07\n",
        "Result from vectorised function: [[  1.00000000e+00   1.95478650e+06  -3.67879441e-01]\n",
        " [ -3.67879441e-01  -3.67879441e-01  -3.67879441e-01]\n",
        " [  6.59947559e+05   8.68065796e+02   8.68065796e+02]]\n"
       ]
      }
     ],
     "prompt_number": 3
    },
    {
     "cell_type": "markdown",
     "metadata": {},
     "source": [
      "* **Plot the viscosity of water**</br>\n",
      "The viscosity of water, $\\mu$, varies with the temperature $T$ (in Kelvin) according to\n",
      "\n",
      "$$\n",
      "\\mu = A\\times 10^{B/(T-C)}\n",
      "$$\n",
      "\n",
      "where $A$ = $2.414 \\times 10^{\u22125}$ Pa s, $B$ = 247.8 K, and $C$ = 140 K. Plot $\\mu(T)$ for $T$ between 0 and 100 degrees Celsius. Label the $x$ axis with \"temperature (C)\" and the $y$ axis with \"viscosity (Pa s)\". Note that $T$ in the formula for $\\mu$ must be in Kelvin."
     ]
    },
    {
     "cell_type": "code",
     "collapsed": false,
     "input": [
      "%pylab inline\n",
      "from numpy import *\n",
      "from pylab import *\n",
      "\n",
      "def viscosity(T):\n",
      "    A = 2.414e-5 # Pa s\n",
      "    B = 247.8 # K\n",
      "    C = 140.0 # K\n",
      "    return A*10**(B/(T - C))\n",
      "\n",
      "def C2K(C):\n",
      "    return C + 273.15\n",
      "\n",
      "N = 10 # Number of points\n",
      "T_celsius = linspace(0, 100, N)\n",
      "T_kelvin = C2K(T_celsius) # Convert to degrees Kelvin\n",
      "\n",
      "v = viscosity(T_kelvin)\n",
      "\n",
      "plot(T_celsius, v)\n",
      "xlabel(\"Temperature (C)\")\n",
      "ylabel(\"Viscosity (Pa s)\")\n",
      "show()"
     ],
     "language": "python",
     "metadata": {},
     "outputs": [
      {
       "output_type": "stream",
       "stream": "stdout",
       "text": [
        "\n",
        "Welcome to pylab, a matplotlib-based Python environment [backend: module://IPython.zmq.pylab.backend_inline].\n",
        "For more information, type 'help(pylab)'.\n"
       ]
      },
      {
       "output_type": "display_data",
       "png": "[encoded data removed]"
      }
     ],
     "prompt_number": 10
    },
    {
     "cell_type": "markdown",
     "metadata": {},
     "source": [
      "* **Explore a function graphically**</br>\n",
      "The wave speed $c$ of water surface waves depends on the length $\\lambda$ of the waves. The following formula relates $c$ to $\\lambda$:\n",
      "\n",
      "$$\n",
      "c(\\lambda) = \\sqrt{\\frac{g\\lambda}{2\\pi}\\left(1 + s\\frac{4\\pi^2}{\\rho g \\lambda^2}\\right)\\tanh\\left(\\frac{2\\pi h}{\\lambda}\\right)}\n",
      "$$\n",
      "\n",
      "where $g$ is the acceleration of gravity, $s$ is the air-water surface tension ($7.9 \\times 10^{-2}$ N/m), $\\rho$ is the density of water (can be taken as 1000 kg/m$^3$ ), and $h$ is the water depth. Let us fix $h$ at 50 m. First make a plot of $c(\\lambda)$ for small $\\lambda$ (1 mm to 10 cm). Then make a plot $c(\\lambda)$ for larger $\\lambda$ (1 m to 2 km).\n"
     ]
    },
    {
     "cell_type": "code",
     "collapsed": false,
     "input": [
      "%pylab inline\n",
      "from pylab import *\n",
      "g = 9.8 # m/s**2\n",
      "s = 7.9e-2 # N/m\n",
      "density = 1e3 # kg/m**3\n",
      "h = 50.0 # m\n",
      "\n",
      "def c(l):\n",
      "    a = (g*l)/(2*pi)\n",
      "    b = 1.0 + s*(4*pi**2)/(density*g*l**2)\n",
      "    c = tanh(2*pi*h/l)\n",
      "    return sqrt(a*b*c)\n",
      "\n",
      "small_l_array = linspace(1e-3, 0.1, 100) # Small l (1 mm to 10 cm)\n",
      "large_l_array = linspace(1.0, 2e3, 100) # Large l (1 m to 2 km)\n",
      "plot(small_l_array, c(small_l_array))\n",
      "xlabel(\"Wave length $\\lambda$\")\n",
      "ylabel(\"Wave speed c($\\lambda$)\")\n",
      "#plot(large_l_array, c(large_l_array))\n",
      "show()"
     ],
     "language": "python",
     "metadata": {},
     "outputs": [
      {
       "output_type": "stream",
       "stream": "stdout",
       "text": [
        "\n",
        "Welcome to pylab, a matplotlib-based Python environment [backend: module://IPython.zmq.pylab.backend_inline].\n",
        "For more information, type 'help(pylab)'.\n"
       ]
      },
      {
       "output_type": "display_data",
       "png": "[encoded data removed]"
      }
     ],
     "prompt_number": 23
    },
    {
     "cell_type": "markdown",
     "metadata": {},
     "source": [
      "* **Load experimental data from a file and plot it**</br>\n",
      "Suppose we have measured the oscillation period $T$ of a simple pendulum with a mass $m$ at the end of a massless rod of length $L$. We have varied $L$ and recorded the corresponding $T$ value. The measurements are found in a file *data/pendulum.dat*, containing two columns. The first column contains $L$ values and the second column has the corresponding $T$ values.</br></br>\n",
      "Load the $L$ and $T$ values into two arrays. Plot $L$ versus $T$ using circles for the data points."
     ]
    },
    {
     "cell_type": "code",
     "collapsed": false,
     "input": [
      "%pylab inline\n",
      "from pylab import *\n",
      "\n",
      "f = open(\"data/pendulum.dat\", \"r\")\n",
      "L = []\n",
      "T = []\n",
      "f.readline() # Skip the first line (because it's a header line)\n",
      "for line in f:\n",
      "    (l, t) = line.split()\n",
      "    L.append(float(l))\n",
      "    T.append(float(t))\n",
      "f.close()\n",
      "L = array(L)\n",
      "T = array(T)\n",
      "plot(L, T)\n",
      "xlabel(\"Length (L)\")\n",
      "ylabel(\"Oscillation period (T)\")\n",
      "show()"
     ],
     "language": "python",
     "metadata": {},
     "outputs": [
      {
       "output_type": "stream",
       "stream": "stdout",
       "text": [
        "\n",
        "Welcome to pylab, a matplotlib-based Python environment [backend: module://IPython.zmq.pylab.backend_inline].\n",
        "For more information, type 'help(pylab)'.\n"
       ]
      },
      {
       "output_type": "display_data",
       "png": "[encoded data removed]"
      }
     ],
     "prompt_number": 31
    },
    {
     "cell_type": "markdown",
     "metadata": {},
     "source": [
      "* **Make a class for linear springs**</br>\n",
      "To elongate a spring a distance x, one needs to pull the spring with a force $kx$. The parameter $k$ is known as the spring constant. The corresponding potential energy in the spring is $\\frac{1}{2}kx$. Make a class for springs. Let the constructor \\_\\_init\\_\\_ store $k$ as a class attribute, and implement the methods *force(x)* and *energy(x)* for evaluating the force and the potential energy, respectively."
     ]
    },
    {
     "cell_type": "code",
     "collapsed": false,
     "input": [
      "class Spring:\n",
      "    def __init__(self, k):\n",
      "        self.k = k\n",
      "    def force(self, x):\n",
      "        return self.k*x\n",
      "    def energy(self, x):\n",
      "        return 0.5*self.k*x\n",
      "    \n",
      "s = Spring(4900)\n",
      "print s.force(0.5)"
     ],
     "language": "python",
     "metadata": {},
     "outputs": [
      {
       "output_type": "stream",
       "stream": "stdout",
       "text": [
        "2450.0\n"
       ]
      }
     ],
     "prompt_number": 25
    }
   ],
   "metadata": {}
  }
 ]
}