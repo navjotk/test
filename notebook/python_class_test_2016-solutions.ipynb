{
 "cells": [
  {
   "cell_type": "markdown",
   "metadata": {},
   "source": [
    "# 2.18 Programming for Geoscientists class test 2016 - Solutions"
   ]
  },
  {
   "cell_type": "markdown",
   "metadata": {},
   "source": [
    "**1.** The following cells contain at least one programming bug each. For each cell add a comment to identify and explain the bug, and correct the program."
   ]
  },
  {
   "cell_type": "code",
   "execution_count": 1,
   "metadata": {},
   "outputs": [
    {
     "ename": "NameError",
     "evalue": "name 'sqrt' is not defined",
     "output_type": "error",
     "traceback": [
      "\u001b[0;31m---------------------------------------------------------------------------\u001b[0m",
      "\u001b[0;31mNameError\u001b[0m                                 Traceback (most recent call last)",
      "\u001b[0;32m<ipython-input-1-f613b80fa03d>\u001b[0m in \u001b[0;36m<module>\u001b[0;34m()\u001b[0m\n\u001b[1;32m      7\u001b[0m \u001b[0;31m# Use the function to calculate the velocity of an\u001b[0m\u001b[0;34m\u001b[0m\u001b[0;34m\u001b[0m\u001b[0m\n\u001b[1;32m      8\u001b[0m \u001b[0;31m# acoustic wave in water.\u001b[0m\u001b[0;34m\u001b[0m\u001b[0;34m\u001b[0m\u001b[0m\n\u001b[0;32m----> 9\u001b[0;31m \u001b[0mvp\u001b[0m \u001b[0;34m=\u001b[0m \u001b[0mwave_velocity\u001b[0m\u001b[0;34m(\u001b[0m\u001b[0mk\u001b[0m\u001b[0;34m=\u001b[0m\u001b[0;36m0\u001b[0m\u001b[0;34m,\u001b[0m \u001b[0mmu\u001b[0m\u001b[0;34m=\u001b[0m\u001b[0;36m2.29e9\u001b[0m\u001b[0;34m,\u001b[0m \u001b[0mrho\u001b[0m\u001b[0;34m=\u001b[0m\u001b[0;36m1000\u001b[0m\u001b[0;34m)\u001b[0m\u001b[0;34m\u001b[0m\u001b[0m\n\u001b[0m",
      "\u001b[0;32m<ipython-input-1-f613b80fa03d>\u001b[0m in \u001b[0;36mwave_velocity\u001b[0;34m(k, mu, rho)\u001b[0m\n\u001b[1;32m      1\u001b[0m \u001b[0;31m# Function to calculate wave velocity.\u001b[0m\u001b[0;34m\u001b[0m\u001b[0;34m\u001b[0m\u001b[0m\n\u001b[1;32m      2\u001b[0m \u001b[0;32mdef\u001b[0m \u001b[0mwave_velocity\u001b[0m\u001b[0;34m(\u001b[0m\u001b[0mk\u001b[0m\u001b[0;34m,\u001b[0m \u001b[0mmu\u001b[0m\u001b[0;34m,\u001b[0m \u001b[0mrho\u001b[0m\u001b[0;34m)\u001b[0m\u001b[0;34m:\u001b[0m\u001b[0;34m\u001b[0m\u001b[0m\n\u001b[0;32m----> 3\u001b[0;31m     \u001b[0mvp\u001b[0m \u001b[0;34m=\u001b[0m \u001b[0msqrt\u001b[0m\u001b[0;34m(\u001b[0m\u001b[0;34m(\u001b[0m\u001b[0mk\u001b[0m\u001b[0;34m+\u001b[0m\u001b[0;36m4\u001b[0m\u001b[0;34m*\u001b[0m\u001b[0mmu\u001b[0m\u001b[0;34m/\u001b[0m\u001b[0;36m3\u001b[0m\u001b[0;34m)\u001b[0m\u001b[0;34m/\u001b[0m\u001b[0mrho\u001b[0m\u001b[0;34m)\u001b[0m\u001b[0;34m\u001b[0m\u001b[0m\n\u001b[0m\u001b[1;32m      4\u001b[0m \u001b[0;34m\u001b[0m\u001b[0m\n\u001b[1;32m      5\u001b[0m     \u001b[0;32mreturn\u001b[0m \u001b[0mvp\u001b[0m\u001b[0;34m\u001b[0m\u001b[0m\n",
      "\u001b[0;31mNameError\u001b[0m: name 'sqrt' is not defined"
     ]
    }
   ],
   "source": [
    "# Function to calculate wave velocity.\n",
    "def wave_velocity(k, mu, rho):\n",
    "    vp = sqrt((k+4*mu/3)/rho)\n",
    "    \n",
    "    return vp\n",
    "\n",
    "# Use the function to calculate the velocity of an\n",
    "# acoustic wave in water.\n",
    "vp = wave_velocity(k=0, mu=2.29e9, rho=1000)"
   ]
  },
  {
   "cell_type": "markdown",
   "metadata": {},
   "source": [
    "The error here says that Python does not know what `sqrt` means, it is not part of its standard keywords. You need to import a library that defines it in order to use it, in this case the `math` library."
   ]
  },
  {
   "cell_type": "code",
   "execution_count": 2,
   "metadata": {
    "collapsed": true
   },
   "outputs": [],
   "source": [
    "import math\n",
    "\n",
    "# Function to calculate wave velocity.\n",
    "def wave_velocity(k, mu, rho):\n",
    "    vp = math.sqrt((k+4*mu/3)/rho)\n",
    "    \n",
    "    return vp\n",
    "\n",
    "# Use the function to calculate the velocity of an\n",
    "# acoustic wave in water.\n",
    "vp = wave_velocity(k=0, mu=2.29e9, rho=1000)"
   ]
  },
  {
   "cell_type": "code",
   "execution_count": 3,
   "metadata": {},
   "outputs": [
    {
     "ename": "SyntaxError",
     "evalue": "Missing parentheses in call to 'print' (<ipython-input-3-eb47887afae1>, line 1)",
     "output_type": "error",
     "traceback": [
      "\u001b[0;36m  File \u001b[0;32m\"<ipython-input-3-eb47887afae1>\"\u001b[0;36m, line \u001b[0;32m1\u001b[0m\n\u001b[0;31m    print \"Velocity of acoustic wave in water: %d\", vp\u001b[0m\n\u001b[0m                                                 ^\u001b[0m\n\u001b[0;31mSyntaxError\u001b[0m\u001b[0;31m:\u001b[0m Missing parentheses in call to 'print'\n"
     ]
    }
   ],
   "source": [
    "print \"Velocity of acoustic wave in water: %d\", vp"
   ]
  },
  {
   "cell_type": "markdown",
   "metadata": {},
   "source": [
    "Two (or three) errors here: print is a function and needs to be called with brackets. Besides, the right hand side of a formatted print statement begins with a `%` symbol and not a comma. Finally, `vp` is a float, and would usually be printed with `%f` instead of `%d`, which is used to print integers. "
   ]
  },
  {
   "cell_type": "code",
   "execution_count": 4,
   "metadata": {},
   "outputs": [
    {
     "name": "stdout",
     "output_type": "stream",
     "text": [
      "Velocity of acoustic wave in water: 1747.378990\n"
     ]
    }
   ],
   "source": [
    "print(\"Velocity of acoustic wave in water: %f\" % vp)"
   ]
  },
  {
   "cell_type": "code",
   "execution_count": 5,
   "metadata": {},
   "outputs": [
    {
     "ename": "AttributeError",
     "evalue": "'tuple' object has no attribute 'append'",
     "output_type": "error",
     "traceback": [
      "\u001b[0;31m---------------------------------------------------------------------------\u001b[0m",
      "\u001b[0;31mAttributeError\u001b[0m                            Traceback (most recent call last)",
      "\u001b[0;32m<ipython-input-5-335867f042e4>\u001b[0m in \u001b[0;36m<module>\u001b[0;34m()\u001b[0m\n\u001b[1;32m      1\u001b[0m \u001b[0mdata\u001b[0m \u001b[0;34m=\u001b[0m \u001b[0;34m(\u001b[0m\u001b[0;36m3.14\u001b[0m\u001b[0;34m,\u001b[0m \u001b[0;36m2.29\u001b[0m\u001b[0;34m,\u001b[0m \u001b[0;36m10\u001b[0m\u001b[0;34m,\u001b[0m \u001b[0;36m12\u001b[0m\u001b[0;34m)\u001b[0m\u001b[0;34m\u001b[0m\u001b[0m\n\u001b[0;32m----> 2\u001b[0;31m \u001b[0mdata\u001b[0m\u001b[0;34m.\u001b[0m\u001b[0mappend\u001b[0m\u001b[0;34m(\u001b[0m\u001b[0;36m4\u001b[0m\u001b[0;34m)\u001b[0m\u001b[0;34m\u001b[0m\u001b[0m\n\u001b[0m",
      "\u001b[0;31mAttributeError\u001b[0m: 'tuple' object has no attribute 'append'"
     ]
    }
   ],
   "source": [
    "data = (3.14, 2.29, 10, 12)\n",
    "data.append(4)"
   ]
  },
  {
   "cell_type": "markdown",
   "metadata": {},
   "source": [
    "By using brackets, you define a **tuple**. A tuple is a data type that cannot be modified once created. If you want to change the data, including append an element, you need to use a **list**, which you can initialize with square brackets."
   ]
  },
  {
   "cell_type": "code",
   "execution_count": 6,
   "metadata": {
    "collapsed": true
   },
   "outputs": [],
   "source": [
    "data = [3.14, 2.29, 10, 12]\n",
    "data.append(4)"
   ]
  },
  {
   "cell_type": "code",
   "execution_count": 7,
   "metadata": {},
   "outputs": [
    {
     "ename": "SyntaxError",
     "evalue": "invalid syntax (<ipython-input-7-c99a8d99a836>, line 4)",
     "output_type": "error",
     "traceback": [
      "\u001b[0;36m  File \u001b[0;32m\"<ipython-input-7-c99a8d99a836>\"\u001b[0;36m, line \u001b[0;32m4\u001b[0m\n\u001b[0;31m    print \"longitude, latitude = (%g, %g)\"%(longitude, latitude)\u001b[0m\n\u001b[0m                                         ^\u001b[0m\n\u001b[0;31mSyntaxError\u001b[0m\u001b[0;31m:\u001b[0m invalid syntax\n"
     ]
    }
   ],
   "source": [
    "line = \"2015-12-14T06:29:15.740Z,19.4333324,-155.2906647,1.66,2.14,ml,17,248,0.0123,0.36,hv,hv61126056,2015-12-14T06:34:58.500Z,5km W of Volcano, Hawaii,earthquake\"\n",
    "latitude = line.split(',')[1]\n",
    "longitude = line.split(',')[2]\n",
    "print \"longitude, latitude = (%g, %g)\"%(longitude, latitude)"
   ]
  },
  {
   "cell_type": "markdown",
   "metadata": {},
   "source": [
    "There is first a bracket problem when doing the print:"
   ]
  },
  {
   "cell_type": "code",
   "execution_count": 8,
   "metadata": {},
   "outputs": [
    {
     "ename": "TypeError",
     "evalue": "must be real number, not str",
     "output_type": "error",
     "traceback": [
      "\u001b[0;31m---------------------------------------------------------------------------\u001b[0m",
      "\u001b[0;31mTypeError\u001b[0m                                 Traceback (most recent call last)",
      "\u001b[0;32m<ipython-input-8-0d9d95d2ccbb>\u001b[0m in \u001b[0;36m<module>\u001b[0;34m()\u001b[0m\n\u001b[1;32m      2\u001b[0m \u001b[0mlatitude\u001b[0m \u001b[0;34m=\u001b[0m \u001b[0mline\u001b[0m\u001b[0;34m.\u001b[0m\u001b[0msplit\u001b[0m\u001b[0;34m(\u001b[0m\u001b[0;34m','\u001b[0m\u001b[0;34m)\u001b[0m\u001b[0;34m[\u001b[0m\u001b[0;36m1\u001b[0m\u001b[0;34m]\u001b[0m\u001b[0;34m\u001b[0m\u001b[0m\n\u001b[1;32m      3\u001b[0m \u001b[0mlongitude\u001b[0m \u001b[0;34m=\u001b[0m \u001b[0mline\u001b[0m\u001b[0;34m.\u001b[0m\u001b[0msplit\u001b[0m\u001b[0;34m(\u001b[0m\u001b[0;34m','\u001b[0m\u001b[0;34m)\u001b[0m\u001b[0;34m[\u001b[0m\u001b[0;36m2\u001b[0m\u001b[0;34m]\u001b[0m\u001b[0;34m\u001b[0m\u001b[0m\n\u001b[0;32m----> 4\u001b[0;31m \u001b[0mprint\u001b[0m\u001b[0;34m(\u001b[0m\u001b[0;34m\"longitude, latitude = (%g, %g)\"\u001b[0m\u001b[0;34m%\u001b[0m\u001b[0;34m(\u001b[0m\u001b[0mlongitude\u001b[0m\u001b[0;34m,\u001b[0m \u001b[0mlatitude\u001b[0m\u001b[0;34m)\u001b[0m\u001b[0;34m)\u001b[0m\u001b[0;34m\u001b[0m\u001b[0m\n\u001b[0m",
      "\u001b[0;31mTypeError\u001b[0m: must be real number, not str"
     ]
    }
   ],
   "source": [
    "line = \"2015-12-14T06:29:15.740Z,19.4333324,-155.2906647,1.66,2.14,ml,17,248,0.0123,0.36,hv,hv61126056,2015-12-14T06:34:58.500Z,5km W of Volcano, Hawaii,earthquake\"\n",
    "latitude = line.split(',')[1]\n",
    "longitude = line.split(',')[2]\n",
    "print(\"longitude, latitude = (%g, %g)\"%(longitude, latitude))"
   ]
  },
  {
   "cell_type": "markdown",
   "metadata": {},
   "source": [
    "Now the problem is that `%g` can only print a number, but `longitude` and `latitude` are strings. This can be solved either by converting these two variables into floating point numbers, or by using `%s` to print them."
   ]
  },
  {
   "cell_type": "code",
   "execution_count": 9,
   "metadata": {},
   "outputs": [
    {
     "name": "stdout",
     "output_type": "stream",
     "text": [
      "longitude, latitude as strings = (-155.2906647, 19.4333324)\n",
      "longitude, latitude as floats = (-155.291, 19.4333)\n"
     ]
    }
   ],
   "source": [
    "line = \"2015-12-14T06:29:15.740Z,19.4333324,-155.2906647,1.66,2.14,ml,17,248,0.0123,0.36,hv,hv61126056,2015-12-14T06:34:58.500Z,5km W of Volcano, Hawaii,earthquake\"\n",
    "latitude = line.split(',')[1]\n",
    "longitude = line.split(',')[2]\n",
    "print(\"longitude, latitude as strings = (%s, %s)\"%(longitude, latitude))\n",
    "print(\"longitude, latitude as floats = (%g, %g)\"%(float(longitude), float(latitude)))"
   ]
  },
  {
   "cell_type": "markdown",
   "metadata": {},
   "source": [
    "**2.** The Ricker wavelet is frequently employed to model seismic data. The amplitude of the Ricker wavelet with peak frequency $f$ at time $t$ is computed as:\n",
    "\n",
    "$$A = (1-2 \\pi^2 f^2 t^2) e^{-\\pi^2 f^2 t^2}$$\n",
    "\n",
    "* Implement a function which calculates the amplitude of the Ricker wavelet for a given peak frequency $f$ and time $t$.\n",
    "* Use a *for loop* to create a python *list* for time ranging from $-0.5$ to $0.5$, using a peak frequency, $f$, of $10$.\n",
    "* Using the function created above, calculate a numpy array of the Ricker wavelet amplitudes for these times.\n",
    "* Plot a graph of time against Ricker wavelet."
   ]
  },
  {
   "cell_type": "code",
   "execution_count": 10,
   "metadata": {},
   "outputs": [
    {
     "name": "stdout",
     "output_type": "stream",
     "text": [
      "Populating the interactive namespace from numpy and matplotlib\n"
     ]
    },
    {
     "data": {
      "image/png": "[encoded data removed]",
      "text/plain": [
       "<matplotlib.figure.Figure at 0x104f21dd8>"
      ]
     },
     "metadata": {},
     "output_type": "display_data"
    }
   ],
   "source": [
    "# import the necessary modules. \n",
    "#Reminder: the following line imports numpy and the plotting modules\n",
    "%pylab inline\n",
    "\n",
    "# create a function that calculates the amplitude of the wavelet\n",
    "# this function takes two arguments: f and t\n",
    "def ricker_wavelet(f, t):\n",
    "    A1 = (1 - 2*pi**2 * f**2 * t**2)\n",
    "    A2 = exp(-pi**2 * f**2 * t**2)\n",
    "    return A1*A2\n",
    "\n",
    "# create a list containing 101 values between -0.5 and 0.5 included\n",
    "# NB the wording is a bit ambiguous, and a list spaced with 1/f=0.1 (ie 11 value) \n",
    "#    would have been accepted even if the plot is less accurate\n",
    "time_list = []\n",
    "for i in range(0,101):\n",
    "    t=-0.5+(i*0.01)\n",
    "    time_list.append(t)\n",
    "    \n",
    "# convert the list into a numpy array\n",
    "time_array = np.array(time_list)\n",
    "f = 10\n",
    "# call the previous function in a vectorized way\n",
    "amplitudes = ricker_wavelet(f, time_array)\n",
    "\n",
    "# plot the previous arrays\n",
    "plot(time_array ,amplitudes)\n",
    "xlabel(\"time/s\")\n",
    "ylabel(\"Ricker wavelet\")\n",
    "show()"
   ]
  },
  {
   "cell_type": "markdown",
   "metadata": {},
   "source": [
    "**3.** The data file [vp.dat](data/vp.dat) (all of the data files are stored in the sub-folder *data/* of this notebook library) contains a profile of the acoustic velocity with respect to depth. Depth is measured with respect to a reference point; therefore the first few entries contain NaN's indicating that they are actually above ground.\n",
    "\n",
    "* Write a function to read in the depth and acoustic velocity.\n",
    "* Ensure you skip the entries that contain NaN's.\n",
    "* Store depth and velocities in two seperate numpy arrays.\n",
    "* Plot depth against velocity ensuring you label your axis."
   ]
  },
  {
   "cell_type": "code",
   "execution_count": 11,
   "metadata": {},
   "outputs": [
    {
     "name": "stdout",
     "output_type": "stream",
     "text": [
      "Populating the interactive namespace from numpy and matplotlib\n"
     ]
    },
    {
     "name": "stderr",
     "output_type": "stream",
     "text": [
      "/usr/local/lib/python3.6/site-packages/IPython/core/magics/pylab.py:160: UserWarning: pylab import has clobbered these variables: ['f']\n",
      "`%matplotlib` prevents importing * from pylab and numpy\n",
      "  \"\\n`%matplotlib` prevents importing * from pylab and numpy\"\n"
     ]
    },
    {
     "data": {
      "image/png": "[encoded data removed]",
      "text/plain": [
       "<matplotlib.figure.Figure at 0x1059ed048>"
      ]
     },
     "metadata": {},
     "output_type": "display_data"
    }
   ],
   "source": [
    "%pylab inline\n",
    "\n",
    "# write a function to read the file\n",
    "def read_file(filename):\n",
    "\n",
    "    #read the file\n",
    "    infile=open(filename,\"r\")\n",
    "\n",
    "    # first, store the data in lists, as it is easier to append elements\n",
    "    # create empty lists\n",
    "    depth_list = []\n",
    "    velocity_list = []\n",
    "    \n",
    "    # loop over the lines of the file\n",
    "    for line in infile:\n",
    "        # the try/except catches lines that are not made of 2 numbers\n",
    "        try:\n",
    "            words = line.split()\n",
    "            # catch NaNs\n",
    "            if words[1]==\"nan\":\n",
    "                continue\n",
    "\n",
    "            depth_list.append(float(words[0]))\n",
    "            velocity_list.append(float(words[1]))\n",
    "        except:\n",
    "            continue\n",
    "            \n",
    "    # close the file\n",
    "    infile.close()\n",
    "\n",
    "    # then, convert lists into numpy arrays\n",
    "    depth_array = array(depth_list)\n",
    "    velocity_array = array(velocity_list)\n",
    "    \n",
    "    return depth_array, velocity_array\n",
    "    \n",
    "# run the function on the correct file\n",
    "depth, velocity = read_file(\"data/vp.dat\")\n",
    "\n",
    "# plot and decorate the plot\n",
    "plot(depth, velocity)\n",
    "xlabel(\"Depth (m)\")\n",
    "ylabel(\"Velocity (m/s)\")\n",
    "show()"
   ]
  },
  {
   "cell_type": "markdown",
   "metadata": {},
   "source": [
    "**4.** The file [BrachiopodBiometrics.csv](data/BrachiopodBiometrics.csv) contains the biometrics of Brachiopods found in 3 different locations.\n",
    "\n",
    "* Read the data file into a Python *dictionary*.\n",
    "* You should use the samples location as the *key*.\n",
    "* For each key you should form a Python *list* containing tuples of *length* and *width* of each sample.\n",
    "* For each location, calculate the mean length and width of the samples.\n",
    "* Print the result for each location using a formatted print statement. The mean values should only be printed to within one decimal place."
   ]
  },
  {
   "cell_type": "code",
   "execution_count": 12,
   "metadata": {},
   "outputs": [
    {
     "name": "stdout",
     "output_type": "stream",
     "text": [
      "At Harper's Quarry, the average length is: 3.2 and the average width is: 3.2\n",
      "At Pen Cerrig Wood, the average length is: 3.3 and the average width is: 3.2\n",
      "At   Rorrington Fm, the average length is: 4.0 and the average width is: 3.7\n"
     ]
    }
   ],
   "source": [
    "# open file\n",
    "infile = open(\"data/BrachiopodBiometrics.csv\",\"r\")\n",
    "\n",
    "# create an empty dictionary\n",
    "brachiopods_biometrics = {}\n",
    "\n",
    "# loop over the lines of the file\n",
    "for line in infile:\n",
    "\n",
    "    # I. first, analyze the line\n",
    "    try:\n",
    "        words = line.split(\",\")\n",
    "        location = words[0]\n",
    "        # lines like the first line will raise an exception here...\n",
    "        length = float(words[1])\n",
    "        width = float(words[2])\n",
    "    except:\n",
    "        # ... and be ignored\n",
    "        continue\n",
    "    \n",
    "    # II. then put the data into the appropriate data structure\n",
    "    # if the key is not already in the dictionary, \n",
    "    # create an entry in the dictionary with a key/value pair: location/empty list\n",
    "    if location not in brachiopods_biometrics:\n",
    "        brachiopods_biometrics[location] = []\n",
    "    # there is now always already a list as a value corresponding to the key,\n",
    "    # we can append a tuple (length, width)\n",
    "    brachiopods_biometrics[location].append((length, width))\n",
    "    \n",
    "# close the file when we are done using it\n",
    "infile.close()\n",
    "\n",
    "# Loop over the locations to compute the average widths and length\n",
    "for location in brachiopods_biometrics:\n",
    "    # initialize the averages with 0\n",
    "    avg_length = 0;\n",
    "    avg_width = 0;\n",
    "    # at this stage, for each location, the dictionary contains a list of tuples\n",
    "    sample_list = brachiopods_biometrics[location]\n",
    "    # loop over this list: each element of the list is a tuple (length, width)\n",
    "    for sample in sample_list:\n",
    "        # add the contribution of each sample to the average\n",
    "        avg_length += sample[0]\n",
    "        avg_width += sample[1]\n",
    "    \n",
    "    # finalize the average\n",
    "    num_samples = len(brachiopods_biometrics[location])\n",
    "    avg_length /= num_samples \n",
    "    avg_width /= num_samples\n",
    "    \n",
    "    # print it with a formatted print\n",
    "    print(\"At %15s, the average length is: %.1f and the average width is: %.1f\" %(location, avg_length, avg_width))\n",
    "    "
   ]
  },
  {
   "cell_type": "code",
   "execution_count": null,
   "metadata": {
    "collapsed": true
   },
   "outputs": [],
   "source": []
  }
 ],
 "metadata": {
  "kernelspec": {
   "display_name": "Python 3",
   "language": "python",
   "name": "python3"
  }
 },
 "nbformat": 4,
 "nbformat_minor": 2
}
