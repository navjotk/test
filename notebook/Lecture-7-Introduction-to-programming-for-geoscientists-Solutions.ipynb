{
 "cells": [
  {
   "cell_type": "markdown",
   "metadata": {},
   "source": [
    "# Introduction to programming for Geoscientists through Python"
   ]
  },
  {
   "cell_type": "markdown",
   "metadata": {},
   "source": [
    "# Lecture 7 solutions\n",
    "\n",
    "## Gerard J. Gorman (g.gorman@imperial.ac.uk) http://www.imperial.ac.uk/people/g.gorman"
   ]
  },
  {
   "cell_type": "markdown",
   "metadata": {},
   "source": [
    "* **Make a function class**</br>\n",
    "Make a class called *F* that implements the function\n",
    "\n",
    "$$f(x; a, w) = \\exp(−ax)\\sin(wx).$$\n",
    "\n",
    "A *value(x)* method computes values of *f*, while *a* and *w* are class attributes. Test the class with the following main program:\n"
   ]
  },
  {
   "cell_type": "markdown",
   "metadata": {},
   "source": [
    "```python\n",
    "from math import *\n",
    "f = F(a=1.0, w=0.1)\n",
    "print(f.value(x=pi))\n",
    "f.a = 2\n",
    "print(f.value(pi))\n",
    "```"
   ]
  },
  {
   "cell_type": "code",
   "execution_count": 1,
   "metadata": {},
   "outputs": [
    {
     "name": "stdout",
     "output_type": "stream",
     "text": [
      "0.01335383513703555\n",
      "0.0005770715401197441\n"
     ]
    }
   ],
   "source": [
    "# Sample solution 1\n",
    "\n",
    "from math import *\n",
    "class F:\n",
    "   def __init__(self, a, w):\n",
    "      self.a = a\n",
    "      self.w = w\n",
    "   def value(self, x):\n",
    "      f = exp(-self.a*x)*sin(self.w*x)\n",
    "      return f\n",
    "      \n",
    "# Testing code below\n",
    "f = F(a=1.0, w=0.1)\n",
    "print(f.value(x=pi))\n",
    "f.a = 2\n",
    "print(f.value(x=pi))"
   ]
  },
  {
   "cell_type": "markdown",
   "metadata": {},
   "source": [
    "* **Make a very simple class**</br>\n",
    "Make a class called *Simple* with one attribute *i*, one method *double* which replaces the value of *i* by *i+i*, and a constructor that initializes the attribute. Try out the following code for testing the class:"
   ]
  },
  {
   "cell_type": "markdown",
   "metadata": {},
   "source": [
    "```python\n",
    "s1 = Simple(4)\n",
    "for i in range(4):\n",
    "    s1.double()\n",
    "print(s1.i)\n",
    "\n",
    "s2 = Simple('Hello')\n",
    "s2.double(); s2.double()\n",
    "print(s2.i)\n",
    "s2.i = 100\n",
    "print(s2.i)\n",
    "```"
   ]
  },
  {
   "cell_type": "markdown",
   "metadata": {},
   "source": [
    "Before you run this code, convince yourself what the output of the *print* statements will be."
   ]
  },
  {
   "cell_type": "code",
   "execution_count": 2,
   "metadata": {},
   "outputs": [
    {
     "name": "stdout",
     "output_type": "stream",
     "text": [
      "64\n",
      "HelloHelloHelloHello\n",
      "100\n"
     ]
    }
   ],
   "source": [
    "# Sample solution 2\n",
    "\n",
    "class Simple:\n",
    "    def __init__(self, i):\n",
    "        self.i = i\n",
    "    def double(self):\n",
    "        self.i += self.i\n",
    "      \n",
    "# Testing code below\n",
    "s1 = Simple(4)\n",
    "for i in range(4):\n",
    "    s1.double()\n",
    "print(s1.i)\n",
    "\n",
    "s2 = Simple('Hello')\n",
    "s2.double(); s2.double()\n",
    "print(s2.i)\n",
    "s2.i = 100\n",
    "print(s2.i)"
   ]
  },
  {
   "cell_type": "markdown",
   "metadata": {},
   "source": [
    "* **Extend a class**</br>\n",
    "Add an attribute called *transactions* to the *Account* class given below. The new attribute counts the number of transactions done in the *deposit* and *withdraw* methods. The total number of transactions should be printed in the *dump* method. Write a simple test program to demonstrate that transaction gets the right value after some calls to *deposit* and *withdraw*."
   ]
  },
  {
   "cell_type": "code",
   "execution_count": 3,
   "metadata": {
    "collapsed": true
   },
   "outputs": [],
   "source": [
    "class Account:\n",
    "    def __init__(self, name, account_number, initial_amount):\n",
    "        self.name = name\n",
    "        self.no = account_number\n",
    "        self.balance = initial_amount\n",
    "        \n",
    "    def deposit(self, amount):\n",
    "        self.balance += amount\n",
    "        \n",
    "    def withdraw(self, amount):\n",
    "        self.balance -= amount\n",
    "        \n",
    "    def dump(self):\n",
    "        s = \"%s, %s, balance: %s\" % \\\n",
    "        (self.name, self.no, self.balance)\n",
    "        print(s)"
   ]
  },
  {
   "cell_type": "code",
   "execution_count": 4,
   "metadata": {},
   "outputs": [
    {
     "name": "stdout",
     "output_type": "stream",
     "text": [
      "Test, 1, balance: 150, number of transactions performed: 1\n",
      "Test, 1, balance: 130, number of transactions performed: 2\n"
     ]
    }
   ],
   "source": [
    "# Sample solution 3\n",
    "\n",
    "class Account:\n",
    "    def __init__(self, name, account_number, initial_amount):\n",
    "        self.name = name\n",
    "        self.no = account_number\n",
    "        self.balance = initial_amount\n",
    "        self.number_of_transactions = 0 # A counter to keep track of the number of transactions performed. This is initialised to zero when the account is set-up.\n",
    "        \n",
    "    def deposit(self, amount):\n",
    "        self.balance += amount\n",
    "        self.number_of_transactions += 1\n",
    "        \n",
    "    def withdraw(self, amount):\n",
    "        self.balance -= amount\n",
    "        self.number_of_transactions += 1\n",
    "        \n",
    "    def dump(self):\n",
    "        s = '%s, %s, balance: %s, number of transactions performed: %s' % \\\n",
    "        (self.name, self.no, self.balance, self.number_of_transactions)\n",
    "        print(s)\n",
    "        \n",
    "account = Account(\"Test\", 1, 100)\n",
    "account.deposit(50)\n",
    "account.dump()\n",
    "\n",
    "account.withdraw(20)\n",
    "account.dump()\n"
   ]
  },
  {
   "cell_type": "markdown",
   "metadata": {},
   "source": [
    "* **Make a class for straight lines**</br>\n",
    "Make a class called *Line* whose constructor takes two points $p_1$ and $p_2$ (2-tuples or 2-lists) as input. The line goes through these two points (see function *line* defined below for the relevant formula of the line). A *value(x)* method computes a value on the line at the point *x*."
   ]
  },
  {
   "cell_type": "code",
   "execution_count": 5,
   "metadata": {
    "collapsed": true
   },
   "outputs": [],
   "source": [
    "def line(x0, y0, x1, y1):\n",
    "    \"\"\"\n",
    "    Compute the coefficients a and b in the mathematical\n",
    "    expression for a straight line y = a*x + b that goes\n",
    "    through two points (x0, y0) and (x1, y1).\n",
    "    x0, y0: a point on the line (floats).\n",
    "    x1, y1: another point on the line (floats).\n",
    "    return: coefficients a, b (floats) for the line (y=a*x+b).\n",
    "    \"\"\"\n",
    "    a = (y1 - y0)/float(x1 - x0)\n",
    "    b = y0 - a*x0\n",
    "    return a, b"
   ]
  },
  {
   "cell_type": "code",
   "execution_count": 6,
   "metadata": {},
   "outputs": [
    {
     "name": "stdout",
     "output_type": "stream",
     "text": [
      "0.25\n"
     ]
    }
   ],
   "source": [
    "# Sample solution 4\n",
    "\n",
    "class Line:\n",
    "    def __init__(self, p1, p2):\n",
    "        self.p1 = p1\n",
    "        self.p2 = p2\n",
    "   \n",
    "    def value(self, x):\n",
    "        # This implements the function (defined above) in the class\n",
    "        a = (self.p2[1] - self.p1[1])/float(self.p2[0] - self.p1[0])\n",
    "        b = self.p1[1] - a*self.p1[0]\n",
    "        y = a*x + b\n",
    "        return y\n",
    "      \n",
    "l = Line([0, 0], [1, 0.5])\n",
    "print(l.value(0.5))"
   ]
  },
  {
   "cell_type": "markdown",
   "metadata": {},
   "source": [
    "* **Make a class for quadratic functions**</br>\n",
    "Consider a quadratic function $f(x; a, b, c) = ax^2 + bx + c$. Make a class called *Quadratic* for representing *f*, where *a*, *b*, and *c* are attributes, and the methods are:\n",
    "\n",
    "1. *value* for computing a value of *f* at a point *x*,\n",
    "2. *table* for writing out a table of *x* and *f* values for n *x* values in the\n",
    "interval *[L, R]*,\n",
    "3. *roots* for computing the two roots."
   ]
  },
  {
   "cell_type": "code",
   "execution_count": 7,
   "metadata": {},
   "outputs": [
    {
     "name": "stdout",
     "output_type": "stream",
     "text": [
      "7\n",
      "(-0.20871215252208009, -4.7912878474779195)\n",
      "x\t f(x)\n",
      "4.00\t 37.00\n",
      "4.11\t 38.46\n",
      "4.22\t 39.94\n",
      "4.33\t 41.44\n",
      "4.44\t 42.98\n",
      "4.56\t 44.53\n",
      "4.67\t 46.11\n",
      "4.78\t 47.72\n",
      "4.89\t 49.35\n",
      "5.00\t 51.00\n"
     ]
    }
   ],
   "source": [
    "# Sample solution 5\n",
    "\n",
    "from math import *\n",
    "from numpy import *\n",
    "class Quadratic:\n",
    "    def __init__(self, a, b, c):\n",
    "        # Initialise the class' attributes\n",
    "        self.a = a\n",
    "        self.b = b\n",
    "        self.c = c\n",
    "      \n",
    "    def value(self, x):\n",
    "        f = self.a*x**2 + self.b*x + self.c # Remember to use .self to access the class attributes\n",
    "        return f\n",
    "      \n",
    "    def table(self, L, R, n):\n",
    "        xarray = linspace(L, R, n)\n",
    "        print(\"x\\t f(x)\") # The \"\\t\" is a tab character.\n",
    "        for x in xarray:\n",
    "            print(\"%.2f\\t %.2f\" % (x, self.value(x)))\n",
    "         \n",
    "    def roots(self):\n",
    "        # Using the quadratic formula to compute the roots\n",
    "        x1 = (-self.b + sqrt(self.b**2 - 4*self.a*self.c))/(2.0*self.a)\n",
    "        x2 = (-self.b - sqrt(self.b**2 - 4*self.a*self.c))/(2.0*self.a)\n",
    "        return x1, x2\n",
    "      \n",
    "q = Quadratic(a=1, b=5, c=1)\n",
    "print(q.value(1))\n",
    "print(q.roots())\n",
    "q.table(4, 5, 10)"
   ]
  },
  {
   "cell_type": "markdown",
   "metadata": {},
   "source": [
    "* **A very simple \"Hello, World!\" class**</br>\n",
    "Make a class that can only do one thing: *print a* writes \"Hello, World!\" to the screen, where *a* is an instance of the class."
   ]
  },
  {
   "cell_type": "code",
   "execution_count": 8,
   "metadata": {},
   "outputs": [
    {
     "name": "stdout",
     "output_type": "stream",
     "text": [
      "Hello, World!\n"
     ]
    }
   ],
   "source": [
    "# Sample solution 6\n",
    "\n",
    "class Hello:\n",
    "    def __init__(self):\n",
    "        self.message = \"Hello, World!\"\n",
    "    def __str__(self):\n",
    "        return self.message\n",
    "      \n",
    "a = Hello()\n",
    "print(a)"
   ]
  },
  {
   "cell_type": "markdown",
   "metadata": {},
   "source": [
    "* **Use special methods**</br>\n",
    "Modify the class from the first exercise such that the following code works:"
   ]
  },
  {
   "cell_type": "markdown",
   "metadata": {},
   "source": [
    "```python\n",
    "f = F2(1.0, 0.1)\n",
    "print(f(pi))\n",
    "f.a = 2\n",
    "print(f(pi))\n",
    "print(f)```"
   ]
  },
  {
   "cell_type": "code",
   "execution_count": 9,
   "metadata": {},
   "outputs": [
    {
     "name": "stdout",
     "output_type": "stream",
     "text": [
      "0.01335383513703555\n",
      "0.0005770715401197441\n",
      "f(x; a, w) = exp(-a*x)*sin(w*x)\n"
     ]
    }
   ],
   "source": [
    "# Sample solution 7\n",
    "\n",
    "from math import *\n",
    "class F2:\n",
    "    def __init__(self, a, w):\n",
    "        self.a = a\n",
    "        self.w = w\n",
    "    def __call__(self, x):\n",
    "        # Evaluate the function f for a particular x value\n",
    "        f = exp(-self.a*x)*sin(self.w*x)\n",
    "        return f\n",
    "    def __str__(self):\n",
    "        return \"f(x; a, w) = exp(-a*x)*sin(w*x)\"\n",
    "    \n",
    "# Testing code below\n",
    "f = F2(1.0, 0.1)\n",
    "print(f(pi))\n",
    "f.a = 2\n",
    "print(f(pi))\n",
    "print(f)"
   ]
  }
 ],
 "metadata": {
  "kernelspec": {
   "display_name": "Python 3",
   "language": "python",
   "name": "python3"
  },
  "language_info": {
   "codemirror_mode": {
    "name": "ipython",
    "version": 3
   },
   "file_extension": ".py",
   "mimetype": "text/x-python",
   "name": "python",
   "nbconvert_exporter": "python",
   "pygments_lexer": "ipython3",
   "version": "3.5.2"
  }
 },
 "nbformat": 4,
 "nbformat_minor": 1
}
